{
  "nbformat": 4,
  "nbformat_minor": 0,
  "metadata": {
    "colab": {
      "provenance": []
    },
    "kernelspec": {
      "name": "python3",
      "display_name": "Python 3"
    },
    "language_info": {
      "name": "python"
    }
  },
  "cells": [
    {
      "cell_type": "code",
      "source": [
        "#함수\n",
        "def get_area(radius):   #radisu는 파라미터\n",
        "  area = 3.14*radius**2\n",
        "  return area\n",
        "\n",
        "result = get_area(3)    #전달하는 3은 argument 인수\n",
        "print(\"반지름이 3인 원의 면적 =\", result)"
      ],
      "metadata": {
        "colab": {
          "base_uri": "https://localhost:8080/"
        },
        "id": "dwYKfU9lcdNq",
        "outputId": "906c7d4a-323c-48b1-bdc8-1f9537bfd73c"
      },
      "execution_count": null,
      "outputs": [
        {
          "output_type": "stream",
          "name": "stdout",
          "text": [
            "반지름이 3인 원의 면적 = 28.26\n"
          ]
        }
      ]
    },
    {
      "cell_type": "code",
      "source": [
        "def a():\n",
        "  return 2,3\n",
        "\n",
        "x = a()\n",
        "print(x)\n",
        "print(type(x))"
      ],
      "metadata": {
        "colab": {
          "base_uri": "https://localhost:8080/"
        },
        "id": "SYzoZkLN_vGw",
        "outputId": "2786c8cb-bf47-4efb-b3a4-37724972e7ed"
      },
      "execution_count": null,
      "outputs": [
        {
          "output_type": "stream",
          "name": "stdout",
          "text": [
            "(2, 3)\n",
            "<class 'tuple'>\n"
          ]
        }
      ]
    },
    {
      "cell_type": "code",
      "source": [
        "def b():\n",
        "  pass    #헤더만 결정하고 몸체는 나중에 작성할때 사용"
      ],
      "metadata": {
        "id": "qAa1RZHSAcNg"
      },
      "execution_count": null,
      "outputs": []
    },
    {
      "cell_type": "code",
      "source": [
        "#가변인수\n",
        "def varfunc(*args) :\n",
        "  print(args)\n",
        "\n",
        "print(\"하나의 값으로 호출\")\n",
        "varfunc(10)\n",
        "\n",
        "print(\"여러 개의 값으로 호출\")\n",
        "varfunc(10,20,30)"
      ],
      "metadata": {
        "colab": {
          "base_uri": "https://localhost:8080/"
        },
        "id": "9gru2QqlAm4P",
        "outputId": "dae17ae9-e3b9-4d41-cc45-ececa3d5c310"
      },
      "execution_count": null,
      "outputs": [
        {
          "output_type": "stream",
          "name": "stdout",
          "text": [
            "하나의 값으로 호출\n",
            "(10,)\n",
            "여러 개의 값으로 호출\n",
            "(10, 20, 30)\n"
          ]
        }
      ]
    },
    {
      "cell_type": "code",
      "source": [
        "#딕셔너리\n",
        "a = {\"하나\":1, \"둘\":2, \"셋\":3}\n",
        "print(a)\n",
        "print(type(a))\n",
        "print(a[\"하나\"])\n",
        "print(a.values())\n",
        "print(a.keys())"
      ],
      "metadata": {
        "colab": {
          "base_uri": "https://localhost:8080/"
        },
        "id": "zgRUVEc-CRVV",
        "outputId": "c19c4013-2fea-41f8-a6fc-7cb0f276a8ec"
      },
      "execution_count": null,
      "outputs": [
        {
          "output_type": "stream",
          "name": "stdout",
          "text": [
            "{'하나': 1, '둘': 2, '셋': 3}\n",
            "<class 'dict'>\n",
            "1\n",
            "dict_values([1, 2, 3])\n",
            "dict_keys(['하나', '둘', '셋'])\n"
          ]
        }
      ]
    },
    {
      "cell_type": "code",
      "source": [
        "#순환호출 예제\n",
        "#팩토리얼 계산 프로그램\n",
        "def factorial(n):\n",
        "  if n == 1 :\n",
        "    return(1)\n",
        "  else :\n",
        "    return n * factorial(n-1)\n",
        "\n",
        "n = eval(input(\"정수를 입력하시오 : \"))\n",
        "print(n, \"!= \", factorial(n))"
      ],
      "metadata": {
        "colab": {
          "base_uri": "https://localhost:8080/"
        },
        "id": "ZLQiVHvTCiUe",
        "outputId": "364f6379-70f1-4f5e-f2ee-fc7e36e086b9"
      },
      "execution_count": null,
      "outputs": [
        {
          "output_type": "stream",
          "name": "stdout",
          "text": [
            "정수를 입력하시오 : 5\n",
            "5 !=  120\n"
          ]
        }
      ]
    },
    {
      "cell_type": "code",
      "source": [
        "#함수 안에서 전역 변수 변경하기\n",
        "gx = 100\n",
        "g = 200\n",
        "\n",
        "def myfunc():\n",
        "  global gx     #전역 변수 gx를 사용한다.\n",
        "  gx = g\n",
        "  print(gx)\n",
        "\n",
        "myfunc()\n",
        "print(gx)"
      ],
      "metadata": {
        "colab": {
          "base_uri": "https://localhost:8080/"
        },
        "id": "IRjoCvcjXZeQ",
        "outputId": "4e75b518-d169-463f-a33b-cedc7e9b2370"
      },
      "execution_count": null,
      "outputs": [
        {
          "output_type": "stream",
          "name": "stdout",
          "text": [
            "200\n",
            "200\n"
          ]
        }
      ]
    },
    {
      "cell_type": "code",
      "source": [
        "#zip 함수\n",
        "a = ['a','b','c']\n",
        "b = [1,2,3]\n",
        "\n",
        "list(zip(a,b))\n",
        "\n",
        "#zip 함수 예 2\n",
        "questions = ['name','quest','color']\n",
        "answers = ['Kim','파이썬','blue']\n",
        "\n",
        "for q, a in zip(questions, answers) :\n",
        "  print(f\"What is your {q}? It is {a}\")"
      ],
      "metadata": {
        "colab": {
          "base_uri": "https://localhost:8080/"
        },
        "id": "z_v_zlzD4QTr",
        "outputId": "718b19ca-5a36-428c-fb7e-150bd8893fa4"
      },
      "execution_count": null,
      "outputs": [
        {
          "output_type": "stream",
          "name": "stdout",
          "text": [
            "What is your name? It is Kim\n",
            "What is your quest? It is 파이썬\n",
            "What is your color? It is blue\n"
          ]
        }
      ]
    },
    {
      "cell_type": "code",
      "source": [
        "#append, extend 차이\n",
        "a = ['a','b','c']\n",
        "b = [1,2,3]\n",
        "\n",
        "a.append(b)\n",
        "print(a)"
      ],
      "metadata": {
        "colab": {
          "base_uri": "https://localhost:8080/"
        },
        "id": "Pzhk7-a16ANQ",
        "outputId": "d87508f2-4a67-4f84-e55e-8313007afa54"
      },
      "execution_count": null,
      "outputs": [
        {
          "output_type": "stream",
          "name": "stdout",
          "text": [
            "['a', 'b', 'c', [1, 2, 3]]\n"
          ]
        }
      ]
    },
    {
      "cell_type": "code",
      "source": [
        "a = ['a','b','c']\n",
        "b = [1,2,3]\n",
        "\n",
        "a.extend(b)\n",
        "print(a)"
      ],
      "metadata": {
        "colab": {
          "base_uri": "https://localhost:8080/"
        },
        "id": "l7ncpTBW7l0Y",
        "outputId": "65b73f41-cb7f-4029-ce13-6fcc2a7ced62"
      },
      "execution_count": null,
      "outputs": [
        {
          "output_type": "stream",
          "name": "stdout",
          "text": [
            "['a', 'b', 'c', 1, 2, 3]\n"
          ]
        }
      ]
    },
    {
      "cell_type": "code",
      "source": [
        "a = ['a','b','c']\n",
        "b = [1,2,3]\n",
        "\n",
        "print(a+b)"
      ],
      "metadata": {
        "colab": {
          "base_uri": "https://localhost:8080/"
        },
        "id": "HlTEyKgw7rMX",
        "outputId": "df2405f8-27d1-410c-c769-40816b37a77e"
      },
      "execution_count": null,
      "outputs": [
        {
          "output_type": "stream",
          "name": "stdout",
          "text": [
            "['a', 'b', 'c', 1, 2, 3]\n"
          ]
        }
      ]
    },
    {
      "cell_type": "code",
      "source": [
        "#예제 콘테스트 평가\n",
        "#심판들의 점수가 리스트에 저장되어 있다고 가정하고, 최소값과 최대값을 리스트에서 제거하는 프로그램을 작성\n",
        "scores = [10.0, 9.0, 8.3, 7.1, 3.0, 9.0]\n",
        "print(\"제거 전\", scores)\n",
        "scores.remove(max(scores))\n",
        "scores.remove(min(scores))\n",
        "print(\"제거 후\", scores)"
      ],
      "metadata": {
        "colab": {
          "base_uri": "https://localhost:8080/"
        },
        "id": "miIWsOim7_dG",
        "outputId": "a6d928b8-90d5-4621-9546-eab0da915b76"
      },
      "execution_count": null,
      "outputs": [
        {
          "output_type": "stream",
          "name": "stdout",
          "text": [
            "제거 전 [10.0, 9.0, 8.3, 7.1, 3.0, 9.0]\n",
            "제거 후 [9.0, 8.3, 7.1, 9.0]\n"
          ]
        }
      ]
    },
    {
      "cell_type": "code",
      "source": [
        "range(10)\n",
        "\n",
        "list(range(10))"
      ],
      "metadata": {
        "colab": {
          "base_uri": "https://localhost:8080/"
        },
        "id": "L3njSwpgAuM3",
        "outputId": "e7c30fc4-f4c4-49c0-e210-1f19d3ff6883"
      },
      "execution_count": null,
      "outputs": [
        {
          "output_type": "execute_result",
          "data": {
            "text/plain": [
              "[0, 1, 2, 3, 4, 5, 6, 7, 8, 9]"
            ]
          },
          "metadata": {},
          "execution_count": 10
        }
      ]
    },
    {
      "cell_type": "code",
      "source": [
        "#리스트 함축 (list comprehension)\n",
        "squares = []\n",
        "\n",
        "for x in range(10):\n",
        "  squares.append(x*x)\n",
        "print(squares)"
      ],
      "metadata": {
        "colab": {
          "base_uri": "https://localhost:8080/"
        },
        "id": "NAiLaSk1Bqx3",
        "outputId": "b737b4b5-c993-4256-f398-be0ebb1c36bf"
      },
      "execution_count": null,
      "outputs": [
        {
          "output_type": "stream",
          "name": "stdout",
          "text": [
            "[0, 1, 4, 9, 16, 25, 36, 49, 64, 81]\n"
          ]
        }
      ]
    },
    {
      "cell_type": "code",
      "source": [
        "#동일하게 작동하지만 함축해서 작성\n",
        "squares = [x*x for x in range(10)]\n",
        "\n",
        "print(squares)"
      ],
      "metadata": {
        "colab": {
          "base_uri": "https://localhost:8080/"
        },
        "id": "7AnqVqUfBbHB",
        "outputId": "17fc1eb5-b9c8-4ead-b591-6aa992a9d6a6"
      },
      "execution_count": null,
      "outputs": [
        {
          "output_type": "stream",
          "name": "stdout",
          "text": [
            "[0, 1, 4, 9, 16, 25, 36, 49, 64, 81]\n"
          ]
        }
      ]
    },
    {
      "cell_type": "code",
      "source": [
        "a = [x*y for x in range(10) for y in range(10)]\n",
        "print(a)\n",
        "#========================================\n",
        "a = []\n",
        "for x in range(10):\n",
        "   for y in range(10):\n",
        "     a.append(x*y)\n",
        "print(a)"
      ],
      "metadata": {
        "colab": {
          "base_uri": "https://localhost:8080/"
        },
        "id": "8uOtJ_orCWo3",
        "outputId": "f6846d5c-ea25-415b-da32-83d10ba8024b"
      },
      "execution_count": null,
      "outputs": [
        {
          "output_type": "stream",
          "name": "stdout",
          "text": [
            "[0, 0, 0, 0, 0, 0, 0, 0, 0, 0, 0, 1, 2, 3, 4, 5, 6, 7, 8, 9, 0, 2, 4, 6, 8, 10, 12, 14, 16, 18, 0, 3, 6, 9, 12, 15, 18, 21, 24, 27, 0, 4, 8, 12, 16, 20, 24, 28, 32, 36, 0, 5, 10, 15, 20, 25, 30, 35, 40, 45, 0, 6, 12, 18, 24, 30, 36, 42, 48, 54, 0, 7, 14, 21, 28, 35, 42, 49, 56, 63, 0, 8, 16, 24, 32, 40, 48, 56, 64, 72, 0, 9, 18, 27, 36, 45, 54, 63, 72, 81]\n",
            "[0, 0, 0, 0, 0, 0, 0, 0, 0, 0, 0, 1, 2, 3, 4, 5, 6, 7, 8, 9, 0, 2, 4, 6, 8, 10, 12, 14, 16, 18, 0, 3, 6, 9, 12, 15, 18, 21, 24, 27, 0, 4, 8, 12, 16, 20, 24, 28, 32, 36, 0, 5, 10, 15, 20, 25, 30, 35, 40, 45, 0, 6, 12, 18, 24, 30, 36, 42, 48, 54, 0, 7, 14, 21, 28, 35, 42, 49, 56, 63, 0, 8, 16, 24, 32, 40, 48, 56, 64, 72, 0, 9, 18, 27, 36, 45, 54, 63, 72, 81]\n"
          ]
        }
      ]
    },
    {
      "cell_type": "code",
      "source": [
        "a = [x*y for x in range(10) if x%2 == 0]\n",
        "print(a)\n",
        "#========================================\n",
        "a = []\n",
        "for x in range(10):\n",
        "   if x%2 == 0:\n",
        "     a.append(x*y)\n",
        "print(a)"
      ],
      "metadata": {
        "colab": {
          "base_uri": "https://localhost:8080/"
        },
        "id": "jteZhAgGC4qo",
        "outputId": "4e100ed8-229e-452c-bc80-04d37bd121fd"
      },
      "execution_count": null,
      "outputs": [
        {
          "output_type": "stream",
          "name": "stdout",
          "text": [
            "[0, 18, 36, 54, 72]\n",
            "[0, 18, 36, 54, 72]\n"
          ]
        }
      ]
    },
    {
      "cell_type": "code",
      "source": [
        "#다양한 리스트 함축\n",
        "prices = [135,-545,922,356,-992,217]\n",
        "mprices = []\n",
        "\n",
        "for i in prices :\n",
        "  if i>0 :\n",
        "    mprices.append(i)\n",
        "  else :\n",
        "    mprices.append(0)\n",
        "print(mprices)"
      ],
      "metadata": {
        "colab": {
          "base_uri": "https://localhost:8080/"
        },
        "id": "N2sE6DryDKVQ",
        "outputId": "b85b29e1-5b87-47fd-bebd-e37007c2def6"
      },
      "execution_count": null,
      "outputs": [
        {
          "output_type": "stream",
          "name": "stdout",
          "text": [
            "[135, 0, 922, 356, 0, 217]\n"
          ]
        }
      ]
    },
    {
      "cell_type": "code",
      "source": [
        "prices = [135,-545,922,356,-992,217]\n",
        "mprices = [i if i> 0 else 0 for i in prices]\n",
        "print(mprices)"
      ],
      "metadata": {
        "colab": {
          "base_uri": "https://localhost:8080/"
        },
        "id": "70gAl4TYD35g",
        "outputId": "e1918b88-0478-470d-9f2b-d15d3e03dc76"
      },
      "execution_count": null,
      "outputs": [
        {
          "output_type": "stream",
          "name": "stdout",
          "text": [
            "[135, 0, 922, 356, 0, 217]\n"
          ]
        }
      ]
    },
    {
      "cell_type": "code",
      "source": [
        "#다양한 리스트 함축\n",
        "numbers = []\n",
        "for x in ['a','b','c'] : \n",
        "  for y in ['x','y','z'] :\n",
        "    numbers.append(x+y)\n",
        "print(numbers)"
      ],
      "metadata": {
        "colab": {
          "base_uri": "https://localhost:8080/"
        },
        "id": "9ueIZJPaDiN_",
        "outputId": "5893f84c-4ca4-4f57-b04f-e7da2fe8bb73"
      },
      "execution_count": null,
      "outputs": [
        {
          "output_type": "stream",
          "name": "stdout",
          "text": [
            "['ax', 'ay', 'az', 'bx', 'by', 'bz', 'cx', 'cy', 'cz']\n"
          ]
        }
      ]
    },
    {
      "cell_type": "code",
      "source": [
        "numbers = [x+y for x in ['a','b','c'] for y in ['x','y','z']]\n",
        "print(numbers)"
      ],
      "metadata": {
        "colab": {
          "base_uri": "https://localhost:8080/"
        },
        "id": "k9yCP623EGwv",
        "outputId": "0656034a-a052-4ce6-c245-e1c37a6f9392"
      },
      "execution_count": null,
      "outputs": [
        {
          "output_type": "stream",
          "name": "stdout",
          "text": [
            "['ax', 'ay', 'az', 'bx', 'by', 'bz', 'cx', 'cy', 'cz']\n"
          ]
        }
      ]
    },
    {
      "cell_type": "code",
      "source": [
        "#다양한 리스트 함축\n",
        "words = ['All','good','things','must','come','to','an','end.']\n",
        "letters = [w[0] for w in words]\n",
        "print(letters)"
      ],
      "metadata": {
        "colab": {
          "base_uri": "https://localhost:8080/"
        },
        "id": "8J156r4DESNN",
        "outputId": "83efd790-bff7-4cdd-9f4e-6568e6eea800"
      },
      "execution_count": null,
      "outputs": [
        {
          "output_type": "stream",
          "name": "stdout",
          "text": [
            "['A', 'g', 't', 'm', 'c', 't', 'a', 'e']\n"
          ]
        }
      ]
    }
  ]
}