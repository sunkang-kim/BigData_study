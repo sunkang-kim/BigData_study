{
  "nbformat": 4,
  "nbformat_minor": 0,
  "metadata": {
    "colab": {
      "provenance": []
    },
    "kernelspec": {
      "name": "python3",
      "display_name": "Python 3"
    },
    "language_info": {
      "name": "python"
    }
  },
  "cells": [
    {
      "cell_type": "code",
      "execution_count": null,
      "metadata": {
        "id": "TboHuUPbmg9D",
        "colab": {
          "base_uri": "https://localhost:8080/"
        },
        "outputId": "ccfa0728-0949-4261-d8e2-39389c8bd04d"
      },
      "outputs": [
        {
          "output_type": "stream",
          "name": "stdout",
          "text": [
            "[0, 6, 12, 18, 24, 30, 36, 42, 48, 54, 60, 66, 72, 78, 84, 90, 96]\n"
          ]
        }
      ],
      "source": [
        "#리스트 함축 사용하기\n",
        "#0~99까지 정수 중에서 2의 배수이고 동시에 3의 배수인 수를 모아서 리스트로 만들어보자\n",
        "\n",
        "numbers = [x for x in range(100) if x%2 == 0 and x%3 ==0]\n",
        "print(numbers)"
      ]
    },
    {
      "cell_type": "code",
      "source": [
        "alist = ['짝수' if i%2 == 0 else '홀수' for i in range(10)]\n",
        "print(alist)"
      ],
      "metadata": {
        "colab": {
          "base_uri": "https://localhost:8080/"
        },
        "id": "YARIqyjCodiR",
        "outputId": "6af29c0b-3cc7-4b1e-ede1-a57f6576a21e"
      },
      "execution_count": null,
      "outputs": [
        {
          "output_type": "stream",
          "name": "stdout",
          "text": [
            "['짝수', '홀수', '짝수', '홀수', '짝수', '홀수', '짝수', '홀수', '짝수', '홀수']\n"
          ]
        }
      ]
    },
    {
      "cell_type": "code",
      "source": [
        "#2차원 리스트 \n",
        "s = [\n",
        "      [1,2,3,4,5],\n",
        "      [6,7,8,9,10],\n",
        "      [11,12,13,14,15]\n",
        "]\n",
        "print(s)\n",
        "print(s[1][2])\n",
        "print(s[1][2:4])"
      ],
      "metadata": {
        "colab": {
          "base_uri": "https://localhost:8080/"
        },
        "id": "jozc8abdpBoy",
        "outputId": "3daf59e2-d2b8-46c9-ee96-a90d56426900"
      },
      "execution_count": null,
      "outputs": [
        {
          "output_type": "stream",
          "name": "stdout",
          "text": [
            "[[1, 2, 3, 4, 5], [6, 7, 8, 9, 10], [11, 12, 13, 14, 15]]\n",
            "8\n",
            "[8, 9]\n"
          ]
        }
      ]
    },
    {
      "cell_type": "code",
      "source": [
        "#2차원 리스트와 리스트 함축\n",
        "matrix1 = []\n",
        "\n",
        "for _ in range(6) :       #_ 언더바도 변수로 사용이 가능하다\n",
        "  matrix2 = []\n",
        "  for i in range(5) :\n",
        "    matrix2.append(i)\n",
        "  matrix1.append(matrix2)\n",
        "\n",
        "print(matrix1)"
      ],
      "metadata": {
        "colab": {
          "base_uri": "https://localhost:8080/"
        },
        "id": "2-FrskeBpnxA",
        "outputId": "b99715f6-d831-4494-9025-4daa0ef10611"
      },
      "execution_count": null,
      "outputs": [
        {
          "output_type": "stream",
          "name": "stdout",
          "text": [
            "[[0, 1, 2, 3, 4], [0, 1, 2, 3, 4], [0, 1, 2, 3, 4], [0, 1, 2, 3, 4], [0, 1, 2, 3, 4], [0, 1, 2, 3, 4]]\n"
          ]
        }
      ]
    },
    {
      "cell_type": "code",
      "source": [
        "matrix = [[i for i in range(5)] for _ in range(6)]\n",
        "print(matrix)"
      ],
      "metadata": {
        "colab": {
          "base_uri": "https://localhost:8080/"
        },
        "id": "qFH87NAtrWD_",
        "outputId": "9eba5d2b-51e1-44c6-d405-0218700384c9"
      },
      "execution_count": null,
      "outputs": [
        {
          "output_type": "stream",
          "name": "stdout",
          "text": [
            "[[0, 1, 2, 3, 4], [0, 1, 2, 3, 4], [0, 1, 2, 3, 4], [0, 1, 2, 3, 4], [0, 1, 2, 3, 4], [0, 1, 2, 3, 4]]\n"
          ]
        }
      ]
    },
    {
      "cell_type": "code",
      "source": [
        "matrix = [[0,0,0],[1,1,1],[2,2,2]]\n",
        "result = []\n",
        "\n",
        "for row in matrix:\n",
        "  for num in row :\n",
        "    result.append(num)\n",
        "print(result)"
      ],
      "metadata": {
        "colab": {
          "base_uri": "https://localhost:8080/"
        },
        "id": "h5YulTsmrqUG",
        "outputId": "977d3c54-35c4-41d1-fa95-6fef3ca64e59"
      },
      "execution_count": null,
      "outputs": [
        {
          "output_type": "stream",
          "name": "stdout",
          "text": [
            "[0, 0, 0, 1, 1, 1, 2, 2, 2]\n"
          ]
        }
      ]
    },
    {
      "cell_type": "code",
      "source": [
        "matrix = [['하나','둘','셋'],['넷','다섯','여섯'],['일곱','여덟','아홉']]\n",
        "\n",
        "count = 1\n",
        "for row in matrix :\n",
        "  for num in row :\n",
        "    print(count, num)\n",
        "    count += 1"
      ],
      "metadata": {
        "colab": {
          "base_uri": "https://localhost:8080/"
        },
        "id": "MYSsfb8OspM8",
        "outputId": "34fac738-52b0-4399-b687-6800c4cf6941"
      },
      "execution_count": null,
      "outputs": [
        {
          "output_type": "stream",
          "name": "stdout",
          "text": [
            "1 하나\n",
            "2 둘\n",
            "3 셋\n",
            "4 넷\n",
            "5 다섯\n",
            "6 여섯\n",
            "7 일곱\n",
            "8 여덟\n",
            "9 아홉\n"
          ]
        }
      ]
    },
    {
      "cell_type": "code",
      "source": [
        "#튜플\n",
        "#튜플 생성시 () 소괄호를 써도 되고, 안써도 생성이 가능하다.\n",
        "#1개의 원소를 가진 튜플 생성시 반드시 , 콤마를 뒤에 작성해야 튜플로 생성이 된다."
      ],
      "metadata": {
        "id": "-RlPFIpV6nMx"
      },
      "execution_count": null,
      "outputs": []
    },
    {
      "cell_type": "code",
      "source": [
        "#enumerate() 사용 예제\n",
        "fruits = [\"apple\", \"banana\", \"grape\"]\n",
        "print(list(enumerate(fruits)))\n",
        "for index, value in enumerate(fruits):\n",
        "  print(index, value)"
      ],
      "metadata": {
        "colab": {
          "base_uri": "https://localhost:8080/"
        },
        "id": "5eq7eC7E6x8B",
        "outputId": "0266999d-4e68-41b9-ceb9-81abd54d031a"
      },
      "execution_count": null,
      "outputs": [
        {
          "output_type": "stream",
          "name": "stdout",
          "text": [
            "[(0, 'apple'), (1, 'banana'), (2, 'grape')]\n",
            "0 apple\n",
            "1 banana\n",
            "2 grape\n"
          ]
        }
      ]
    },
    {
      "cell_type": "code",
      "source": [
        "alist = [1,2,3,4,5,1,2]\n",
        "result = {x for x in alist if x%2==0}\n",
        "print(result)"
      ],
      "metadata": {
        "colab": {
          "base_uri": "https://localhost:8080/"
        },
        "id": "4JBvbFA27hiw",
        "outputId": "1eafd1d4-8849-43e5-fc78-a7c0690a001b"
      },
      "execution_count": null,
      "outputs": [
        {
          "output_type": "stream",
          "name": "stdout",
          "text": [
            "{2, 4}\n"
          ]
        }
      ]
    },
    {
      "cell_type": "code",
      "source": [
        "#집합\n",
        "#합집합 c = a | b or c = a.union(b)\n",
        "#교집합 c = a & b or c = a.intersection(b)\n",
        "#차집합 c = a - b or c = a.difference(b)\n",
        "\n",
        "#리스트 <-> 세트 변환\n",
        "list1 = [1,2,3,4,5,1,2,4]\n",
        "print(len(set(list1)))\n",
        "\n",
        "list1 = [1,2,3,4,5]\n",
        "list2 = [3,4,5,6,7]\n",
        "print(set(list1) & set(list2))"
      ],
      "metadata": {
        "colab": {
          "base_uri": "https://localhost:8080/"
        },
        "id": "rYMobx3L9Igu",
        "outputId": "d440375c-c833-4c1d-bb0a-6dc23d8175fd"
      },
      "execution_count": null,
      "outputs": [
        {
          "output_type": "stream",
          "name": "stdout",
          "text": [
            "5\n",
            "{3, 4, 5}\n"
          ]
        }
      ]
    },
    {
      "cell_type": "code",
      "source": [
        "#딕셔너리\n",
        "capitals = {\"Korea\":\"Seoul\", \"USA\":\"Washington\", \"UK\":\"London\"}\n",
        "print(capitals[\"Korea\"])"
      ],
      "metadata": {
        "colab": {
          "base_uri": "https://localhost:8080/"
        },
        "id": "FxVo1imO-AU1",
        "outputId": "4d1c9233-8077-4243-f1de-a83f6817e387"
      },
      "execution_count": null,
      "outputs": [
        {
          "output_type": "stream",
          "name": "stdout",
          "text": [
            "Seoul\n"
          ]
        }
      ]
    },
    {
      "cell_type": "code",
      "source": [
        "capitals = {}\n",
        "capitals[\"Korea\"] = \"Seoul\"\n",
        "capitals[\"USA\"] = \"Washington\"\n",
        "capitals[\"UK\"] = \"London\"\n",
        "capitals[\"France\"] = \"Paris\"\n",
        "print(capitals)"
      ],
      "metadata": {
        "colab": {
          "base_uri": "https://localhost:8080/"
        },
        "id": "WNh3UNKV-ghN",
        "outputId": "21720df2-3243-4762-8efc-31f27d8d2db4"
      },
      "execution_count": null,
      "outputs": [
        {
          "output_type": "stream",
          "name": "stdout",
          "text": [
            "{'Korea': 'Seoul', 'USA': 'Washington', 'UK': 'London', 'France': 'Paris'}\n"
          ]
        }
      ]
    },
    {
      "cell_type": "code",
      "source": [
        "capitals = {\"Korea\":\"Seoul\"}\n",
        "c = capitals.pop(\"Korea\")     #Korea 키 값에 해당하는 Seoul이 c 에 저장됨\n",
        "print(c)\n",
        "print(capitals)"
      ],
      "metadata": {
        "colab": {
          "base_uri": "https://localhost:8080/"
        },
        "id": "UQ0KLBiZ_Bfs",
        "outputId": "2f2296c5-b4bf-41e9-e2e1-93e8887c4e12"
      },
      "execution_count": null,
      "outputs": [
        {
          "output_type": "stream",
          "name": "stdout",
          "text": [
            "Seoul\n",
            "{}\n"
          ]
        }
      ]
    },
    {
      "cell_type": "code",
      "source": [
        "capitals = {\"Korea\":\"Seoul\", \"USA\":\"Washington\", \"UK\":\"London\"}\n",
        "\n",
        "print(capitals.items())\n",
        "print(list(capitals.items())[0])\n",
        "print(capitals.keys())\n",
        "print(capitals.values())"
      ],
      "metadata": {
        "colab": {
          "base_uri": "https://localhost:8080/"
        },
        "id": "XE_BQWQdAADj",
        "outputId": "9a1196e8-2fdc-4548-ca5e-822b75f44234"
      },
      "execution_count": null,
      "outputs": [
        {
          "output_type": "stream",
          "name": "stdout",
          "text": [
            "dict_items([('Korea', 'Seoul'), ('USA', 'Washington'), ('UK', 'London')])\n",
            "('Korea', 'Seoul')\n",
            "dict_keys(['Korea', 'USA', 'UK'])\n",
            "dict_values(['Seoul', 'Washington', 'London'])\n"
          ]
        }
      ]
    },
    {
      "cell_type": "code",
      "source": [
        "capitals = {\"Korea\":\"Seoul\", \"USA\":\"Washington\", \"UK\":\"London\"}\n",
        "for key, value in capitals.items() :\n",
        "  print(key,value)\n",
        "\n",
        "for key in capitals.items() :\n",
        "  print(key)"
      ],
      "metadata": {
        "colab": {
          "base_uri": "https://localhost:8080/"
        },
        "id": "Ntjng31PAn4T",
        "outputId": "48e78fd8-556a-4bd9-bdfb-50d492dbb658"
      },
      "execution_count": null,
      "outputs": [
        {
          "output_type": "stream",
          "name": "stdout",
          "text": [
            "Korea Seoul\n",
            "USA Washington\n",
            "UK London\n",
            "('Korea', 'Seoul')\n",
            "('USA', 'Washington')\n",
            "('UK', 'London')\n"
          ]
        }
      ]
    },
    {
      "cell_type": "code",
      "source": [
        "capitals = {\"Korea\":\"Seoul\", \"USA\":\"Washington\", \"UK\":\"London\"}\n",
        "for key in sorted(capitals.keys()) :\n",
        "  print(key,end=\" \")"
      ],
      "metadata": {
        "colab": {
          "base_uri": "https://localhost:8080/"
        },
        "id": "MYyIJiqbBfr5",
        "outputId": "8c28e0b0-3178-4376-d34c-a358cce3a246"
      },
      "execution_count": null,
      "outputs": [
        {
          "output_type": "stream",
          "name": "stdout",
          "text": [
            "Korea UK USA "
          ]
        }
      ]
    },
    {
      "cell_type": "code",
      "source": [
        "#딕셔너리 함축\n",
        "\n",
        "values = [1,2,3,4,5,6,7,8,9]\n",
        "\n",
        "dic = { x:x**2 for x in values if x%2 == 0 }\n",
        "print(dic)"
      ],
      "metadata": {
        "colab": {
          "base_uri": "https://localhost:8080/"
        },
        "id": "kjxDqFrBEehP",
        "outputId": "f90fa3dc-d0c9-46fc-97bc-4840e86c6a10"
      },
      "execution_count": null,
      "outputs": [
        {
          "output_type": "stream",
          "name": "stdout",
          "text": [
            "{2: 4, 4: 16, 6: 36, 8: 64}\n"
          ]
        }
      ]
    },
    {
      "cell_type": "code",
      "source": [
        "capitals = {\"Korea\":\"Seoul\", \"USA\":\"Washington\", \"UK\":\"London\"}\n",
        "\n",
        "\"Korea\" in capitals\n",
        "\"Seoul\" in capitals # in 연산자가 Key의 값으로 찾기 때문에 False 가 나온다."
      ],
      "metadata": {
        "colab": {
          "base_uri": "https://localhost:8080/"
        },
        "id": "5602pFIDE_5f",
        "outputId": "23b5d535-7f52-44d1-da4b-6291a46251c3"
      },
      "execution_count": null,
      "outputs": [
        {
          "output_type": "execute_result",
          "data": {
            "text/plain": [
              "False"
            ]
          },
          "metadata": {},
          "execution_count": 42
        }
      ]
    },
    {
      "cell_type": "code",
      "source": [
        "#회문 검사하기\n",
        "#앞으로 읽나 뒤로 읽나 동일한 문장을 의미\n",
        "\n",
        "s = input(\"문자열을 입력하시오: \")\n",
        "\n",
        "s1 = s[::-1]    #문자열을 거꾸로 만든다\n",
        "\n",
        "if( s == s1) :\n",
        "  print(\"회문입니다.\")\n",
        "else :\n",
        "  print(\"회문이 아닙니다.\")"
      ],
      "metadata": {
        "colab": {
          "base_uri": "https://localhost:8080/"
        },
        "id": "KQz6Q17OG_6E",
        "outputId": "00a3091c-6c88-4b0d-f471-737338833ea7"
      },
      "execution_count": null,
      "outputs": [
        {
          "output_type": "stream",
          "name": "stdout",
          "text": [
            "문자열을 입력하시오: asdfdsa\n",
            "회문입니다.\n"
          ]
        }
      ]
    },
    {
      "cell_type": "code",
      "source": [
        "#문자 분류 외우기\n",
        "\"ABCabc\".isalpha()    #알파벳으로 이루어져 있는지\n",
        "\n",
        "\"123\".isdigit()       #숫자로 이루어져 있는지\n",
        "\n",
        "\"abc\".islower()       #소문자로 이루어져 있는지"
      ],
      "metadata": {
        "colab": {
          "base_uri": "https://localhost:8080/"
        },
        "id": "tKP3JeKfH708",
        "outputId": "49b96e72-4e51-4aa6-b235-9c577485a39d"
      },
      "execution_count": null,
      "outputs": [
        {
          "output_type": "execute_result",
          "data": {
            "text/plain": [
              "True"
            ]
          },
          "metadata": {},
          "execution_count": 47
        }
      ]
    },
    {
      "cell_type": "code",
      "source": [
        "#튜플 언패킹\n",
        "a, b, *c = (0, 1, 2, 3, 4, 5)\n",
        "print(c)"
      ],
      "metadata": {
        "colab": {
          "base_uri": "https://localhost:8080/"
        },
        "id": "IYoxQ2P3IbIz",
        "outputId": "d43e0892-bc29-40f4-8c9d-d555662d4135"
      },
      "execution_count": null,
      "outputs": [
        {
          "output_type": "stream",
          "name": "stdout",
          "text": [
            "[2, 3, 4, 5]\n"
          ]
        }
      ]
    },
    {
      "cell_type": "code",
      "source": [
        "#딕셔너리 규칙\n",
        "#딕셔너리의 키는 수정이 불가능한 타임만 가능\n",
        "#숫자 문자열 튜플\n",
        "\n",
        "test = {(1,1):1000}\n",
        "\n",
        "print(test[(1,1)])\n",
        "\n",
        "test2 = {[1,1]:1000} #리스트는 키가 될 수 없다."
      ],
      "metadata": {
        "id": "jM8repYljbak"
      },
      "execution_count": null,
      "outputs": []
    },
    {
      "cell_type": "code",
      "source": [
        "#클래스\n",
        "class Avante:      #아반떼 설계도, 차 속성은 가격만 설정\n",
        "  def __init__(self, price) :\n",
        "    self.price = price\n",
        "\n",
        "oshAvante = Avante(2500)\n",
        "\n",
        "#oshAvante로 Avante(2500)을 실행했을때\n",
        "class Avante:  \n",
        "  def __init__(oshAvante, 2500) :\n",
        "    oshAvante.price = 2500"
      ],
      "metadata": {
        "id": "DAWoPN6uo43V"
      },
      "execution_count": null,
      "outputs": []
    },
    {
      "cell_type": "code",
      "source": [
        "class Avante:      #아반떼 설계도, 차 속성은 가격만 설정\n",
        "  def __init__(self, price) :   # initialization 함수, 특수 메소드\n",
        "    print(\"객체 생성\")\n",
        "    print(price)\n",
        "\n",
        "oshAvante = Avante(2500)\n"
      ],
      "metadata": {
        "colab": {
          "base_uri": "https://localhost:8080/"
        },
        "id": "HuVgpLALqhOH",
        "outputId": "d38dab13-2441-47ce-ee47-f31efeb98e7f"
      },
      "execution_count": null,
      "outputs": [
        {
          "output_type": "stream",
          "name": "stdout",
          "text": [
            "객체 생성\n",
            "2500\n"
          ]
        }
      ]
    },
    {
      "cell_type": "code",
      "source": [
        "#연습\n",
        "class Sonata:\n",
        "  def __init__(self, price):\n",
        "    print(\"소나타 생성\")\n",
        "\n",
        "kskSonata = Sonata(3000)"
      ],
      "metadata": {
        "colab": {
          "base_uri": "https://localhost:8080/"
        },
        "id": "ABeI6UpVrUDW",
        "outputId": "6dbcf62a-7a35-4858-aa23-7d61d47f1b7b"
      },
      "execution_count": null,
      "outputs": [
        {
          "output_type": "stream",
          "name": "stdout",
          "text": [
            "소나타 생성\n"
          ]
        }
      ]
    },
    {
      "cell_type": "code",
      "source": [
        "class Sonata:\n",
        "  def __init__(self, price):  #self는 인스턴스를 생성하는 그 자체\n",
        "    self.price = price        #인스턴스의 속성\n",
        "    print(\"소나타 생성\")\n",
        "\n",
        "kskSonata = Sonata(3000)\n",
        "print(\"김선강 소나타 가격\",kskSonata.price)\n",
        "\n",
        "kcsSonata = Sonata(3500)\n",
        "print(\"김철수 소나타 가격\",kcsSonata.price)"
      ],
      "metadata": {
        "colab": {
          "base_uri": "https://localhost:8080/"
        },
        "id": "isnmHZ-7rW1E",
        "outputId": "c8e5ae1f-3f39-4a76-db8f-29393a85d1e0"
      },
      "execution_count": null,
      "outputs": [
        {
          "output_type": "stream",
          "name": "stdout",
          "text": [
            "소나타 생성\n",
            "김선강 소나타 가격 3000\n",
            "소나타 생성\n",
            "김철수 소나타 가격 3500\n"
          ]
        }
      ]
    },
    {
      "cell_type": "code",
      "source": [
        "class Sonata:\n",
        "  def __init__(self, price, color):  #self는 인스턴스를 생성하는 그 자체\n",
        "    print(\"소나타 생성\")\n",
        "    self.price = price        #인스턴스의 속성\n",
        "    self.color = color\n",
        "\n",
        "  def driving(self):\n",
        "    print(\"주행을 시작합니다.\")\n",
        "\n",
        "oshSonata = Sonata(2500, \"black\")\n",
        "print(oshSonata.price)\n",
        "print(oshSonata.color)\n",
        "\n",
        "oshSonata.driving() #우리가 사용할 때\n",
        "\n",
        "#Sonata.driving(oshSonata) 파이썬 내부에 돌아갈때"
      ],
      "metadata": {
        "colab": {
          "base_uri": "https://localhost:8080/"
        },
        "id": "JZceYasDuoRj",
        "outputId": "734733ba-8a7f-4de9-cccf-4e8b74748bed"
      },
      "execution_count": null,
      "outputs": [
        {
          "output_type": "stream",
          "name": "stdout",
          "text": [
            "소나타 생성\n",
            "2500\n",
            "black\n",
            "주행을 시작합니다.\n"
          ]
        }
      ]
    },
    {
      "cell_type": "code",
      "source": [
        "#객체 : 사물, 사람 등 모든 것\n",
        "#클래스 : 객체를 찍어내는 설계도\n",
        "#인스턴스 ; 클래스로부터 찍어낸 객체"
      ],
      "metadata": {
        "id": "ZjsnFg2EuRqS"
      },
      "execution_count": null,
      "outputs": []
    },
    {
      "cell_type": "code",
      "source": [
        "#카운터 클래스 예제\n",
        "class Counter:\n",
        "  def __init__(self):\n",
        "    self.count = 0\n",
        "\n",
        "  def increment(self):\n",
        "    self.count += 1\n",
        "\n",
        "a = Counter()\n",
        "\n",
        "print(a.count)\n",
        "\n",
        "a.increment()\n",
        "\n",
        "print(a.count)\n",
        "\n",
        "a.increment()\n",
        "\n",
        "print(a.count)"
      ],
      "metadata": {
        "colab": {
          "base_uri": "https://localhost:8080/"
        },
        "id": "Oi6xRqzzum7C",
        "outputId": "95739de9-cca4-4816-a6fd-380324cd0e5e"
      },
      "execution_count": null,
      "outputs": [
        {
          "output_type": "stream",
          "name": "stdout",
          "text": [
            "0\n",
            "1\n",
            "2\n"
          ]
        }
      ]
    },
    {
      "cell_type": "code",
      "source": [
        "#카운터 예제 2\n",
        "class Counter:\n",
        "  def __init__(self, initValue=0):\n",
        "    self.count = initValue\n",
        "  def increment(self):\n",
        "    self.count += 1\n",
        "\n",
        "a = Counter(100)    #카운터의 초기값은 100이 된다.\n",
        "b = Counter()       #카운터의 초기값음 0이 된다."
      ],
      "metadata": {
        "id": "RgMiZJddwfXo"
      },
      "execution_count": null,
      "outputs": []
    },
    {
      "cell_type": "code",
      "source": [
        "#클래스 예제\n",
        "#원 클래스\n",
        "import math\n",
        "#Circle 클래스를 먼저 정의한다\n",
        "class Circle:\n",
        "  def __init__(self, radius = 0) :\n",
        "    self.radius = radius\n",
        "  \n",
        "  def getArea(self) :\n",
        "    return math.pi * self.radius * self.radius\n",
        "\n",
        "  def getPerimeter(self) :\n",
        "    return 2 * math.pi * self.radius\n",
        "\n",
        "# Circle 객체를 생성한다.\n",
        "c = Circle(10)    # 반지름 radius가 10인 원 객체 생성\n",
        "print(\"원의 면적 : \", c.getArea())\n",
        "print(\"원의 둘레 : \", c.getPerimeter())"
      ],
      "metadata": {
        "colab": {
          "base_uri": "https://localhost:8080/"
        },
        "id": "L3R66ZyLw63o",
        "outputId": "dd326bf3-0b76-40fd-a654-3327a0dd0455"
      },
      "execution_count": null,
      "outputs": [
        {
          "output_type": "stream",
          "name": "stdout",
          "text": [
            "원의 면적 :  314.1592653589793\n",
            "원의 둘레 :  62.83185307179586\n"
          ]
        }
      ]
    },
    {
      "cell_type": "code",
      "source": [
        "#자동차 클래스 예제\n",
        "class Car : \n",
        "  def __init__(self,speed,color,model):\n",
        "    print(\"자동차 객체를 생성하였습니다.\")\n",
        "    self.speed = speed\n",
        "    self.color = color\n",
        "    self.model = model\n",
        "\n",
        "newCar = Car(0,'blue','E-class')\n"
      ],
      "metadata": {
        "colab": {
          "base_uri": "https://localhost:8080/"
        },
        "id": "GZUJf6Fgydcf",
        "outputId": "3f8e1330-a740-46b2-a746-40ec8e99a54d"
      },
      "execution_count": null,
      "outputs": [
        {
          "output_type": "stream",
          "name": "stdout",
          "text": [
            "자동차 객체를 생성하였습니다.\n"
          ]
        }
      ]
    },
    {
      "cell_type": "code",
      "source": [
        "print(\"자동차의 속도는\", newCar.speed)\n",
        "print(\"자동차의 색상은\", newCar.color)\n",
        "print(\"자동차의 모델은\", newCar.model)"
      ],
      "metadata": {
        "colab": {
          "base_uri": "https://localhost:8080/"
        },
        "id": "lHwOhk0j0bhO",
        "outputId": "61c5d53c-d984-46e2-d859-bff58a64d22e"
      },
      "execution_count": null,
      "outputs": [
        {
          "output_type": "stream",
          "name": "stdout",
          "text": [
            "자동차의 속도는 0\n",
            "자동차의 색상은 blue\n",
            "자동차의 모델은 E-class\n"
          ]
        }
      ]
    },
    {
      "cell_type": "code",
      "source": [
        "#정보은닉 실습\n",
        "class Car : \n",
        "  def __init__(self,speed,color,model):\n",
        "    print(\"자동차 객체를 생성하였습니다.\")\n",
        "    self.__speed = speed\n",
        "    self.color = color\n",
        "    self.model = model\n",
        "\n",
        "newCar = Car(0,'blue','E-class')\n",
        "\n",
        "print(newCar.__speed)   #정보가 은닉되어 불러오지 못함."
      ],
      "metadata": {
        "colab": {
          "base_uri": "https://localhost:8080/",
          "height": 229
        },
        "id": "ZLEVCMgv0jjd",
        "outputId": "d9b15c39-5c5e-4c51-9834-3c1041bf4489"
      },
      "execution_count": null,
      "outputs": [
        {
          "output_type": "stream",
          "name": "stdout",
          "text": [
            "자동차 객체를 생성하였습니다.\n"
          ]
        },
        {
          "output_type": "error",
          "ename": "AttributeError",
          "evalue": "ignored",
          "traceback": [
            "\u001b[0;31m---------------------------------------------------------------------------\u001b[0m",
            "\u001b[0;31mAttributeError\u001b[0m                            Traceback (most recent call last)",
            "\u001b[0;32m<ipython-input-71-6cc1dcd19eae>\u001b[0m in \u001b[0;36m<cell line: 11>\u001b[0;34m()\u001b[0m\n\u001b[1;32m      9\u001b[0m \u001b[0mnewCar\u001b[0m \u001b[0;34m=\u001b[0m \u001b[0mCar\u001b[0m\u001b[0;34m(\u001b[0m\u001b[0;36m0\u001b[0m\u001b[0;34m,\u001b[0m\u001b[0;34m'blue'\u001b[0m\u001b[0;34m,\u001b[0m\u001b[0;34m'E-class'\u001b[0m\u001b[0;34m)\u001b[0m\u001b[0;34m\u001b[0m\u001b[0;34m\u001b[0m\u001b[0m\n\u001b[1;32m     10\u001b[0m \u001b[0;34m\u001b[0m\u001b[0m\n\u001b[0;32m---> 11\u001b[0;31m \u001b[0mprint\u001b[0m\u001b[0;34m(\u001b[0m\u001b[0mnewCar\u001b[0m\u001b[0;34m.\u001b[0m\u001b[0m__speed\u001b[0m\u001b[0;34m)\u001b[0m\u001b[0;34m\u001b[0m\u001b[0;34m\u001b[0m\u001b[0m\n\u001b[0m",
            "\u001b[0;31mAttributeError\u001b[0m: 'Car' object has no attribute '__speed'"
          ]
        }
      ]
    },
    {
      "cell_type": "code",
      "source": [
        "#접근자와 설정자 [Getter, Setter]\n",
        "class Car : \n",
        "  def __init__(self,speed,color,model):\n",
        "    print(\"자동차 객체를 생성하였습니다.\")\n",
        "    self.__speed = speed\n",
        "    self.color = color\n",
        "    self.model = model\n",
        "\n",
        "  def getSpeed(self):\n",
        "    return self.__speed\n",
        "\n",
        "  def setSpeed(self,speed):\n",
        "    self.__speed = speed\n",
        "\n",
        "newCar = Car(0,'blue','E-class')\n",
        "print(newCar.getSpeed())\n",
        "\n",
        "newCar.setSpeed(10)\n",
        "print(newCar.getSpeed())"
      ],
      "metadata": {
        "colab": {
          "base_uri": "https://localhost:8080/"
        },
        "id": "gCWKdzzS1gMN",
        "outputId": "8bc4988a-5f95-4ae4-a29e-f6a75f16ff87"
      },
      "execution_count": null,
      "outputs": [
        {
          "output_type": "stream",
          "name": "stdout",
          "text": [
            "자동차 객체를 생성하였습니다.\n",
            "0\n",
            "10\n"
          ]
        }
      ]
    },
    {
      "cell_type": "code",
      "source": [
        "class Counter :\n",
        "  value = 0      #클래스 변수 value 는 모든 객체가 공유한다.\n",
        "  def __init__(self):\n",
        "    Counter.value += 1\n",
        "    self.count = Counter.value\n",
        "\n",
        "a = Counter()\n",
        "print(a.count)\n",
        "\n",
        "b = Counter()\n",
        "print(b.count)"
      ],
      "metadata": {
        "colab": {
          "base_uri": "https://localhost:8080/"
        },
        "id": "cVyfRJr624LU",
        "outputId": "501dc3a1-5684-4fd6-8835-9e428c891e64"
      },
      "execution_count": null,
      "outputs": [
        {
          "output_type": "stream",
          "name": "stdout",
          "text": [
            "1\n",
            "2\n"
          ]
        }
      ]
    },
    {
      "cell_type": "code",
      "source": [
        "#특수 메소드\n",
        "#__특수메소드__\n",
        "class Counter :\n",
        "  def __init__(self,value) :\n",
        "    self.count = value\n",
        "  def __eq__(self, other) :\n",
        "    print(\"eq메소드 실행!\")\n",
        "    return self.count == other.count\n",
        "  def __str__(self) :\n",
        "    return \"객체출력!\"\n",
        "\n",
        "a = Counter(10)\n",
        "print(a.count)\n",
        "\n",
        "b = Counter(10)\n",
        "print(b.count)\n",
        "\n",
        "print(\"============================\")\n",
        "print(a==b)\n",
        "print(a)"
      ],
      "metadata": {
        "colab": {
          "base_uri": "https://localhost:8080/"
        },
        "id": "I7UkyUBY8_K6",
        "outputId": "1dfc476d-f8d9-491d-a755-d1939fc7eb7f"
      },
      "execution_count": null,
      "outputs": [
        {
          "output_type": "stream",
          "name": "stdout",
          "text": [
            "10\n",
            "10\n",
            "============================\n",
            "eq메소드 실행!\n",
            "True\n",
            "객체출력!\n"
          ]
        }
      ]
    },
    {
      "cell_type": "code",
      "source": [
        "class Vector2D :\n",
        "  def __init__(self, x, y):\n",
        "    self.x = x\n",
        "    self.y = y\n",
        "\n",
        "  def __add__(self, other):\n",
        "    #print(self.x, other.x)\n",
        "    #print(self.y, other.y)\n",
        "    #print(self.x + other.x, self.y + other.y)\n",
        "    return Vector2D(self.x + other.x, self.y + other.y)\n",
        "\n",
        "  def __str__(self) :\n",
        "    return f'({self.x},{self.y})'\n",
        "\n",
        "u = Vector2D(0,1)\n",
        "v = Vector2D(1,0)\n",
        "\n",
        "result = u + v\n",
        "print(result)\n",
        "print(result.x)\n",
        "print(result.y)"
      ],
      "metadata": {
        "colab": {
          "base_uri": "https://localhost:8080/"
        },
        "id": "Z-3LDd1t-bp0",
        "outputId": "aa2c60cb-e6d1-492f-92dc-4028af80607d"
      },
      "execution_count": null,
      "outputs": [
        {
          "output_type": "stream",
          "name": "stdout",
          "text": [
            "(1,1)\n",
            "1\n",
            "1\n"
          ]
        }
      ]
    },
    {
      "cell_type": "code",
      "source": [
        "#상속 예시\n",
        "\n",
        "#부모 클래스\n",
        "class Car :     \n",
        "  def __init__(self, Car_price, color, km) :\n",
        "    self.Car_price = Car_price\n",
        "    self.color = color \n",
        "    self.km = km\n",
        "\n",
        "#자식클래스\n",
        "class Avante(Car) :\n",
        "  def __init__(self, Car_price, color, km, year) :\n",
        "    super().__init__(Car_price, color,km)   #Car 의 __init__ 에 대입\n",
        "    self.year = year\n",
        "\n",
        "oshAvante = Avante(3000, \"red\", \"12km\", '2023')\n",
        "\n",
        "oshAvante.Car_price"
      ],
      "metadata": {
        "colab": {
          "base_uri": "https://localhost:8080/"
        },
        "id": "lt6Lj1Z2BjYi",
        "outputId": "2b319a97-2f06-4873-8123-4b4310af58a8"
      },
      "execution_count": null,
      "outputs": [
        {
          "output_type": "execute_result",
          "data": {
            "text/plain": [
              "3000"
            ]
          },
          "metadata": {},
          "execution_count": 96
        }
      ]
    }
  ]
}