{
  "nbformat": 4,
  "nbformat_minor": 0,
  "metadata": {
    "colab": {
      "provenance": []
    },
    "kernelspec": {
      "name": "python3",
      "display_name": "Python 3"
    },
    "language_info": {
      "name": "python"
    },
    "accelerator": "GPU",
    "gpuClass": "standard"
  },
  "cells": [
    {
      "cell_type": "code",
      "execution_count": null,
      "metadata": {
        "colab": {
          "base_uri": "https://localhost:8080/"
        },
        "id": "silYr3gv5PpD",
        "outputId": "910d98f6-eb2d-4262-8f97-e4927cc8289f"
      },
      "outputs": [
        {
          "output_type": "execute_result",
          "data": {
            "text/plain": [
              "[1, 4, 9, 16, 25, 36, 49, 64]"
            ]
          },
          "metadata": {},
          "execution_count": 1
        }
      ],
      "source": [
        "# 람다 lambda 예제\n",
        "# lambda 이름이 없는 함수\n",
        "a = [1,2,3,4,5,6,7,8]\n",
        "\n",
        "list(map(lambda x : x*x, a))"
      ]
    },
    {
      "cell_type": "markdown",
      "source": [
        "0. 현재 작업 디렉토리에 있는 파일 확인하기"
      ],
      "metadata": {
        "id": "4Ho0Q7A_SElU"
      }
    },
    {
      "cell_type": "code",
      "source": [
        "!ls"
      ],
      "metadata": {
        "colab": {
          "base_uri": "https://localhost:8080/"
        },
        "id": "7ZoZ6hV4SHP2",
        "outputId": "4c0e9d4d-55c9-4c97-9b18-ea3d85b69d73"
      },
      "execution_count": null,
      "outputs": [
        {
          "output_type": "stream",
          "name": "stdout",
          "text": [
            "sample_data\n"
          ]
        }
      ]
    },
    {
      "cell_type": "markdown",
      "source": [
        "1. 현재 위치가 어디인지 확인"
      ],
      "metadata": {
        "id": "G2VXVqdFSve8"
      }
    },
    {
      "cell_type": "code",
      "source": [
        "!pwd"
      ],
      "metadata": {
        "colab": {
          "base_uri": "https://localhost:8080/"
        },
        "id": "l4knyltfSzJ8",
        "outputId": "8e48f75f-7306-4f04-adaf-b8a90db1bbb8"
      },
      "execution_count": null,
      "outputs": [
        {
          "output_type": "stream",
          "name": "stdout",
          "text": [
            "/content\n"
          ]
        }
      ]
    },
    {
      "cell_type": "markdown",
      "source": [
        "2. 폴더만들기"
      ],
      "metadata": {
        "id": "__bzCTc3R-dF"
      }
    },
    {
      "cell_type": "code",
      "source": [
        "!mkdir test"
      ],
      "metadata": {
        "id": "VEBzBuBCLDHM"
      },
      "execution_count": null,
      "outputs": []
    },
    {
      "cell_type": "markdown",
      "source": [
        "3. 작업 디렉토리 이동하기"
      ],
      "metadata": {
        "id": "plAApG7OTBTK"
      }
    },
    {
      "cell_type": "code",
      "source": [
        "!cd test"
      ],
      "metadata": {
        "id": "CPhrjGVzTDky"
      },
      "execution_count": null,
      "outputs": []
    },
    {
      "cell_type": "code",
      "source": [
        "!pwd"
      ],
      "metadata": {
        "colab": {
          "base_uri": "https://localhost:8080/"
        },
        "id": "tfWFQCqQTF1i",
        "outputId": "31456ac6-6c50-4048-d116-ca62471aa1b3"
      },
      "execution_count": null,
      "outputs": [
        {
          "output_type": "stream",
          "name": "stdout",
          "text": [
            "/content\n"
          ]
        }
      ]
    },
    {
      "cell_type": "code",
      "source": [
        "%cd test"
      ],
      "metadata": {
        "colab": {
          "base_uri": "https://localhost:8080/"
        },
        "id": "HQzO-UPzTNKB",
        "outputId": "ffbfba89-78a0-4347-81df-7bd4aa25bfa4"
      },
      "execution_count": null,
      "outputs": [
        {
          "output_type": "stream",
          "name": "stdout",
          "text": [
            "/content/test\n"
          ]
        }
      ]
    },
    {
      "cell_type": "code",
      "source": [
        "!pwd"
      ],
      "metadata": {
        "colab": {
          "base_uri": "https://localhost:8080/"
        },
        "id": "5PBtEHrZTPoZ",
        "outputId": "ccc2dc50-9a8d-4b1c-9eb9-5f7ef78b0536"
      },
      "execution_count": null,
      "outputs": [
        {
          "output_type": "stream",
          "name": "stdout",
          "text": [
            "/content/test\n"
          ]
        }
      ]
    },
    {
      "cell_type": "code",
      "source": [
        "import pandas as pd\n",
        "#현재 작업 경로와 다른 곳에 파일을 읽을때는 절대 경로를 사용하여 읽는다.\n",
        "pd.read_csv(\"/content/chipo.csv\")"
      ],
      "metadata": {
        "colab": {
          "base_uri": "https://localhost:8080/",
          "height": 798
        },
        "id": "dbax4Hh2TZur",
        "outputId": "1eae4399-2574-4e4d-de40-1af7ca86a2fe"
      },
      "execution_count": null,
      "outputs": [
        {
          "output_type": "execute_result",
          "data": {
            "text/plain": [
              "      Unnamed: 0  order_id  quantity                              item_name  \\\n",
              "0              0         1         1           Chips and Fresh Tomato Salsa   \n",
              "1              1         1         1                                   Izze   \n",
              "2              2         1         1                       Nantucket Nectar   \n",
              "3              3         1         1  Chips and Tomatillo-Green Chili Salsa   \n",
              "4              4         2         2                           Chicken Bowl   \n",
              "...          ...       ...       ...                                    ...   \n",
              "4617        4617      1833         1                          Steak Burrito   \n",
              "4618        4618      1833         1                          Steak Burrito   \n",
              "4619        4619      1834         1                     Chicken Salad Bowl   \n",
              "4620        4620      1834         1                     Chicken Salad Bowl   \n",
              "4621        4621      1834         1                     Chicken Salad Bowl   \n",
              "\n",
              "                                     choice_description item_price  \n",
              "0                                                   NaN     $2.39   \n",
              "1                                          [Clementine]     $3.39   \n",
              "2                                               [Apple]     $3.39   \n",
              "3                                                   NaN     $2.39   \n",
              "4     [Tomatillo-Red Chili Salsa (Hot), [Black Beans...    $16.98   \n",
              "...                                                 ...        ...  \n",
              "4617  [Fresh Tomato Salsa, [Rice, Black Beans, Sour ...    $11.75   \n",
              "4618  [Fresh Tomato Salsa, [Rice, Sour Cream, Cheese...    $11.75   \n",
              "4619  [Fresh Tomato Salsa, [Fajita Vegetables, Pinto...    $11.25   \n",
              "4620  [Fresh Tomato Salsa, [Fajita Vegetables, Lettu...     $8.75   \n",
              "4621  [Fresh Tomato Salsa, [Fajita Vegetables, Pinto...     $8.75   \n",
              "\n",
              "[4622 rows x 6 columns]"
            ],
            "text/html": [
              "\n",
              "  <div id=\"df-31ec4198-5399-400d-bd39-13e4cdd4b214\">\n",
              "    <div class=\"colab-df-container\">\n",
              "      <div>\n",
              "<style scoped>\n",
              "    .dataframe tbody tr th:only-of-type {\n",
              "        vertical-align: middle;\n",
              "    }\n",
              "\n",
              "    .dataframe tbody tr th {\n",
              "        vertical-align: top;\n",
              "    }\n",
              "\n",
              "    .dataframe thead th {\n",
              "        text-align: right;\n",
              "    }\n",
              "</style>\n",
              "<table border=\"1\" class=\"dataframe\">\n",
              "  <thead>\n",
              "    <tr style=\"text-align: right;\">\n",
              "      <th></th>\n",
              "      <th>Unnamed: 0</th>\n",
              "      <th>order_id</th>\n",
              "      <th>quantity</th>\n",
              "      <th>item_name</th>\n",
              "      <th>choice_description</th>\n",
              "      <th>item_price</th>\n",
              "    </tr>\n",
              "  </thead>\n",
              "  <tbody>\n",
              "    <tr>\n",
              "      <th>0</th>\n",
              "      <td>0</td>\n",
              "      <td>1</td>\n",
              "      <td>1</td>\n",
              "      <td>Chips and Fresh Tomato Salsa</td>\n",
              "      <td>NaN</td>\n",
              "      <td>$2.39</td>\n",
              "    </tr>\n",
              "    <tr>\n",
              "      <th>1</th>\n",
              "      <td>1</td>\n",
              "      <td>1</td>\n",
              "      <td>1</td>\n",
              "      <td>Izze</td>\n",
              "      <td>[Clementine]</td>\n",
              "      <td>$3.39</td>\n",
              "    </tr>\n",
              "    <tr>\n",
              "      <th>2</th>\n",
              "      <td>2</td>\n",
              "      <td>1</td>\n",
              "      <td>1</td>\n",
              "      <td>Nantucket Nectar</td>\n",
              "      <td>[Apple]</td>\n",
              "      <td>$3.39</td>\n",
              "    </tr>\n",
              "    <tr>\n",
              "      <th>3</th>\n",
              "      <td>3</td>\n",
              "      <td>1</td>\n",
              "      <td>1</td>\n",
              "      <td>Chips and Tomatillo-Green Chili Salsa</td>\n",
              "      <td>NaN</td>\n",
              "      <td>$2.39</td>\n",
              "    </tr>\n",
              "    <tr>\n",
              "      <th>4</th>\n",
              "      <td>4</td>\n",
              "      <td>2</td>\n",
              "      <td>2</td>\n",
              "      <td>Chicken Bowl</td>\n",
              "      <td>[Tomatillo-Red Chili Salsa (Hot), [Black Beans...</td>\n",
              "      <td>$16.98</td>\n",
              "    </tr>\n",
              "    <tr>\n",
              "      <th>...</th>\n",
              "      <td>...</td>\n",
              "      <td>...</td>\n",
              "      <td>...</td>\n",
              "      <td>...</td>\n",
              "      <td>...</td>\n",
              "      <td>...</td>\n",
              "    </tr>\n",
              "    <tr>\n",
              "      <th>4617</th>\n",
              "      <td>4617</td>\n",
              "      <td>1833</td>\n",
              "      <td>1</td>\n",
              "      <td>Steak Burrito</td>\n",
              "      <td>[Fresh Tomato Salsa, [Rice, Black Beans, Sour ...</td>\n",
              "      <td>$11.75</td>\n",
              "    </tr>\n",
              "    <tr>\n",
              "      <th>4618</th>\n",
              "      <td>4618</td>\n",
              "      <td>1833</td>\n",
              "      <td>1</td>\n",
              "      <td>Steak Burrito</td>\n",
              "      <td>[Fresh Tomato Salsa, [Rice, Sour Cream, Cheese...</td>\n",
              "      <td>$11.75</td>\n",
              "    </tr>\n",
              "    <tr>\n",
              "      <th>4619</th>\n",
              "      <td>4619</td>\n",
              "      <td>1834</td>\n",
              "      <td>1</td>\n",
              "      <td>Chicken Salad Bowl</td>\n",
              "      <td>[Fresh Tomato Salsa, [Fajita Vegetables, Pinto...</td>\n",
              "      <td>$11.25</td>\n",
              "    </tr>\n",
              "    <tr>\n",
              "      <th>4620</th>\n",
              "      <td>4620</td>\n",
              "      <td>1834</td>\n",
              "      <td>1</td>\n",
              "      <td>Chicken Salad Bowl</td>\n",
              "      <td>[Fresh Tomato Salsa, [Fajita Vegetables, Lettu...</td>\n",
              "      <td>$8.75</td>\n",
              "    </tr>\n",
              "    <tr>\n",
              "      <th>4621</th>\n",
              "      <td>4621</td>\n",
              "      <td>1834</td>\n",
              "      <td>1</td>\n",
              "      <td>Chicken Salad Bowl</td>\n",
              "      <td>[Fresh Tomato Salsa, [Fajita Vegetables, Pinto...</td>\n",
              "      <td>$8.75</td>\n",
              "    </tr>\n",
              "  </tbody>\n",
              "</table>\n",
              "<p>4622 rows × 6 columns</p>\n",
              "</div>\n",
              "      <button class=\"colab-df-convert\" onclick=\"convertToInteractive('df-31ec4198-5399-400d-bd39-13e4cdd4b214')\"\n",
              "              title=\"Convert this dataframe to an interactive table.\"\n",
              "              style=\"display:none;\">\n",
              "        \n",
              "  <svg xmlns=\"http://www.w3.org/2000/svg\" height=\"24px\"viewBox=\"0 0 24 24\"\n",
              "       width=\"24px\">\n",
              "    <path d=\"M0 0h24v24H0V0z\" fill=\"none\"/>\n",
              "    <path d=\"M18.56 5.44l.94 2.06.94-2.06 2.06-.94-2.06-.94-.94-2.06-.94 2.06-2.06.94zm-11 1L8.5 8.5l.94-2.06 2.06-.94-2.06-.94L8.5 2.5l-.94 2.06-2.06.94zm10 10l.94 2.06.94-2.06 2.06-.94-2.06-.94-.94-2.06-.94 2.06-2.06.94z\"/><path d=\"M17.41 7.96l-1.37-1.37c-.4-.4-.92-.59-1.43-.59-.52 0-1.04.2-1.43.59L10.3 9.45l-7.72 7.72c-.78.78-.78 2.05 0 2.83L4 21.41c.39.39.9.59 1.41.59.51 0 1.02-.2 1.41-.59l7.78-7.78 2.81-2.81c.8-.78.8-2.07 0-2.86zM5.41 20L4 18.59l7.72-7.72 1.47 1.35L5.41 20z\"/>\n",
              "  </svg>\n",
              "      </button>\n",
              "      \n",
              "  <style>\n",
              "    .colab-df-container {\n",
              "      display:flex;\n",
              "      flex-wrap:wrap;\n",
              "      gap: 12px;\n",
              "    }\n",
              "\n",
              "    .colab-df-convert {\n",
              "      background-color: #E8F0FE;\n",
              "      border: none;\n",
              "      border-radius: 50%;\n",
              "      cursor: pointer;\n",
              "      display: none;\n",
              "      fill: #1967D2;\n",
              "      height: 32px;\n",
              "      padding: 0 0 0 0;\n",
              "      width: 32px;\n",
              "    }\n",
              "\n",
              "    .colab-df-convert:hover {\n",
              "      background-color: #E2EBFA;\n",
              "      box-shadow: 0px 1px 2px rgba(60, 64, 67, 0.3), 0px 1px 3px 1px rgba(60, 64, 67, 0.15);\n",
              "      fill: #174EA6;\n",
              "    }\n",
              "\n",
              "    [theme=dark] .colab-df-convert {\n",
              "      background-color: #3B4455;\n",
              "      fill: #D2E3FC;\n",
              "    }\n",
              "\n",
              "    [theme=dark] .colab-df-convert:hover {\n",
              "      background-color: #434B5C;\n",
              "      box-shadow: 0px 1px 3px 1px rgba(0, 0, 0, 0.15);\n",
              "      filter: drop-shadow(0px 1px 2px rgba(0, 0, 0, 0.3));\n",
              "      fill: #FFFFFF;\n",
              "    }\n",
              "  </style>\n",
              "\n",
              "      <script>\n",
              "        const buttonEl =\n",
              "          document.querySelector('#df-31ec4198-5399-400d-bd39-13e4cdd4b214 button.colab-df-convert');\n",
              "        buttonEl.style.display =\n",
              "          google.colab.kernel.accessAllowed ? 'block' : 'none';\n",
              "\n",
              "        async function convertToInteractive(key) {\n",
              "          const element = document.querySelector('#df-31ec4198-5399-400d-bd39-13e4cdd4b214');\n",
              "          const dataTable =\n",
              "            await google.colab.kernel.invokeFunction('convertToInteractive',\n",
              "                                                     [key], {});\n",
              "          if (!dataTable) return;\n",
              "\n",
              "          const docLinkHtml = 'Like what you see? Visit the ' +\n",
              "            '<a target=\"_blank\" href=https://colab.research.google.com/notebooks/data_table.ipynb>data table notebook</a>'\n",
              "            + ' to learn more about interactive tables.';\n",
              "          element.innerHTML = '';\n",
              "          dataTable['output_type'] = 'display_data';\n",
              "          await google.colab.output.renderOutput(dataTable, element);\n",
              "          const docLink = document.createElement('div');\n",
              "          docLink.innerHTML = docLinkHtml;\n",
              "          element.appendChild(docLink);\n",
              "        }\n",
              "      </script>\n",
              "    </div>\n",
              "  </div>\n",
              "  "
            ]
          },
          "metadata": {},
          "execution_count": 10
        }
      ]
    },
    {
      "cell_type": "markdown",
      "source": [
        "4. 파일 복사하기"
      ],
      "metadata": {
        "id": "e3qERc2aT0Gq"
      }
    },
    {
      "cell_type": "code",
      "source": [
        "!cp /content/chipo.csv ./\n",
        "#카피 파일[경로포함] 경로"
      ],
      "metadata": {
        "id": "ldLBRGIMT2rh"
      },
      "execution_count": null,
      "outputs": []
    },
    {
      "cell_type": "markdown",
      "source": [
        "4-1. 폴더 이동하기"
      ],
      "metadata": {
        "id": "_XZTTJzqUira"
      }
    },
    {
      "cell_type": "code",
      "source": [
        "!cp -r /content/test2 ./\n",
        "#카피 옵션 경로"
      ],
      "metadata": {
        "id": "YbCdCMurUoaB"
      },
      "execution_count": null,
      "outputs": []
    },
    {
      "cell_type": "code",
      "source": [
        "!cp --help"
      ],
      "metadata": {
        "id": "igvd8O4KU-vj"
      },
      "execution_count": null,
      "outputs": []
    },
    {
      "cell_type": "code",
      "source": [
        "#현재 디렉토리의 csv 파일을 sample_data에 복사\n",
        "!cp ./*.csv ./sample_data"
      ],
      "metadata": {
        "id": "3kKtlH_-b63z"
      },
      "execution_count": null,
      "outputs": []
    },
    {
      "cell_type": "markdown",
      "source": [
        "5. 파일 이동하기"
      ],
      "metadata": {
        "id": "WB0zpzohUKMa"
      }
    },
    {
      "cell_type": "code",
      "source": [
        "!mv /content/chipo.csv ./"
      ],
      "metadata": {
        "id": "lmyJocK2UL6K"
      },
      "execution_count": null,
      "outputs": []
    },
    {
      "cell_type": "markdown",
      "source": [
        "6. 이름 바꾸기"
      ],
      "metadata": {
        "id": "S0IQ2rO5VGqB"
      }
    },
    {
      "cell_type": "code",
      "source": [
        "!mv ./chipo.csv ./chipo2.csv"
      ],
      "metadata": {
        "id": "7VhlSOZwVJg5"
      },
      "execution_count": null,
      "outputs": []
    },
    {
      "cell_type": "markdown",
      "source": [
        "7. cpu, 램, 사용중인 프로세스 보기"
      ],
      "metadata": {
        "id": "mcjMQEBsVTKa"
      }
    },
    {
      "cell_type": "code",
      "source": [
        "#실시간으로 나옴\n",
        "#MiB Mem : 램 메모리\n",
        "!top"
      ],
      "metadata": {
        "id": "wcRmHbc5VW8p"
      },
      "execution_count": null,
      "outputs": []
    },
    {
      "cell_type": "markdown",
      "source": [
        "8. GPU 종류와 VRAM 용량 확인 [매우 중요]"
      ],
      "metadata": {
        "id": "ssuQ9xkFWA6Z"
      }
    },
    {
      "cell_type": "code",
      "source": [
        "!nvidia-smi"
      ],
      "metadata": {
        "colab": {
          "base_uri": "https://localhost:8080/"
        },
        "id": "rDAK2-VgWOpP",
        "outputId": "1bfc7bb1-3bf8-4654-ea5f-0e29737bf865"
      },
      "execution_count": null,
      "outputs": [
        {
          "output_type": "stream",
          "name": "stdout",
          "text": [
            "Thu Apr 13 02:02:00 2023       \n",
            "+-----------------------------------------------------------------------------+\n",
            "| NVIDIA-SMI 525.85.12    Driver Version: 525.85.12    CUDA Version: 12.0     |\n",
            "|-------------------------------+----------------------+----------------------+\n",
            "| GPU  Name        Persistence-M| Bus-Id        Disp.A | Volatile Uncorr. ECC |\n",
            "| Fan  Temp  Perf  Pwr:Usage/Cap|         Memory-Usage | GPU-Util  Compute M. |\n",
            "|                               |                      |               MIG M. |\n",
            "|===============================+======================+======================|\n",
            "|   0  Tesla T4            Off  | 00000000:00:04.0 Off |                    0 |\n",
            "| N/A   44C    P8     9W /  70W |      0MiB / 15360MiB |      0%      Default |\n",
            "|                               |                      |                  N/A |\n",
            "+-------------------------------+----------------------+----------------------+\n",
            "                                                                               \n",
            "+-----------------------------------------------------------------------------+\n",
            "| Processes:                                                                  |\n",
            "|  GPU   GI   CI        PID   Type   Process name                  GPU Memory |\n",
            "|        ID   ID                                                   Usage      |\n",
            "|=============================================================================|\n",
            "|  No running processes found                                                 |\n",
            "+-----------------------------------------------------------------------------+\n"
          ]
        }
      ]
    },
    {
      "cell_type": "markdown",
      "source": [
        "9. 프로세스 끄기"
      ],
      "metadata": {
        "id": "tYro95PZW04f"
      }
    },
    {
      "cell_type": "code",
      "source": [
        "!kill -9 프로세스아이디(PID)\n",
        "# -9 는 레벨을 의미한다. 강제 종료"
      ],
      "metadata": {
        "id": "Sq2GwiHXW3-X"
      },
      "execution_count": null,
      "outputs": []
    },
    {
      "cell_type": "markdown",
      "source": [
        "10. 파일의 권한 및 모든 정보 확인하기"
      ],
      "metadata": {
        "id": "uKncogG1adbN"
      }
    },
    {
      "cell_type": "code",
      "source": [
        "!ls -all\n",
        "# .  현재디렉토리 /content\n",
        "# .. 부모디렉토리 / 루트디렉토리"
      ],
      "metadata": {
        "colab": {
          "base_uri": "https://localhost:8080/"
        },
        "id": "xfB3ZgPRahf1",
        "outputId": "c22b2a58-b27b-4531-914f-21cb1f646e80"
      },
      "execution_count": null,
      "outputs": [
        {
          "output_type": "stream",
          "name": "stdout",
          "text": [
            "total 16\n",
            "drwxr-xr-x 1 root root 4096 Apr 11 13:33 .\n",
            "drwxr-xr-x 1 root root 4096 Apr 13 01:59 ..\n",
            "drwxr-xr-x 4 root root 4096 Apr 11 13:32 .config\n",
            "drwxr-xr-x 1 root root 4096 Apr 11 13:33 sample_data\n"
          ]
        }
      ]
    },
    {
      "cell_type": "markdown",
      "source": [
        "11. 특정 정보만 조회하기"
      ],
      "metadata": {
        "id": "fyidxx55bdId"
      }
    },
    {
      "cell_type": "code",
      "source": [
        "!ls -al *.csv\n",
        "#명령 옵션 [파일명]"
      ],
      "metadata": {
        "colab": {
          "base_uri": "https://localhost:8080/"
        },
        "id": "VnSO7b--be1j",
        "outputId": "c6416e00-3c1e-4afc-dd9f-22bddf8e9ee2"
      },
      "execution_count": null,
      "outputs": [
        {
          "output_type": "stream",
          "name": "stdout",
          "text": [
            "-rw-r--r-- 1 root root 1125558 Apr 13 02:24 Jeju.csv\n",
            "-rw-r--r-- 1 root root   60302 Apr 13 02:24 titanic.csv\n"
          ]
        }
      ]
    },
    {
      "cell_type": "markdown",
      "source": [
        "12. 권한 바꾸기 [별표 만개]"
      ],
      "metadata": {
        "id": "vvyzlV6pcKmU"
      }
    },
    {
      "cell_type": "code",
      "source": [
        "!ls -al"
      ],
      "metadata": {
        "colab": {
          "base_uri": "https://localhost:8080/"
        },
        "id": "9cYtcTMLcPW6",
        "outputId": "237838e9-4d82-4c95-9e0e-2684c69f32f4"
      },
      "execution_count": null,
      "outputs": [
        {
          "output_type": "stream",
          "name": "stdout",
          "text": [
            "total 1208\n",
            "drwxr-xr-x 1 root root    4096 Apr 13 02:24 .\n",
            "drwxr-xr-x 1 root root    4096 Apr 13 01:59 ..\n",
            "drwxr-xr-x 4 root root    4096 Apr 11 13:32 .config\n",
            "-rw-r--r-- 1 root root   28330 Apr 13 02:24 판다스문제.ipynb\n",
            "-rw-r--r-- 1 root root 1125558 Apr 13 02:24 Jeju.csv\n",
            "drwxr-xr-x 1 root root    4096 Apr 13 02:27 sample_data\n",
            "-rw-r--r-- 1 root root   60302 Apr 13 02:24 titanic.csv\n"
          ]
        }
      ]
    },
    {
      "cell_type": "code",
      "source": [
        "#제주 파일 권한 바꾸기\n",
        "!chmod 777 ./Jeju.csv"
      ],
      "metadata": {
        "id": "KghfO5tocnHi"
      },
      "execution_count": null,
      "outputs": []
    },
    {
      "cell_type": "code",
      "source": [
        "!ls -al"
      ],
      "metadata": {
        "colab": {
          "base_uri": "https://localhost:8080/"
        },
        "id": "Pa-uF9JScxU6",
        "outputId": "7df54a4d-6a99-4c76-b46f-ae86e28752b3"
      },
      "execution_count": null,
      "outputs": [
        {
          "output_type": "stream",
          "name": "stdout",
          "text": [
            "total 1208\n",
            "drwxr-xr-x 1 root root    4096 Apr 13 02:24 .\n",
            "drwxr-xr-x 1 root root    4096 Apr 13 01:59 ..\n",
            "drwxr-xr-x 4 root root    4096 Apr 11 13:32 .config\n",
            "-rw-r--r-- 1 root root   28330 Apr 13 02:24 판다스문제.ipynb\n",
            "-rwxrwxrwx 1 root root 1125558 Apr 13 02:24 Jeju.csv\n",
            "drwxr-xr-x 1 root root    4096 Apr 13 02:27 sample_data\n",
            "-rw-r--r-- 1 root root   60302 Apr 13 02:24 titanic.csv\n"
          ]
        }
      ]
    },
    {
      "cell_type": "code",
      "source": [
        "!chmod 555 ./Jeju.csv"
      ],
      "metadata": {
        "id": "2Y4iJrDLdAk3"
      },
      "execution_count": null,
      "outputs": []
    },
    {
      "cell_type": "code",
      "source": [
        "!ls -al"
      ],
      "metadata": {
        "colab": {
          "base_uri": "https://localhost:8080/"
        },
        "id": "kjKXGoYpdEE3",
        "outputId": "8e13582c-f012-4558-e14c-1ed06887c751"
      },
      "execution_count": null,
      "outputs": [
        {
          "output_type": "stream",
          "name": "stdout",
          "text": [
            "total 1208\n",
            "drwxr-xr-x 1 root root    4096 Apr 13 02:24 .\n",
            "drwxr-xr-x 1 root root    4096 Apr 13 01:59 ..\n",
            "drwxr-xr-x 4 root root    4096 Apr 11 13:32 .config\n",
            "-rw-r--r-- 1 root root   28330 Apr 13 02:24 판다스문제.ipynb\n",
            "-r-xr-xr-x 1 root root 1125558 Apr 13 02:24 Jeju.csv\n",
            "drwxr-xr-x 1 root root    4096 Apr 13 02:27 sample_data\n",
            "-rw-r--r-- 1 root root   60302 Apr 13 02:24 titanic.csv\n"
          ]
        }
      ]
    },
    {
      "cell_type": "markdown",
      "source": [
        "13. 폴더 및 내부 폴더도 권한 바꾸기"
      ],
      "metadata": {
        "id": "yZoY45l2dX0B"
      }
    },
    {
      "cell_type": "code",
      "source": [
        "#test 폴더 내부 확인\n",
        "!ls -al ./test/"
      ],
      "metadata": {
        "colab": {
          "base_uri": "https://localhost:8080/"
        },
        "id": "X9IRCv7TddVJ",
        "outputId": "524e0a08-e382-4361-e2e4-9178840e2235"
      },
      "execution_count": null,
      "outputs": [
        {
          "output_type": "stream",
          "name": "stdout",
          "text": [
            "total 1172\n",
            "drwxr-xr-x 2 root root    4096 Apr 13 02:33 .\n",
            "drwxr-xr-x 1 root root    4096 Apr 13 02:33 ..\n",
            "-r-xr-xr-x 1 root root 1125558 Apr 13 02:24 Jeju.csv\n",
            "-rw-r--r-- 1 root root   60302 Apr 13 02:24 titanic.csv\n"
          ]
        }
      ]
    },
    {
      "cell_type": "code",
      "source": [
        "#test 폴더 내부 파일 권한 변경\n",
        "!chmod 777 -R ./test"
      ],
      "metadata": {
        "id": "5Vf2YEi6drpT"
      },
      "execution_count": null,
      "outputs": []
    },
    {
      "cell_type": "code",
      "source": [
        "!ls -al ./test/"
      ],
      "metadata": {
        "colab": {
          "base_uri": "https://localhost:8080/"
        },
        "id": "5Uu4yZpddwST",
        "outputId": "6d233e2a-4fc6-492a-9ddd-4ac67b08a0bf"
      },
      "execution_count": null,
      "outputs": [
        {
          "output_type": "stream",
          "name": "stdout",
          "text": [
            "total 1172\n",
            "drwxrwxrwx 2 root root    4096 Apr 13 02:33 .\n",
            "drwxr-xr-x 1 root root    4096 Apr 13 02:33 ..\n",
            "-rwxrwxrwx 1 root root 1125558 Apr 13 02:24 Jeju.csv\n",
            "-rwxrwxrwx 1 root root   60302 Apr 13 02:24 titanic.csv\n"
          ]
        }
      ]
    },
    {
      "cell_type": "code",
      "source": [
        "!chmod 555 ./test/Jeju.csv"
      ],
      "metadata": {
        "id": "GTMWOovHeG-h"
      },
      "execution_count": null,
      "outputs": []
    },
    {
      "cell_type": "code",
      "source": [
        "!ls -al ./test/"
      ],
      "metadata": {
        "colab": {
          "base_uri": "https://localhost:8080/"
        },
        "id": "Y-LCLQ3OeSai",
        "outputId": "089e8e73-8a24-40c1-9021-9b6ceffe12fc"
      },
      "execution_count": null,
      "outputs": [
        {
          "output_type": "stream",
          "name": "stdout",
          "text": [
            "total 1172\n",
            "drwxrwxrwx 2 root root    4096 Apr 13 02:33 .\n",
            "drwxr-xr-x 1 root root    4096 Apr 13 02:33 ..\n",
            "-r-xr-xr-x 1 root root 1125558 Apr 13 02:24 Jeju.csv\n",
            "-rwxrwxrwx 1 root root   60302 Apr 13 02:24 titanic.csv\n"
          ]
        }
      ]
    },
    {
      "cell_type": "markdown",
      "source": [
        "14. 파일 삭제하기"
      ],
      "metadata": {
        "id": "FwrLCboIeV7Z"
      }
    },
    {
      "cell_type": "code",
      "source": [
        "!rm 판다스문제.ipynb"
      ],
      "metadata": {
        "id": "hIEl6QvveX0J"
      },
      "execution_count": null,
      "outputs": []
    },
    {
      "cell_type": "code",
      "source": [
        "!ls"
      ],
      "metadata": {
        "colab": {
          "base_uri": "https://localhost:8080/"
        },
        "id": "Kdvg2qDiedwp",
        "outputId": "ea27c84e-34f3-4b36-b148-189bab9b1146"
      },
      "execution_count": null,
      "outputs": [
        {
          "output_type": "stream",
          "name": "stdout",
          "text": [
            "sample_data  test\n"
          ]
        }
      ]
    },
    {
      "cell_type": "code",
      "source": [
        "#폴더 삭제는 옵션을 줘야 된다\n",
        "!rm test"
      ],
      "metadata": {
        "colab": {
          "base_uri": "https://localhost:8080/"
        },
        "id": "Vw-Z10W5eiTj",
        "outputId": "69db501a-1454-43ee-9768-33220293da34"
      },
      "execution_count": null,
      "outputs": [
        {
          "output_type": "stream",
          "name": "stdout",
          "text": [
            "rm: cannot remove 'test': Is a directory\n"
          ]
        }
      ]
    },
    {
      "cell_type": "code",
      "source": [
        "!rm -r test"
      ],
      "metadata": {
        "id": "NhWE6cgPen9v"
      },
      "execution_count": null,
      "outputs": []
    },
    {
      "cell_type": "code",
      "source": [
        "!ls"
      ],
      "metadata": {
        "colab": {
          "base_uri": "https://localhost:8080/"
        },
        "id": "a8MJTe_PesB5",
        "outputId": "1d20d79c-4dc2-4d6f-ecfb-a818457d9446"
      },
      "execution_count": null,
      "outputs": [
        {
          "output_type": "stream",
          "name": "stdout",
          "text": [
            "sample_data\n"
          ]
        }
      ]
    },
    {
      "cell_type": "markdown",
      "source": [
        "15. 컴퓨터 용량 확인하기"
      ],
      "metadata": {
        "id": "KEXBlEPOeut5"
      }
    },
    {
      "cell_type": "code",
      "source": [
        "!df -h"
      ],
      "metadata": {
        "colab": {
          "base_uri": "https://localhost:8080/"
        },
        "id": "zM9XopkvewYH",
        "outputId": "0c74390a-3e54-4890-a48f-946027a4b8c1"
      },
      "execution_count": null,
      "outputs": [
        {
          "output_type": "stream",
          "name": "stdout",
          "text": [
            "Filesystem      Size  Used Avail Use% Mounted on\n",
            "overlay          79G   24G   56G  30% /\n",
            "tmpfs            64M     0   64M   0% /dev\n",
            "shm             5.7G     0  5.7G   0% /dev/shm\n",
            "/dev/root       2.0G  1.1G  841M  58% /usr/sbin/docker-init\n",
            "tmpfs           6.4G  2.8M  6.4G   1% /var/colab\n",
            "/dev/sda1        77G   44G   34G  57% /opt/bin/.nvidia\n",
            "tmpfs           6.4G     0  6.4G   0% /proc/acpi\n",
            "tmpfs           6.4G     0  6.4G   0% /proc/scsi\n",
            "tmpfs           6.4G     0  6.4G   0% /sys/firmware\n"
          ]
        }
      ]
    },
    {
      "cell_type": "markdown",
      "source": [
        "16. 파일 찾기"
      ],
      "metadata": {
        "id": "8ljBP-_qezqv"
      }
    },
    {
      "cell_type": "code",
      "source": [
        "#파일 찾는 방법 알아오기\n",
        "!find"
      ],
      "metadata": {
        "id": "SuFmrXDfe1W4"
      },
      "execution_count": null,
      "outputs": []
    }
  ]
}