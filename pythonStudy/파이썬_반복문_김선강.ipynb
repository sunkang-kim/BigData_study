{
  "nbformat": 4,
  "nbformat_minor": 0,
  "metadata": {
    "colab": {
      "provenance": []
    },
    "kernelspec": {
      "name": "python3",
      "display_name": "Python 3"
    },
    "language_info": {
      "name": "python"
    }
  },
  "cells": [
    {
      "cell_type": "markdown",
      "source": [
        "01\n",
        "\n",
        "for문의 실행결과를 예측하라.\n",
        "\n",
        "```\n",
        "과일 = [\"사과\", \"귤\", \"수박\"]\n",
        "for 변수 in 과일:\n",
        "    print(변수)\n",
        "\n",
        "```"
      ],
      "metadata": {
        "id": "nj3TlapiH5L7"
      }
    },
    {
      "cell_type": "code",
      "source": [
        "#사과\n",
        "#귤\n",
        "#수박\n",
        "#과일을 하나씩 변수에 넣어서 출력한다."
      ],
      "metadata": {
        "id": "daXA4ISFH4t-"
      },
      "execution_count": null,
      "outputs": []
    },
    {
      "cell_type": "markdown",
      "source": [
        "02\n",
        "\n",
        "for문의 실행결과를 예측하라.\n",
        "\n",
        "```\n",
        "과일 = [\"사과\", \"귤\", \"수박\"]\n",
        "for 변수 in 과일:\n",
        "  print(\"#####\")\n",
        "```"
      ],
      "metadata": {
        "id": "-IlHn2gZIZd_"
      }
    },
    {
      "cell_type": "code",
      "execution_count": null,
      "metadata": {
        "id": "D1wrhEPoH0q4"
      },
      "outputs": [],
      "source": [
        "#####\n",
        "#####\n",
        "#####\n",
        "#과일의 길이만큼 3번 반복하여 #####이 3번 출력된다."
      ]
    },
    {
      "cell_type": "markdown",
      "source": [
        "03\n",
        "\n",
        "다음 for 문과 동일한 기능을 수행하는 코드를 작성하세요.\n",
        "\n",
        "```\n",
        "for 변수 in [\"A\", \"B\", \"C\"]:\n",
        "  print(변수)\n",
        "```"
      ],
      "metadata": {
        "id": "y63R3vi1Ie9-"
      }
    },
    {
      "cell_type": "code",
      "source": [
        "slist = [\"A\", \"B\", \"C\"]\n",
        "for i in slist :\n",
        "  print(i)\n",
        "#\"A\", \"B\", \"C\"를 담은 slist를 선언하고, 반복문을 이용하여 출력한다."
      ],
      "metadata": {
        "id": "HVfkYSGSIiUd",
        "colab": {
          "base_uri": "https://localhost:8080/"
        },
        "outputId": "c0948101-a322-4bfd-e885-468e6b08e7b0"
      },
      "execution_count": null,
      "outputs": [
        {
          "output_type": "stream",
          "name": "stdout",
          "text": [
            "A\n",
            "B\n",
            "C\n"
          ]
        }
      ]
    },
    {
      "cell_type": "markdown",
      "source": [
        "04\n",
        "\n",
        "for문을 풀어서 동일한 동작을하는 코드를 작성하라.\n",
        "\n",
        "```\n",
        "for 변수 in [\"A\", \"B\", \"C\"]:\n",
        "  print(\"출력:\", 변수)\n",
        "```"
      ],
      "metadata": {
        "id": "ugFsFUIOIjV2"
      }
    },
    {
      "cell_type": "code",
      "source": [
        "slist = [\"A\", \"B\", \"C\"]\n",
        "for i in slist :\n",
        "  print(\"출력:\", i)\n",
        "#\"A\", \"B\", \"C\"를 담은 slist를 선언하고, 반복문을 이용하여 출력한다."
      ],
      "metadata": {
        "id": "5elfVCaGIlu5",
        "colab": {
          "base_uri": "https://localhost:8080/"
        },
        "outputId": "a7f03e94-fac5-41af-eadd-55ad71993e61"
      },
      "execution_count": null,
      "outputs": [
        {
          "output_type": "stream",
          "name": "stdout",
          "text": [
            "출력: A\n",
            "출력: B\n",
            "출력: C\n"
          ]
        }
      ]
    },
    {
      "cell_type": "markdown",
      "source": [
        "05\n",
        "\n",
        "for문을 풀어서 동일한 동작을 하는 코드를 작성하라.\n",
        "\n",
        "```\n",
        "for 변수 in [\"A\", \"B\", \"C\"]:\n",
        "  b = 변수.lower()\n",
        "  print(\"변환:\", b)\n",
        "```"
      ],
      "metadata": {
        "id": "LnsnBSOdInw9"
      }
    },
    {
      "cell_type": "code",
      "source": [
        "slist = [\"A\", \"B\", \"C\"]\n",
        "for i in slist :\n",
        "  b = i.lower()\n",
        "  print(\"출력:\", b)\n",
        "#\"A\", \"B\", \"C\"를 담은 slist를 선언하고, 반복문을 이용하여 출력한다.\n",
        "# b는 i에 담긴 문자를 소문자로 변경하여 저장한다."
      ],
      "metadata": {
        "id": "1ngoFd7EIrAo",
        "colab": {
          "base_uri": "https://localhost:8080/"
        },
        "outputId": "5a94883d-834d-465b-f6df-b10af1b1335f"
      },
      "execution_count": null,
      "outputs": [
        {
          "output_type": "stream",
          "name": "stdout",
          "text": [
            "출력: a\n",
            "출력: b\n",
            "출력: c\n"
          ]
        }
      ]
    },
    {
      "cell_type": "markdown",
      "source": [
        "06\n",
        "\n",
        "다음 코드를 for문으로 작성하라.\n",
        "\n",
        "```\n",
        "변수 = 10\n",
        "print(변수)\n",
        "변수 = 20\n",
        "print(변수)\n",
        "변수 = 30\n",
        "print(변수)\n",
        "```"
      ],
      "metadata": {
        "id": "fWee8nxXItat"
      }
    },
    {
      "cell_type": "code",
      "source": [
        "#단순히 출력할 변수를 리스트에 담아 출력하는 방법 \n",
        "for i in [10,20,30] : \n",
        "  print(\"변수 =\", i)\n",
        "\n",
        "#리스트를 선언하고, 선언된 리스트를 이용하는 방법\n",
        "slist = [10,20,30]\n",
        "for i in slist :\n",
        "  print(\"변수 =\", i)\n",
        "\n",
        "#range를 이용하는 방법\n",
        "for i in range(10,31,10) :  #i가 10부터 31미만에서 10씩 증가함\n",
        "  print(\"변수 =\", i)"
      ],
      "metadata": {
        "id": "Ts11q_cRIw7Q",
        "colab": {
          "base_uri": "https://localhost:8080/"
        },
        "outputId": "be173217-fe57-4a64-f018-7cb04b3ed235"
      },
      "execution_count": null,
      "outputs": [
        {
          "output_type": "stream",
          "name": "stdout",
          "text": [
            "변수 = 10\n",
            "변수 = 20\n",
            "변수 = 30\n",
            "변수 = 10\n",
            "변수 = 20\n",
            "변수 = 30\n",
            "변수 = 10\n",
            "변수 = 20\n",
            "변수 = 30\n"
          ]
        }
      ]
    },
    {
      "cell_type": "markdown",
      "source": [
        "07\n",
        "\n",
        "다음 코드를 for문으로 작성하라.\n",
        "\n",
        "```\n",
        "print(10)\n",
        "print(20)\n",
        "print(30)\n",
        "```"
      ],
      "metadata": {
        "id": "JVBw3URdIyd4"
      }
    },
    {
      "cell_type": "code",
      "source": [
        "#단순히 출력할 변수를 리스트에 담아 출력하는 방법 \n",
        "for i in [10,20,30] : \n",
        "  print(f\"print({i})\")\n",
        "\n",
        "#리스트를 선언하고, 선언된 리스트를 이용하는 방법\n",
        "slist = [10,20,30]\n",
        "for i in slist :\n",
        "  print(f\"print({i})\")\n",
        "\n",
        "#range를 이용하는 방법\n",
        "for i in range(10,31,10) :  #i가 10부터 31미만에서 10씩 증가함\n",
        "  print(f\"print({i})\")"
      ],
      "metadata": {
        "id": "XLvKeXuiI2HH",
        "colab": {
          "base_uri": "https://localhost:8080/"
        },
        "outputId": "74f3398d-5f17-447d-982a-691b593c97ab"
      },
      "execution_count": null,
      "outputs": [
        {
          "output_type": "stream",
          "name": "stdout",
          "text": [
            "print(10)\n",
            "print(20)\n",
            "print(30)\n"
          ]
        }
      ]
    },
    {
      "cell_type": "markdown",
      "source": [
        "08\n",
        "\n",
        "다음 코드를 for문으로 작성하라.\n",
        "\n",
        "```\n",
        "print(10)\n",
        "print(\"-------\")\n",
        "print(20)\n",
        "print(\"-------\")\n",
        "print(30)\n",
        "print(\"-------\")\n",
        "```"
      ],
      "metadata": {
        "id": "2sDzJxplI3Jx"
      }
    },
    {
      "cell_type": "code",
      "source": [
        "for i in range(10,31,10) :  #i가 10부터 31미만에서 10씩 증가함\n",
        "  print(i)\n",
        "  print(\"------\")\n",
        "#숫자를 출력한 뒤 ----- 를 출력해야 하므로 반복문 안에 print(\"-----\")를 넣어준다."
      ],
      "metadata": {
        "id": "z-XVoPVcI6s3",
        "colab": {
          "base_uri": "https://localhost:8080/"
        },
        "outputId": "3e2e0bf5-58fd-4057-e9f6-dd21fec53ac0"
      },
      "execution_count": null,
      "outputs": [
        {
          "output_type": "stream",
          "name": "stdout",
          "text": [
            "10\n",
            "------\n",
            "20\n",
            "------\n",
            "30\n",
            "------\n"
          ]
        }
      ]
    },
    {
      "cell_type": "markdown",
      "source": [
        "09\n",
        "\n",
        "다음 코드를 for문으로 작성하라.\n",
        "\n",
        "```\n",
        "print(\"++++\")\n",
        "print(10)\n",
        "print(20)\n",
        "print(30)\n",
        "```"
      ],
      "metadata": {
        "id": "0oFn1hEnI-Y4"
      }
    },
    {
      "cell_type": "code",
      "source": [
        "print(\"++++\")\n",
        "for i in range(10,31,10) :\n",
        "  print(i)\n",
        "#++++를 먼저 출력한 뒤, 반복문을 이용하여 나머지를 출력한다."
      ],
      "metadata": {
        "id": "2EHBT0GUJAa3",
        "colab": {
          "base_uri": "https://localhost:8080/"
        },
        "outputId": "34801b8b-9536-4854-8dc2-85d108cbb940"
      },
      "execution_count": null,
      "outputs": [
        {
          "output_type": "stream",
          "name": "stdout",
          "text": [
            "++++\n",
            "10\n",
            "20\n",
            "30\n"
          ]
        }
      ]
    },
    {
      "cell_type": "markdown",
      "source": [
        "10\n",
        "\n",
        "다음 코드를 for문으로 작성하라.\n",
        "\n",
        "```\n",
        "print(\"-------\")\n",
        "print(\"-------\")\n",
        "print(\"-------\")\n",
        "print(\"-------\")\n",
        "```"
      ],
      "metadata": {
        "id": "s27YnAUAJB1q"
      }
    },
    {
      "cell_type": "code",
      "source": [
        "for i in range(4) :   #4번 반복하기 위해 range의 크기 설정\n",
        "  print(\"-------\")"
      ],
      "metadata": {
        "id": "s5YJV3lDJDwW",
        "colab": {
          "base_uri": "https://localhost:8080/"
        },
        "outputId": "f4d01d9d-f18d-4f51-f4f9-63475e02c92f"
      },
      "execution_count": null,
      "outputs": [
        {
          "output_type": "stream",
          "name": "stdout",
          "text": [
            "-------\n",
            "-------\n",
            "-------\n",
            "-------\n"
          ]
        }
      ]
    },
    {
      "cell_type": "markdown",
      "source": [
        "11\n",
        "\n",
        "다음과 같이 판매가가 저장된 리스트가 있을 때 부가세가 포함된 가격을 for 문을 사용해서 화면에 출력하라. 단 부가세는 10원으로 가정한다.\n",
        "\n",
        "```\n",
        "리스트 = [100, 200, 300]\n",
        "```\n",
        "```\n",
        "110\n",
        "210\n",
        "310\n",
        "```"
      ],
      "metadata": {
        "id": "UvtyvvC0JH5i"
      }
    },
    {
      "cell_type": "code",
      "source": [
        "for i in range(100,301,100) : #100부터 301미만에서 100씩 증가\n",
        "  print(i + 10)               #입력되는 i에 부가세 10씩 더해서 출력\n",
        "\n",
        "#slist 리스트를 설정하고, 하나씩 넣어서 출력\n",
        "slist = [100, 200, 300]\n",
        "for i in slist :\n",
        "  print(i + 10)"
      ],
      "metadata": {
        "id": "VDjvFSV3JMHP",
        "colab": {
          "base_uri": "https://localhost:8080/"
        },
        "outputId": "119b661d-4ae0-4e58-8824-7f96b930d032"
      },
      "execution_count": null,
      "outputs": [
        {
          "output_type": "stream",
          "name": "stdout",
          "text": [
            "110\n",
            "210\n",
            "310\n",
            "110\n",
            "210\n",
            "310\n"
          ]
        }
      ]
    },
    {
      "cell_type": "markdown",
      "source": [
        "12\n",
        "\n",
        "for 문을 사용해서 리스트에 저장된 값을 다음과 같이 출력하라.\n",
        "```\n",
        "리스트 = [\"김밥\", \"라면\", \"튀김\"]\n",
        "```\n",
        "```\n",
        "오늘의 메뉴: 김밥\n",
        "오늘의 메뉴: 라면\n",
        "오늘의 메뉴: 튀김\n",
        "```"
      ],
      "metadata": {
        "id": "9vHlClebJNW_"
      }
    },
    {
      "cell_type": "code",
      "source": [
        "#리스트\n",
        "slist = [\"김밥\", \"라면\", \"튀김\"]\n",
        "#리스트의 값을 하나씩 넣는 반복문\n",
        "for i in slist :\n",
        "  print(\"오늘의 메뉴:\",i)"
      ],
      "metadata": {
        "id": "cRjsTI40JP-n",
        "colab": {
          "base_uri": "https://localhost:8080/"
        },
        "outputId": "04d75611-2086-47cd-e239-c8dc4184ae08"
      },
      "execution_count": null,
      "outputs": [
        {
          "output_type": "stream",
          "name": "stdout",
          "text": [
            "오늘의 메뉴: 김밥\n",
            "오늘의 메뉴: 라면\n",
            "오늘의 메뉴: 튀김\n"
          ]
        }
      ]
    },
    {
      "cell_type": "markdown",
      "source": [
        "13\n",
        "\n",
        "리스트에 주식 종목이름이 저장돼 있다.\n",
        "\n",
        "```\n",
        "리스트 = [\"SK하이닉스\", \"삼성전자\", \"LG전자\"]\n",
        "```\n",
        "\n",
        "저장된 문자열의 길이를 다음과 같이 출력하라.\n",
        "```\n",
        "6\n",
        "4\n",
        "4\n",
        "```"
      ],
      "metadata": {
        "id": "ta3rV3l5JSAp"
      }
    },
    {
      "cell_type": "code",
      "source": [
        "slist = [\"SK하이닉스\", \"삼성전자\", \"LG전자\"]\n",
        "#문자열의 길이를 구하는 함수 len() 활용\n",
        "for i in slist :   \n",
        "  print(len(i))"
      ],
      "metadata": {
        "id": "sUHH3BZVJVU-",
        "colab": {
          "base_uri": "https://localhost:8080/"
        },
        "outputId": "a0c469f0-70d0-4e85-cfa4-53e94be73250"
      },
      "execution_count": null,
      "outputs": [
        {
          "output_type": "stream",
          "name": "stdout",
          "text": [
            "6\n",
            "4\n",
            "4\n"
          ]
        }
      ]
    },
    {
      "cell_type": "markdown",
      "source": [
        "14\n",
        "\n",
        "리스트에는 동물이름이 문자열로 저장돼 있다.\n",
        "\n",
        "```\n",
        "리스트 = ['dog', 'cat', 'parrot']\n",
        "```\n",
        "\n",
        "동물 이름과 글자수를 다음과 같이 출력하라.\n",
        "\n",
        "```\n",
        "dog 3\n",
        "cat 3\n",
        "parrot 6\n",
        "```"
      ],
      "metadata": {
        "id": "a2CPgXHkJW9L"
      }
    },
    {
      "cell_type": "code",
      "source": [
        "slist = ['dog', 'cat', 'parrot']\n",
        "#문자열의 길이를 구하는 함수 len() 활용\n",
        "for i in slist :  \n",
        "  print(i,len(i))"
      ],
      "metadata": {
        "id": "EWHBV3YaJdLn",
        "colab": {
          "base_uri": "https://localhost:8080/"
        },
        "outputId": "2916f5b6-7db1-45d3-da7d-7f243f31011c"
      },
      "execution_count": null,
      "outputs": [
        {
          "output_type": "stream",
          "name": "stdout",
          "text": [
            "dog 3\n",
            "cat 3\n",
            "parrot 6\n"
          ]
        }
      ]
    },
    {
      "cell_type": "markdown",
      "source": [
        "15\n",
        "\n",
        "리스트에 동물 이름 저장돼 있다.\n",
        "\n",
        "```\n",
        "리스트 = ['dog', 'cat', 'parrot']\n",
        "```\n",
        "for문을 사용해서 동물 이름의 첫 글자만 출력하라.\n",
        "```\n",
        "d\n",
        "c\n",
        "p\n",
        "```"
      ],
      "metadata": {
        "id": "F9XzfitTJfKo"
      }
    },
    {
      "cell_type": "code",
      "source": [
        "slist = ['dog', 'cat', 'parrot']\n",
        "#반복문 작성\n",
        "for i in slist :\n",
        "  print(i[0])     #문자열도 리스트이기 때문에 첫 글자는 [0]의 인덱스에 위치한다."
      ],
      "metadata": {
        "id": "snm3tWIjJhd-",
        "colab": {
          "base_uri": "https://localhost:8080/"
        },
        "outputId": "0e5a9720-95f9-40e3-bd55-556d2543b67a"
      },
      "execution_count": null,
      "outputs": [
        {
          "output_type": "stream",
          "name": "stdout",
          "text": [
            "d\n",
            "c\n",
            "p\n"
          ]
        }
      ]
    },
    {
      "cell_type": "markdown",
      "source": [
        "16\n",
        "\n",
        "리스트에는 세 개의 숫자가 바인딩돼 있다.\n",
        "\n",
        "```\n",
        "리스트 = [1, 2, 3]\n",
        "```\n",
        "\n",
        "for문을 사용해서 다음과 같이 출력하라.\n",
        "```\n",
        "3 x 1\n",
        "3 x 2\n",
        "3 x 3\n",
        "```"
      ],
      "metadata": {
        "id": "hAynRh5oJkoC"
      }
    },
    {
      "cell_type": "code",
      "source": [
        "slist = [1,2,3]\n",
        "\n",
        "for i in slist : \n",
        "  print(\"3 x\",i)"
      ],
      "metadata": {
        "id": "bp3yhyIhJnu2",
        "colab": {
          "base_uri": "https://localhost:8080/"
        },
        "outputId": "ddbafbd7-395f-4bd0-e1e5-0165ae95574c"
      },
      "execution_count": null,
      "outputs": [
        {
          "output_type": "stream",
          "name": "stdout",
          "text": [
            "3 x 1\n",
            "3 x 2\n",
            "3 x 3\n"
          ]
        }
      ]
    },
    {
      "cell_type": "markdown",
      "source": [
        "17\n",
        "\n",
        "리스트에는 세 개의 숫자가 바인딩돼 있다.\n",
        "\n",
        "```\n",
        "리스트 = [1, 2, 3]\n",
        "```\n",
        "for문을 사용해서 다음과 같이 출력하라.\n",
        "```\n",
        "3 x 1 = 3\n",
        "3 x 2 = 6\n",
        "3 x 3 = 9\n",
        "```"
      ],
      "metadata": {
        "id": "YQVozpP8JpUa"
      }
    },
    {
      "cell_type": "code",
      "source": [
        "slist = [1,2,3]\n",
        "\n",
        "for i in slist : \n",
        "  print(\"3 x\",i,\"=\",3*i)"
      ],
      "metadata": {
        "id": "nBz6rgCmJsjG",
        "colab": {
          "base_uri": "https://localhost:8080/"
        },
        "outputId": "dc8282cc-ec8f-4785-bb22-dd8c64992b48"
      },
      "execution_count": null,
      "outputs": [
        {
          "output_type": "stream",
          "name": "stdout",
          "text": [
            "3 x 1 = 3\n",
            "3 x 2 = 6\n",
            "3 x 3 = 9\n"
          ]
        }
      ]
    },
    {
      "cell_type": "markdown",
      "source": [
        "18\n",
        "\n",
        "리스트에는 네 개의 문자열이 바인딩돼 있다.\n",
        "\n",
        "```\n",
        "리스트 = [\"가\", \"나\", \"다\", \"라\"]\n",
        "```\n",
        "for문을 사용해서 다음과 같이 출력하라.\n",
        "```\n",
        "나\n",
        "다\n",
        "라\n",
        "```"
      ],
      "metadata": {
        "id": "E8QtxaNXJtn6"
      }
    },
    {
      "cell_type": "code",
      "source": [
        "slist = [\"가\", \"나\", \"다\", \"라\"]\n",
        "\n",
        "for i in range(1, len(slist)) :   #반복문의 범위를 1부터 리스트의 길이 4 전까지\n",
        "  print(slist[i])                 #i에 입력되는 값은 1,2,3 이므로 출력 값은 나, 다, 라가 된다."
      ],
      "metadata": {
        "id": "X7K7V6LCJwuO",
        "colab": {
          "base_uri": "https://localhost:8080/"
        },
        "outputId": "ad8b6933-166a-43c7-a7a0-dfcd968262a6"
      },
      "execution_count": null,
      "outputs": [
        {
          "output_type": "stream",
          "name": "stdout",
          "text": [
            "나\n",
            "다\n",
            "라\n"
          ]
        }
      ]
    },
    {
      "cell_type": "markdown",
      "source": [
        "19\n",
        "\n",
        "리스트에는 네 개의 문자열이 바인딩돼 있다.\n",
        "```\n",
        "리스트 = [\"가\", \"나\", \"다\", \"라\"]\n",
        "```\n",
        "for문을 사용해서 다음과 같이 출력하라.\n",
        "```\n",
        "가\n",
        "다\n",
        "```"
      ],
      "metadata": {
        "id": "4iJw6hJ4Jxzv"
      }
    },
    {
      "cell_type": "code",
      "source": [
        "slist = [\"가\", \"나\", \"다\", \"라\"]\n",
        "\n",
        "for i in range(0, len(slist),2) :\n",
        "  print(slist[i])"
      ],
      "metadata": {
        "id": "E4cprX7uJz8G",
        "colab": {
          "base_uri": "https://localhost:8080/"
        },
        "outputId": "72cf69c9-2b6f-4df9-f0ad-cb8475cb6b29"
      },
      "execution_count": null,
      "outputs": [
        {
          "output_type": "stream",
          "name": "stdout",
          "text": [
            "가\n",
            "다\n"
          ]
        }
      ]
    },
    {
      "cell_type": "markdown",
      "source": [
        "20\n",
        "\n",
        "리스트에는 네 개의 문자열이 바인딩돼 있다.\n",
        "\n",
        "```\n",
        "리스트 = [\"가\", \"나\", \"다\", \"라\"]\n",
        "```\n",
        "for문을 사용해서 다음과 같이 출력하라.\n",
        "```\n",
        "라\n",
        "다\n",
        "나\n",
        "가\n",
        "```"
      ],
      "metadata": {
        "id": "epf3OrxVJ1HF"
      }
    },
    {
      "cell_type": "code",
      "source": [
        "slist = [\"가\", \"나\", \"다\", \"라\"]\n",
        "\n",
        "for i in range(len(slist)-1,-1,-1) :\n",
        "  print(slist[i])"
      ],
      "metadata": {
        "id": "7CwSxNumJ3LW",
        "colab": {
          "base_uri": "https://localhost:8080/"
        },
        "outputId": "794be13d-0894-4b5f-be5d-e60c037af0d8"
      },
      "execution_count": null,
      "outputs": [
        {
          "output_type": "stream",
          "name": "stdout",
          "text": [
            "라\n",
            "다\n",
            "나\n",
            "가\n"
          ]
        }
      ]
    },
    {
      "cell_type": "markdown",
      "source": [
        "21\n",
        "\n",
        "리스트에는 네 개의 정수가 저장돼 있다.\n",
        "\n",
        "```\n",
        "리스트 = [3, -20, -3, 44]\n",
        "```\n",
        "\n",
        "for문을 사용해서 리스트의 음수를 출력하라.\n",
        "```\n",
        "-20\n",
        "-3\n",
        "```"
      ],
      "metadata": {
        "id": "pE9fIqHDJ9s0"
      }
    },
    {
      "cell_type": "code",
      "source": [
        "slist = [3, -20, -3, 44]\n",
        "\n",
        "for i in slist :  # 반복문 작성\n",
        "  if i < 0 :      # i가 0보다 작을 때만 실행\n",
        "    print(i)"
      ],
      "metadata": {
        "id": "dqe1ETKvKAlG",
        "colab": {
          "base_uri": "https://localhost:8080/"
        },
        "outputId": "1e8e4dd9-a2f5-4d8f-857a-34584102d9c2"
      },
      "execution_count": null,
      "outputs": [
        {
          "output_type": "stream",
          "name": "stdout",
          "text": [
            "-20\n",
            "-3\n"
          ]
        }
      ]
    },
    {
      "cell_type": "markdown",
      "source": [
        "22\n",
        "\n",
        "for문을 사용해서 3의 배수만을 출력하라.\n",
        "\n",
        "```\n",
        "리스트 = [3, 100, 23, 44]\n",
        "```\n",
        "```\n",
        "3\n",
        "```"
      ],
      "metadata": {
        "id": "rPp1HHYqKCP0"
      }
    },
    {
      "cell_type": "code",
      "source": [
        "slist = [3, 100, 23, 44]\n",
        "\n",
        "for i in slist :\n",
        "  if i%3 == 0 :\n",
        "    print(i)"
      ],
      "metadata": {
        "id": "WLQe83TpKE_1",
        "colab": {
          "base_uri": "https://localhost:8080/"
        },
        "outputId": "d9995260-f34d-4182-8b50-370e3e1368ff"
      },
      "execution_count": null,
      "outputs": [
        {
          "output_type": "stream",
          "name": "stdout",
          "text": [
            "3\n"
          ]
        }
      ]
    },
    {
      "cell_type": "markdown",
      "source": [
        "23\n",
        "\n",
        "리스트에서 20 보다 작은 3의 배수를 출력하라\n",
        "```\n",
        "리스트 = [13, 21, 12, 14, 30, 18]\n",
        "```\n",
        "```\n",
        "12\n",
        "18\n",
        "```"
      ],
      "metadata": {
        "id": "sUimQT4sKGpf"
      }
    },
    {
      "cell_type": "code",
      "source": [
        "slist = [13, 21, 12, 14, 30, 18]\n",
        "\n",
        "for i in slist :\n",
        "  if i < 20 and i%3 == 0 :\n",
        "    print(i)\n"
      ],
      "metadata": {
        "id": "APlCYIu_KJN0",
        "colab": {
          "base_uri": "https://localhost:8080/"
        },
        "outputId": "a667bd2b-4eab-49de-bb74-32263559f3f5"
      },
      "execution_count": null,
      "outputs": [
        {
          "output_type": "stream",
          "name": "stdout",
          "text": [
            "12\n",
            "18\n"
          ]
        }
      ]
    },
    {
      "cell_type": "markdown",
      "source": [
        "24\n",
        "\n",
        "리스트에서 세 글자 이상의 문자를 화면에 출력하라\n",
        "\n",
        "```\n",
        "리스트 = [\"I\", \"study\", \"python\", \"language\", \"!\"]\n",
        "```\n",
        "```\n",
        "study\n",
        "python\n",
        "language\n",
        "```"
      ],
      "metadata": {
        "id": "4s0rksTRKKNS"
      }
    },
    {
      "cell_type": "code",
      "source": [
        "slist = [\"I\", \"study\", \"python\", \"language\", \"!\"]\n",
        "\n",
        "for i in slist :      #slist의 값을 하나씩 i에 넣는 반복문\n",
        "  if len(i)>2 :       #문자열의 길이가 2보다 큰 값일때만 print(i)가 실행되는 조건문 작성\n",
        "    print(i)"
      ],
      "metadata": {
        "id": "LtTfqvmcKMzU",
        "colab": {
          "base_uri": "https://localhost:8080/"
        },
        "outputId": "c9a1e3bf-f0f9-4c0e-e9cf-603f06b58725"
      },
      "execution_count": null,
      "outputs": [
        {
          "output_type": "stream",
          "name": "stdout",
          "text": [
            "study\n",
            "python\n",
            "language\n"
          ]
        }
      ]
    },
    {
      "cell_type": "markdown",
      "source": [
        "25\n",
        "\n",
        "리스트에서 대문자만 화면에 출력하라.\n",
        "\n",
        "```\n",
        "리스트 = [\"A\", \"b\", \"c\", \"D\"]\n",
        "```\n",
        "```\n",
        "A\n",
        "D\n",
        "```\n",
        "(참고) isupper() 메서드는 대문자 여부를 판별합니다.\n",
        "```\n",
        ">> 변수 = \"A\"\n",
        ">> 변수.isupper()\n",
        "True\n",
        ">> 변수 = \"a\"\n",
        ">> 변수.isupper()\n",
        "False\n",
        "```"
      ],
      "metadata": {
        "id": "c5I7ebg9KOuC"
      }
    },
    {
      "cell_type": "code",
      "source": [
        "slist = [\"A\", \"b\", \"c\", \"D\"]\n",
        "\n",
        "for i in slist :\n",
        "  if i.isupper() :\n",
        "    print(i)"
      ],
      "metadata": {
        "id": "onxEPPu0KTIE",
        "colab": {
          "base_uri": "https://localhost:8080/"
        },
        "outputId": "169e47aa-400c-4b72-a80e-d48ce68dbdd6"
      },
      "execution_count": null,
      "outputs": [
        {
          "output_type": "stream",
          "name": "stdout",
          "text": [
            "A\n",
            "D\n"
          ]
        }
      ]
    },
    {
      "cell_type": "markdown",
      "source": [
        "26\n",
        "\n",
        "리스트에서 소문자만 화면에 출력하라.\n",
        "\n",
        "```\n",
        "리스트 = [\"A\", \"b\", \"c\", \"D\"]\n",
        "```\n",
        "```\n",
        "b\n",
        "c\n",
        "```"
      ],
      "metadata": {
        "id": "pohlP-hLKWR4"
      }
    },
    {
      "cell_type": "code",
      "source": [
        "slist = [\"A\", \"b\", \"c\", \"D\"]\n",
        "\n",
        "for i in slist :\n",
        "  if i.islower() :\n",
        "    print(i)"
      ],
      "metadata": {
        "id": "fAWX8SMkKZaz",
        "colab": {
          "base_uri": "https://localhost:8080/"
        },
        "outputId": "b176eb0d-a0a6-466d-e486-bba24e51afd1"
      },
      "execution_count": null,
      "outputs": [
        {
          "output_type": "stream",
          "name": "stdout",
          "text": [
            "b\n",
            "c\n"
          ]
        }
      ]
    },
    {
      "cell_type": "markdown",
      "source": [
        "27\n",
        "\n",
        "이름의 첫 글자를 대문자로 변경해서 출력하라.\n",
        "\n",
        "```\n",
        "리스트 = ['dog', 'cat', 'parrot']\n",
        "```\n",
        "```\n",
        "Dog\n",
        "Cat\n",
        "Parrot\n",
        "```\n",
        "(참고) upper() 메서드는 문자열을 대문자로 변경합니다.\n",
        "```\n",
        ">> 변수 = \"a\"\n",
        ">> a.upper()\n",
        "A\n",
        ">> 변수 = \"abc\"\n",
        ">> 변수.upper()\n",
        "ABC\n",
        "```"
      ],
      "metadata": {
        "id": "Ha1hzXzgKa4-"
      }
    },
    {
      "cell_type": "code",
      "source": [
        "slist = ['dog', 'cat', 'parrot']\n",
        "\n",
        "for i in slist :\n",
        "  print(i.capitalize())         #첫글자만 대문자로 바꿔주는 .capitalize() 함수 이용 방법\n",
        "  print(i[0].upper()+i[1:])     #첫글자만 upper()함수로 바꿔준 후, 이후 글자를 +로 연결해서 출력하는 방법"
      ],
      "metadata": {
        "id": "QI-6JVfEKesL",
        "colab": {
          "base_uri": "https://localhost:8080/"
        },
        "outputId": "d2b040f5-e8ac-496b-85d0-add30aa75606"
      },
      "execution_count": null,
      "outputs": [
        {
          "output_type": "stream",
          "name": "stdout",
          "text": [
            "Dog\n",
            "Dog\n",
            "Cat\n",
            "Cat\n",
            "Parrot\n",
            "Parrot\n"
          ]
        }
      ]
    },
    {
      "cell_type": "markdown",
      "source": [
        "28\n",
        "\n",
        "파일 이름이 저장된 리스트에서 확장자를 제거하고 파일 이름만 화면에 출력하라. (힌트: split() 메서드)\n",
        "\n",
        "```\n",
        "리스트 = ['hello.py', 'ex01.py', 'intro.hwp']\n",
        "```\n",
        "```\n",
        "hello\n",
        "ex01\n",
        "intro\n",
        "```"
      ],
      "metadata": {
        "id": "K6BlXeW-KgkB"
      }
    },
    {
      "cell_type": "code",
      "source": [
        "slist = ['hello.py', 'ex01.py', 'intro.hwp']\n",
        "\n",
        "for i in slist :\n",
        "  j = i.split(\".\")\n",
        "  print(j[0])\n",
        "\n",
        "  print(i.split(\".\")[0]) #바로 인덱싱도 가능하다."
      ],
      "metadata": {
        "id": "6qUacxDKKku7",
        "colab": {
          "base_uri": "https://localhost:8080/"
        },
        "outputId": "a0311c4f-9ef5-4402-c864-d99488cf9130"
      },
      "execution_count": null,
      "outputs": [
        {
          "output_type": "stream",
          "name": "stdout",
          "text": [
            "hello\n",
            "hello\n",
            "ex01\n",
            "ex01\n",
            "intro\n",
            "intro\n"
          ]
        }
      ]
    },
    {
      "cell_type": "markdown",
      "source": [
        "29\n",
        "파일 이름이 저장된 리스트에서 확장자가 .h인 파일 이름을 출력하라.\n",
        "\n",
        "```\n",
        "리스트 = ['intra.h', 'intra.c', 'define.h', 'run.py']\n",
        "```\n",
        "```\n",
        "intra.h\n",
        "define.h\n",
        "```"
      ],
      "metadata": {
        "id": "W-AMGKPBKl-5"
      }
    },
    {
      "cell_type": "code",
      "source": [
        "slist = ['intra.h', 'intra.c', 'define.h', 'run.py']\n",
        "\n",
        "for i in slist : \n",
        "  j = i.split(\".\")\n",
        "  if j[1] == \"h\" :\n",
        "    print(i)"
      ],
      "metadata": {
        "id": "RNTWAoItKoV7",
        "colab": {
          "base_uri": "https://localhost:8080/"
        },
        "outputId": "9d478ab2-d239-4035-c71f-dd33f86af8d9"
      },
      "execution_count": null,
      "outputs": [
        {
          "output_type": "stream",
          "name": "stdout",
          "text": [
            "intra.h\n",
            "define.h\n"
          ]
        }
      ]
    },
    {
      "cell_type": "markdown",
      "source": [
        "30\n",
        "파일 이름이 저장된 리스트에서 확장자가 .h나 .c인 파일을 화면에 출력하라.\n",
        "\n",
        "```\n",
        "리스트 = ['intra.h', 'intra.c', 'define.h', 'run.py']\n",
        "```\n",
        "```\n",
        "intra.h\n",
        "intra.c\n",
        "define.h\n",
        "```"
      ],
      "metadata": {
        "id": "GxnB0sOfKpZx"
      }
    },
    {
      "cell_type": "code",
      "source": [
        "slist = ['intra.h', 'intra.c', 'define.h', 'run.py']\n",
        "\n",
        "for i in slist : \n",
        "  j = i.split(\".\")                    #입력받은 값을 . 를 기준으로 split하여 j에 저장\n",
        "  if j[1] == \"h\" or j[1] == 'c' :     #j[0]에는 . 앞의 글자, j[1]에는 . 뒤의 글자들이 저장 됨\n",
        "    print(i)                          #j[1]의 글자가 h나 c 일때 i를 출력"
      ],
      "metadata": {
        "id": "gw7SzLG3KuNa",
        "colab": {
          "base_uri": "https://localhost:8080/"
        },
        "outputId": "5b2c6d6f-7ffe-432d-ee1e-033c41c0a214"
      },
      "execution_count": null,
      "outputs": [
        {
          "output_type": "stream",
          "name": "stdout",
          "text": [
            "intra.h\n",
            "intra.c\n",
            "define.h\n"
          ]
        }
      ]
    },
    {
      "cell_type": "markdown",
      "source": [
        "31\n",
        "\n",
        "for문과 range 구문을 사용해서 0~99까지 한 라인에 하나씩 순차적으로 출력하는 프로그램을 작성하라."
      ],
      "metadata": {
        "id": "N86eI1PPKyP-"
      }
    },
    {
      "cell_type": "code",
      "source": [
        "for i in range(0,100,1) :\n",
        "  print(i)\n",
        "\n",
        "for i in range(100) :\n",
        "  print(i)"
      ],
      "metadata": {
        "id": "5W6zECT9Kz-S"
      },
      "execution_count": null,
      "outputs": []
    },
    {
      "cell_type": "markdown",
      "source": [
        "32\n",
        "\n",
        "월드컵은 4년에 한 번 개최된다. range()를 사용하여 2002~2050년까지 중 월드컵이 개최되는 연도를 출력하라.\n",
        "\n",
        "```\n",
        "2002\n",
        "2006\n",
        "2010\n",
        "...\n",
        "2042\n",
        "2046\n",
        "2050\n",
        "```\n",
        "참고) range의 세번 째 파라미터는 증감폭을 결정합니다.\n",
        "```\n",
        ">> print(list(range(0, 10, 2)))\n",
        "[0, 2, 4, 6, 8]\n",
        "```"
      ],
      "metadata": {
        "id": "OLQV0U2tK0pv"
      }
    },
    {
      "cell_type": "code",
      "source": [
        "for i in range(2002, 2051, 4) :\n",
        "  print(i)"
      ],
      "metadata": {
        "id": "xwcDf1hlK5Mq"
      },
      "execution_count": null,
      "outputs": []
    },
    {
      "cell_type": "markdown",
      "source": [
        "33\n",
        "\n",
        "1부터 30까지의 숫자 중 3의 배수를 출력하라.\n",
        "\n",
        "```\n",
        "3 \n",
        "6 \n",
        "9 \n",
        "12 \n",
        "15 \n",
        "18 \n",
        "21 \n",
        "24 \n",
        "27 \n",
        "30\n",
        "```"
      ],
      "metadata": {
        "id": "cd3f89TZK65s"
      }
    },
    {
      "cell_type": "code",
      "source": [
        "for i in range(1,31) :    #1~30까지 반복하는 반복문\n",
        "  if i%3 == 0 :           #i를 3으로 나눈 나머지가 0일때 -> 3의 배수 일때\n",
        "    print(i)"
      ],
      "metadata": {
        "id": "6e8A_2p-K-n6",
        "colab": {
          "base_uri": "https://localhost:8080/"
        },
        "outputId": "ceb189ea-b3e6-47fb-ba3a-be98442a4796"
      },
      "execution_count": null,
      "outputs": [
        {
          "output_type": "stream",
          "name": "stdout",
          "text": [
            "3\n",
            "6\n",
            "9\n",
            "12\n",
            "15\n",
            "18\n",
            "21\n",
            "24\n",
            "27\n",
            "30\n"
          ]
        }
      ]
    },
    {
      "cell_type": "markdown",
      "source": [
        "34\n",
        "\n",
        "99부터 0까지 1씩 감소하는 숫자들을, 한 라인에 하나씩 출력하라."
      ],
      "metadata": {
        "id": "Nc5S2O9CLAGv"
      }
    },
    {
      "cell_type": "code",
      "source": [
        "for i in range(99,-1,-1) :\n",
        "  print(i)"
      ],
      "metadata": {
        "id": "pZNdmathLBNy"
      },
      "execution_count": null,
      "outputs": []
    },
    {
      "cell_type": "markdown",
      "source": [
        "35\n",
        "\n",
        "for문을 사용해서 아래와 같이 출력하라.\n",
        "\n",
        "```\n",
        "0.0\n",
        "0.1\n",
        "0.2\n",
        "0.3\n",
        "0.4\n",
        "0.5\n",
        "...\n",
        "0.9\n",
        "```"
      ],
      "metadata": {
        "id": "JgddzXfPLBk1"
      }
    },
    {
      "cell_type": "code",
      "source": [
        "for i in range(0,10) :\n",
        "  print(i/10)"
      ],
      "metadata": {
        "id": "i23O197gLHgS",
        "colab": {
          "base_uri": "https://localhost:8080/"
        },
        "outputId": "344acb06-cd79-46b1-f183-f40e04bee3eb"
      },
      "execution_count": null,
      "outputs": [
        {
          "output_type": "stream",
          "name": "stdout",
          "text": [
            "0.0\n",
            "0.1\n",
            "0.2\n",
            "0.3\n",
            "0.4\n",
            "0.5\n",
            "0.6\n",
            "0.7\n",
            "0.8\n",
            "0.9\n"
          ]
        }
      ]
    },
    {
      "cell_type": "markdown",
      "source": [
        "36\n",
        "\n",
        "구구단 3단을 출력하라.\n",
        "```\n",
        "3x1 = 3\n",
        "3x2 = 6\n",
        "3x3 = 9\n",
        "3x4 = 12\n",
        "3x5 = 15\n",
        "3x6 = 18\n",
        "3x7 = 21\n",
        "3x8 = 24\n",
        "3x9 = 27\n",
        "```"
      ],
      "metadata": {
        "id": "_06sP3QELH7V"
      }
    },
    {
      "cell_type": "code",
      "source": [
        "for i in range(1,10) :          #1~9까지 반복하는 반복문 작성\n",
        "  print('3x'+str(i),\"=\",3*i)    #문자열인 3x와 붙여쓰도록 i를 str타입으로 변환하여 +로 연결하여 작성"
      ],
      "metadata": {
        "id": "mXlW43ScLLaa",
        "colab": {
          "base_uri": "https://localhost:8080/"
        },
        "outputId": "c2732f94-d3e0-4938-cf48-31acfcbec580"
      },
      "execution_count": null,
      "outputs": [
        {
          "output_type": "stream",
          "name": "stdout",
          "text": [
            "3x1 = 3\n",
            "3x2 = 6\n",
            "3x3 = 9\n",
            "3x4 = 12\n",
            "3x5 = 15\n",
            "3x6 = 18\n",
            "3x7 = 21\n",
            "3x8 = 24\n",
            "3x9 = 27\n"
          ]
        }
      ]
    },
    {
      "cell_type": "markdown",
      "source": [
        "37\n",
        "\n",
        "구구단 3단을 출력하라. 단 홀수 번째만 출력한다.\n",
        "\n",
        "```\n",
        "3x1 = 3\n",
        "3x3 = 9\n",
        "3x5 = 15\n",
        "3x7 = 21\n",
        "3x9 = 27\n",
        "```"
      ],
      "metadata": {
        "id": "7pjK7TYCLMYs"
      }
    },
    {
      "cell_type": "code",
      "source": [
        "#스탭을 이용하여 출력\n",
        "for i in range(1,10,2) :\n",
        "  print('3x'+str(i),\"=\",3*i)\n",
        "\n",
        "#조건문을 추가하여 출력\n",
        "for i in range(1,10) :\n",
        "  if i%2 == 1 :\n",
        "    print('3x'+str(i),\"=\",3*i)"
      ],
      "metadata": {
        "id": "G4R92NLJLOUh",
        "colab": {
          "base_uri": "https://localhost:8080/"
        },
        "outputId": "9c24414e-f788-42ce-ffd7-467ce8e85717"
      },
      "execution_count": null,
      "outputs": [
        {
          "output_type": "stream",
          "name": "stdout",
          "text": [
            "3x1 = 3\n",
            "3x3 = 9\n",
            "3x5 = 15\n",
            "3x7 = 21\n",
            "3x9 = 27\n",
            "3x1 = 3\n",
            "3x3 = 9\n",
            "3x5 = 15\n",
            "3x7 = 21\n",
            "3x9 = 27\n"
          ]
        }
      ]
    },
    {
      "cell_type": "markdown",
      "source": [
        "38\n",
        "\n",
        "1~10까지의 숫자에 대해 모두 더한 값을 출력하는 프로그램을 for 문을 사용하여 작성하라.\n",
        "\n",
        "```\n",
        "합 : 55\n",
        "```"
      ],
      "metadata": {
        "id": "psl-ozEHLPgf"
      }
    },
    {
      "cell_type": "code",
      "source": [
        "sum = 0\n",
        "for i in range(1,11) :\n",
        "  sum += i\n",
        "print(\"합 :\",sum)"
      ],
      "metadata": {
        "id": "7aH2pY9uLSFR",
        "colab": {
          "base_uri": "https://localhost:8080/"
        },
        "outputId": "22c11337-f50e-4393-9826-f74c8ea1bc11"
      },
      "execution_count": null,
      "outputs": [
        {
          "output_type": "stream",
          "name": "stdout",
          "text": [
            "합 : 55\n"
          ]
        }
      ]
    },
    {
      "cell_type": "markdown",
      "source": [
        "39\n",
        "\n",
        "1~10까지의 숫자 중 모든 홀수의 합을 출력하는 프로그램을 for 문을 사용하여 작성하라.\n",
        "\n",
        "```\n",
        "합: 25\n",
        "```"
      ],
      "metadata": {
        "id": "JTW1VG-PLSij"
      }
    },
    {
      "cell_type": "code",
      "source": [
        "sum = 0\n",
        "for i in range(1,11) :    #1~10까지 반복하는 반복문\n",
        "  if i%2 == 1 :           #i를 2로 나눈 나머지가 1일때 -> 홀수 일때\n",
        "    sum += i              #sum = sum + i >>> sum에 i 값을 계속 더해줌\n",
        "print(\"합 :\",sum)"
      ],
      "metadata": {
        "id": "RG66BTsiLVfh",
        "colab": {
          "base_uri": "https://localhost:8080/"
        },
        "outputId": "dbbe0ded-3e1b-4f26-f446-afdacadaaeea"
      },
      "execution_count": null,
      "outputs": [
        {
          "output_type": "stream",
          "name": "stdout",
          "text": [
            "합 : 25\n"
          ]
        }
      ]
    },
    {
      "cell_type": "markdown",
      "source": [
        "40\n",
        "\n",
        "1~10까지의 숫자를 모두 곱한 값을 출력하는 프로그램을 for 문을 사용하여 작성하라."
      ],
      "metadata": {
        "id": "rU0Uwl-xLYFJ"
      }
    },
    {
      "cell_type": "code",
      "source": [
        "num = 1 \n",
        "for i in range(1,11) :\n",
        "  num *= i\n",
        "print(num)"
      ],
      "metadata": {
        "id": "r5PwKZ_lLY8x",
        "colab": {
          "base_uri": "https://localhost:8080/"
        },
        "outputId": "481b8475-6a7e-4e3f-bac1-6ca335390a5f"
      },
      "execution_count": null,
      "outputs": [
        {
          "output_type": "stream",
          "name": "stdout",
          "text": [
            "3628800\n"
          ]
        }
      ]
    },
    {
      "cell_type": "markdown",
      "source": [
        "41\n",
        "\n",
        "아래와 같이 리스트의 데이터를 출력하라. 단, for문과 range문을 사용하라.\n",
        "```\n",
        "price_list = [32100, 32150, 32000, 32500]\n",
        "32100\n",
        "32150\n",
        "32000\n",
        "32500\n",
        "```"
      ],
      "metadata": {
        "id": "zIpAlzdoLbTY"
      }
    },
    {
      "cell_type": "code",
      "source": [
        "price_list = [32100, 32150, 32000, 32500]\n",
        "\n",
        "for i in range(len(price_list)) :\n",
        "  print(price_list[i])"
      ],
      "metadata": {
        "id": "w6QfFpJXLhct",
        "colab": {
          "base_uri": "https://localhost:8080/"
        },
        "outputId": "5817a00b-849e-4a61-d5ff-5659e57951c3"
      },
      "execution_count": null,
      "outputs": [
        {
          "output_type": "stream",
          "name": "stdout",
          "text": [
            "32100\n",
            "32150\n",
            "32000\n",
            "32500\n"
          ]
        }
      ]
    },
    {
      "cell_type": "markdown",
      "source": [
        "42\n",
        "\n",
        "아래와 같이 리스트의 데이터를 출력하라. 단, for문과 range문을 사용하라.\n",
        "\n",
        "```\n",
        "price_list = [32100, 32150, 32000, 32500]\n",
        "0 32100\n",
        "1 32150\n",
        "2 32000\n",
        "3 32500\n",
        "```"
      ],
      "metadata": {
        "id": "bsViAc6pLi2M"
      }
    },
    {
      "cell_type": "code",
      "source": [
        "price_list = [32100, 32150, 32000, 32500]\n",
        "#반복문\n",
        "for i in range(len(price_list)) : #리스트의 크기 만큼 반복하는 반복문 : 0~3 까지\n",
        "  print(i, price_list[i])\n",
        "\n",
        "#인덱스와 값으로 저장하는 enumerate 함수를 이용한 방법\n",
        "for idx, value in enumerate(price_list) :\n",
        "  print(idx, value)"
      ],
      "metadata": {
        "id": "Eo19w7kzLjTY",
        "colab": {
          "base_uri": "https://localhost:8080/"
        },
        "outputId": "3ae361b6-9d6f-4b11-adae-4b4415bd9a5b"
      },
      "execution_count": null,
      "outputs": [
        {
          "output_type": "stream",
          "name": "stdout",
          "text": [
            "0 32100\n",
            "1 32150\n",
            "2 32000\n",
            "3 32500\n",
            "0 32100\n",
            "1 32150\n",
            "2 32000\n",
            "3 32500\n"
          ]
        }
      ]
    },
    {
      "cell_type": "markdown",
      "source": [
        "43\n",
        "\n",
        "아래와 같이 리스트의 데이터를 출력하라. 단, for문과 range문을 사용하라.\n",
        "\n",
        "```\n",
        "price_list = [32100, 32150, 32000, 32500]\n",
        "3 32100\n",
        "2 32150\n",
        "1 32000\n",
        "0 32500\n",
        "```"
      ],
      "metadata": {
        "id": "PF7H_7H_LkOU"
      }
    },
    {
      "cell_type": "code",
      "source": [
        "price_list = [32100, 32150, 32000, 32500]\n",
        "\n",
        "for i in range(len(price_list)) :\n",
        "  print(4-i-1, price_list[i])"
      ],
      "metadata": {
        "id": "ZA1kpp1nLnPB",
        "colab": {
          "base_uri": "https://localhost:8080/"
        },
        "outputId": "fde467db-2021-4c71-bc0f-2aec18706456"
      },
      "execution_count": null,
      "outputs": [
        {
          "output_type": "stream",
          "name": "stdout",
          "text": [
            "3 32100\n",
            "2 32150\n",
            "1 32000\n",
            "0 32500\n"
          ]
        }
      ]
    },
    {
      "cell_type": "markdown",
      "source": [
        "44\n",
        "\n",
        "아래와 같이 리스트의 데이터를 출력하라. 단, for문과 range문을 사용하라.\n",
        "\n",
        "```\n",
        "price_list = [32100, 32150, 32000, 32500]\n",
        "100 32150\n",
        "110 32000\n",
        "120 32500\n",
        "```"
      ],
      "metadata": {
        "id": "_L9G3mUkLpyx"
      }
    },
    {
      "cell_type": "code",
      "source": [
        "price_list = [32100, 32150, 32000, 32500]\n",
        "\n",
        "for i in range(1,len(price_list)) :\n",
        "  print(90+10*i,price_list[i])"
      ],
      "metadata": {
        "id": "Gbci3jZRLsNw",
        "colab": {
          "base_uri": "https://localhost:8080/"
        },
        "outputId": "3d2060e8-1c28-4cda-9872-358713019771"
      },
      "execution_count": null,
      "outputs": [
        {
          "output_type": "stream",
          "name": "stdout",
          "text": [
            "100 32150\n",
            "110 32000\n",
            "120 32500\n"
          ]
        }
      ]
    },
    {
      "cell_type": "markdown",
      "source": [
        "45\n",
        "\n",
        "my_list를 아래와 같이 출력하라.\n",
        "\n",
        "```\n",
        "my_list = [\"가\", \"나\", \"다\", \"라\"]\n",
        "가 나\n",
        "나 다\n",
        "다 라\n",
        "```"
      ],
      "metadata": {
        "id": "8n3XqlXsLtUT"
      }
    },
    {
      "cell_type": "code",
      "source": [
        "my_list = [\"가\", \"나\", \"다\", \"라\"]\n",
        "\n",
        "for i in range(len(my_list)-1) :    #리스트의 길이는 4, 필요한 반복 회수는 3 이므로 리스트 길이-1 만큼 반복 => 0~3\n",
        "  print(my_list[i],my_list[i+1])    #바로 다음 값이 출력되도록 인덱스 값을 작성"
      ],
      "metadata": {
        "id": "ev2lLcsrLvQx",
        "colab": {
          "base_uri": "https://localhost:8080/"
        },
        "outputId": "fd9497cf-a08c-44f6-cc77-ae000d443c39"
      },
      "execution_count": null,
      "outputs": [
        {
          "output_type": "stream",
          "name": "stdout",
          "text": [
            "가 나\n",
            "나 다\n",
            "다 라\n"
          ]
        }
      ]
    },
    {
      "cell_type": "markdown",
      "source": [
        "46\n",
        "\n",
        "리스트를 아래와 같이 출력하라.\n",
        "\n",
        "```\n",
        "my_list = [\"가\", \"나\", \"다\", \"라\", \"마\"]\n",
        "가 나 다\n",
        "나 다 라\n",
        "다 라 마\n",
        "```"
      ],
      "metadata": {
        "id": "y3_FEeI1Lzba"
      }
    },
    {
      "cell_type": "code",
      "source": [
        "my_list = [\"가\", \"나\", \"다\", \"라\", \"마\"]\n",
        "\n",
        "for i in range(len(my_list)-2) :\n",
        "  print(my_list[i],my_list[i+1],my_list[i+2])"
      ],
      "metadata": {
        "id": "QHwzTwexL1fY",
        "colab": {
          "base_uri": "https://localhost:8080/"
        },
        "outputId": "37be8761-de70-43a2-a9dc-d41cfc3fdaef"
      },
      "execution_count": null,
      "outputs": [
        {
          "output_type": "stream",
          "name": "stdout",
          "text": [
            "가 나 다\n",
            "나 다 라\n",
            "다 라 마\n"
          ]
        }
      ]
    },
    {
      "cell_type": "markdown",
      "source": [
        "47\n",
        "\n",
        "반복문과 range 함수를 사용해서 my_list를 아래와 같이 출력하라.\n",
        "\n",
        "```\n",
        "my_list = [\"가\", \"나\", \"다\", \"라\"]\n",
        "라 다\n",
        "다 나\n",
        "나 가\n",
        "```"
      ],
      "metadata": {
        "id": "VLKZFDnKMBUL"
      }
    },
    {
      "cell_type": "code",
      "source": [
        "my_list = [\"가\", \"나\", \"다\", \"라\"]\n",
        "\n",
        "for i in range(len(my_list)-1,0,-1) :\n",
        "  print(my_list[i],my_list[i-1])"
      ],
      "metadata": {
        "id": "TUfd2eVoMDSY",
        "colab": {
          "base_uri": "https://localhost:8080/"
        },
        "outputId": "8e4560e1-cfe2-47d0-a806-961e94cc6450"
      },
      "execution_count": null,
      "outputs": [
        {
          "output_type": "stream",
          "name": "stdout",
          "text": [
            "라 다\n",
            "다 나\n",
            "나 가\n"
          ]
        }
      ]
    },
    {
      "cell_type": "markdown",
      "source": [
        "48\n",
        "\n",
        "리스트에는 네 개의 정수가 저장되어 있다. 각각의 데이터에 대해서 자신과 우측값과의 차분값을 화면에 출력하라.\n",
        "\n",
        "```\n",
        "my_list = [100, 200, 400, 800]\n",
        "```\n",
        "예를들어 100을 기준으로 우측에 위치한 200과의 차분 값를 화면에 출력하고, 200을 기준으로 우측에 위치한 400과의 차분값을 화면에 출력한다. 이어서 400을 기준으로 우측에 위치한 800과의 차분값을 화면에 출력한다.\n",
        "```\n",
        "100\n",
        "200\n",
        "400\n",
        "```"
      ],
      "metadata": {
        "id": "tIBwv82dMLMP"
      }
    },
    {
      "cell_type": "code",
      "source": [
        "my_list = [100, 200, 400, 800]\n",
        "\n",
        "for i in range(len(my_list)-1) :    #리스트의 길이는 4, 필요한 반복 회수는 3 이므로 리스트 길이-1 만큼 반복 => 0~3\n",
        "  print(my_list[i+1] - my_list[i])  #차분 값을 출력하기 위해 다음 인덱스 - 현재 인덱스로 작성"
      ],
      "metadata": {
        "id": "qON0RdjOMPDX",
        "colab": {
          "base_uri": "https://localhost:8080/"
        },
        "outputId": "0a97c37c-5a63-4079-8f02-40a843a53de8"
      },
      "execution_count": null,
      "outputs": [
        {
          "output_type": "stream",
          "name": "stdout",
          "text": [
            "100\n",
            "200\n",
            "400\n"
          ]
        }
      ]
    },
    {
      "cell_type": "markdown",
      "source": [
        "49\n",
        "\n",
        "리스트에는 6일 간의 종가 데이터가 저장되어 있다. 종가 데이터의 3일 이동 평균을 계산하고 이를 화면에 출력하라.\n",
        "\n",
        "```\n",
        "my_list = [100, 200, 400, 800, 1000, 1300]\n",
        "```\n",
        "첫 번째 줄에는 100, 200, 400의 평균값이 출력된다. 두 번째 줄에는 200, 400, 800의 평균값이 출력된다. 같은 방식으로 나머지 데이터의 평균을 출력한다.\n",
        "```\n",
        "233.33333333333334\n",
        "466.6666666666667\n",
        "733.3333333333334\n",
        "1033.3333333333333\n",
        "```"
      ],
      "metadata": {
        "id": "CMVVe4tBMQ3D"
      }
    },
    {
      "cell_type": "code",
      "source": [
        "my_list = [100, 200, 400, 800, 1000, 1300]\n",
        "\n",
        "for i in range(len(my_list)-2) : \n",
        "  print((my_list[i] + my_list[i+1] + my_list[i+2])/3)"
      ],
      "metadata": {
        "id": "a1E-LSETMTxf",
        "colab": {
          "base_uri": "https://localhost:8080/"
        },
        "outputId": "de2f8de3-77b9-4e0d-bb38-cf41888b929e"
      },
      "execution_count": null,
      "outputs": [
        {
          "output_type": "stream",
          "name": "stdout",
          "text": [
            "233.33333333333334\n",
            "466.6666666666667\n",
            "733.3333333333334\n",
            "1033.3333333333333\n"
          ]
        }
      ]
    },
    {
      "cell_type": "markdown",
      "source": [
        "50\n",
        "\n",
        "리스트에 5일간의 저가, 고가 정보가 저장돼 있다. 고가와 저가의 차를 변동폭이라고 정의할 때, low, high 두 개의 리스트를 사용해서 5일간의 변동폭을 volatility 리스트에 저장하라.\n",
        "\n",
        "```\n",
        "low_prices  = [100, 200, 400, 800, 1000]\n",
        "high_prices = [150, 300, 430, 880, 1000]\n",
        "```"
      ],
      "metadata": {
        "id": "XKsgaHAzMWGi"
      }
    },
    {
      "cell_type": "code",
      "source": [
        "low_prices  = [100, 200, 400, 800, 1000]\n",
        "high_prices = [150, 300, 430, 880, 1000]\n",
        "\n",
        "volatility = []\n",
        "\n",
        "for i in range(len(low_prices)) :\n",
        "  volatility.append(high_prices[i] - low_prices[i])\n",
        "print(volatility)"
      ],
      "metadata": {
        "colab": {
          "base_uri": "https://localhost:8080/"
        },
        "id": "q4FNjQmh5kaW",
        "outputId": "7c98f1be-84ab-452a-8f0d-e5ce6611a939"
      },
      "execution_count": null,
      "outputs": [
        {
          "output_type": "stream",
          "name": "stdout",
          "text": [
            "[50, 100, 30, 80, 0]\n"
          ]
        }
      ]
    }
  ]
}