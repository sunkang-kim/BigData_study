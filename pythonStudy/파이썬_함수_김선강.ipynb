{
  "nbformat": 4,
  "nbformat_minor": 0,
  "metadata": {
    "colab": {
      "provenance": []
    },
    "kernelspec": {
      "name": "python3",
      "display_name": "Python 3"
    },
    "language_info": {
      "name": "python"
    }
  },
  "cells": [
    {
      "cell_type": "markdown",
      "source": [
        "01 \n",
        "\n",
        "\"뉴딜\" 문자열을 화면에 출력하는 print_new() 함수를 정의하라."
      ],
      "metadata": {
        "id": "bZKGkTFENJX2"
      }
    },
    {
      "cell_type": "code",
      "execution_count": null,
      "metadata": {
        "id": "AEBlty-UNImm"
      },
      "outputs": [],
      "source": [
        "# def 함수이름 :\n",
        "# 함수에서 하는 행위 작성\n",
        "def print_new() :\n",
        "  print(\"뉴딜\")"
      ]
    },
    {
      "cell_type": "markdown",
      "source": [
        "02\n",
        "\n",
        "01번에서 정의한 함수를 호출하라."
      ],
      "metadata": {
        "id": "9Fno-FRnNQcX"
      }
    },
    {
      "cell_type": "code",
      "source": [
        "#함수명() 함수 호출\n",
        "print_new()"
      ],
      "metadata": {
        "id": "ho11AW3cNTrD",
        "colab": {
          "base_uri": "https://localhost:8080/"
        },
        "outputId": "3073f731-af40-40a6-89f2-da4c45f5bdc4"
      },
      "execution_count": null,
      "outputs": [
        {
          "output_type": "stream",
          "name": "stdout",
          "text": [
            "뉴딜\n"
          ]
        }
      ]
    },
    {
      "cell_type": "markdown",
      "source": [
        "03\n",
        "\n",
        "01번에서 정의한 print_new 함수를 100번호출하라."
      ],
      "metadata": {
        "id": "DmXnZifVNUdH"
      }
    },
    {
      "cell_type": "code",
      "source": [
        "#반복문을 이용하여 100번 호출\n",
        "for i in range(100) :\n",
        "  print_new()"
      ],
      "metadata": {
        "id": "pFTuFNWYNdxZ"
      },
      "execution_count": null,
      "outputs": []
    },
    {
      "cell_type": "markdown",
      "source": [
        "04\n",
        "\n",
        "\"뉴딜\" 문자열을 100번 화면에 출력하는 new_prints() 함수를 정의하라."
      ],
      "metadata": {
        "id": "pZ9O4RqqNd_h"
      }
    },
    {
      "cell_type": "code",
      "source": [
        "def new_prints() :          # 함수 선언\n",
        "  for i in range(100) :     # 100회 반복하는 반복문 작성\n",
        "    print(\"뉴딜\")           # 반복할 내용 작성\n",
        "\n",
        "new_prints()                #함수 실행"
      ],
      "metadata": {
        "id": "gsMsYYzGPBNG"
      },
      "execution_count": null,
      "outputs": []
    },
    {
      "cell_type": "markdown",
      "source": [
        "05\n",
        "\n",
        "아래의 에러가 발생하는 이유에 대해 설명하라.\n",
        "\n",
        "```\n",
        "hello()\n",
        "def hello():\n",
        "    print(\"Hi\")\n",
        "```\n",
        "\n",
        "실행 예\n",
        "```\n",
        "NameError: name 'hello' is not defined\n",
        "```\n"
      ],
      "metadata": {
        "id": "Rihgf7vdPOP9"
      }
    },
    {
      "cell_type": "code",
      "source": [
        "#함수가 정의되기 전에 함수를 불러와서 에러가 발생\n",
        "#함수를 선언한 뒤 함수를 호출하면 사용 가능\n",
        "\n",
        "def hello():\n",
        "    print(\"Hi\")\n",
        "\n",
        "hello()"
      ],
      "metadata": {
        "id": "BCF_iIVwPWfp",
        "colab": {
          "base_uri": "https://localhost:8080/"
        },
        "outputId": "47bf2943-7e70-49e0-a45f-5d731725fbc8"
      },
      "execution_count": 1,
      "outputs": [
        {
          "output_type": "stream",
          "name": "stdout",
          "text": [
            "Hi\n"
          ]
        }
      ]
    },
    {
      "cell_type": "markdown",
      "source": [
        "06\n",
        "\n",
        "아래 코드의 실행 결과를 예측하라.\n",
        "\n",
        "```\n",
        "def message() :\n",
        "    print(\"A\")\n",
        "    print(\"B\")\n",
        "\n",
        "message()\n",
        "print(\"C\")\n",
        "message()\n",
        "```"
      ],
      "metadata": {
        "id": "GuAAXOCAParp"
      }
    },
    {
      "cell_type": "code",
      "source": [
        "A\n",
        "B\n",
        "C\n",
        "A\n",
        "B\n",
        "#message()함수를 실행하면 A, B가 출력되고, C를 출력한 이후 다시 message() 함수를 실행하여 A, B가 다시 출력된다."
      ],
      "metadata": {
        "id": "FLsz-2t4PenB"
      },
      "execution_count": null,
      "outputs": []
    },
    {
      "cell_type": "markdown",
      "source": [
        "07\n",
        "\n",
        "아래 코드의 실행 결과를 예측하라. (읽기 어려운 코드의 예입니다.)\n",
        "\n",
        "```\n",
        "print(\"A\")\n",
        "\n",
        "def message() :\n",
        "    print(\"B\")\n",
        "\n",
        "print(\"C\")\n",
        "message()\n",
        "```"
      ],
      "metadata": {
        "id": "04sl6tQyPiaZ"
      }
    },
    {
      "cell_type": "code",
      "source": [
        "A\n",
        "C\n",
        "B\n",
        "#A를 먼저 출력하고, message() 함수를 정의.\n",
        "#C를 출력한 뒤, message() 함수가 실행되어 B가 출력된다."
      ],
      "metadata": {
        "id": "Qtpv5VmoZccn"
      },
      "execution_count": null,
      "outputs": []
    },
    {
      "cell_type": "markdown",
      "source": [
        "08\n",
        "\n",
        "아래 코드의 실행 결과를 예측하라. (읽기 어려운 코드의 예입니다.)\n",
        "```\n",
        "print(\"A\")\n",
        "def message1() :\n",
        "    print(\"B\")\n",
        "print(\"C\")\n",
        "def message2() :\n",
        "    print(\"D\")\n",
        "message1()\n",
        "print(\"E\")\n",
        "message2()\n",
        "```"
      ],
      "metadata": {
        "id": "-0Urje6bPm9P"
      }
    },
    {
      "cell_type": "code",
      "source": [
        "A\n",
        "C\n",
        "B\n",
        "E\n",
        "D\n",
        "#A 출력, message1() 함수 정의, C 출력, message2() 함수 정의\n",
        "#message1() 실행 B 출력, E 출력, message2() 실행 D 출력"
      ],
      "metadata": {
        "id": "quw5X00dPq1Q"
      },
      "execution_count": null,
      "outputs": []
    },
    {
      "cell_type": "markdown",
      "source": [
        "09\n",
        "\n",
        "아래 코드의 실행 결과를 예측하라.\n",
        "\n",
        "```\n",
        "def message1():\n",
        "    print(\"A\")\n",
        "\n",
        "def message2():\n",
        "    print(\"B\")\n",
        "    message1()\n",
        "\n",
        "message2()\n",
        "```"
      ],
      "metadata": {
        "id": "pwMD3-S4PrTk"
      }
    },
    {
      "cell_type": "code",
      "source": [
        "B\n",
        "A\n",
        "#message1(), message2() 함수 정의\n",
        "#message2()실행 B 출력, message1()실행 A 출력"
      ],
      "metadata": {
        "id": "De-PwqqwP0RQ"
      },
      "execution_count": null,
      "outputs": []
    },
    {
      "cell_type": "markdown",
      "source": [
        "10\n",
        "\n",
        "아래 코드의 실행 결과를 예측하라.\n",
        "\n",
        "```\n",
        "def message1():\n",
        "    print(\"A\")\n",
        "\n",
        "def message2():\n",
        "    print(\"B\")\n",
        "\n",
        "def message3():\n",
        "    for i in range (3) :\n",
        "        message2()\n",
        "        print(\"C\")\n",
        "    message1()\n",
        "\n",
        "message3()\n",
        "\n",
        "```"
      ],
      "metadata": {
        "id": "Uk2oLx17P2s7"
      }
    },
    {
      "cell_type": "code",
      "source": [
        "#함수가 순서대로 정의\n",
        "#message3() 함수 실행\n",
        "#반복문 3회 실행 B C B C B C 출력 된 후 message1() 실행되어 A 출력"
      ],
      "metadata": {
        "id": "OrspRUSxP6IY"
      },
      "execution_count": null,
      "outputs": []
    },
    {
      "cell_type": "markdown",
      "source": [
        "11\n",
        "\n",
        "\n",
        "함수의 호출 결과를 예측하라.\n",
        "```\n",
        "def 함수(문자열) :\n",
        "    print(문자열)\n",
        "\n",
        "함수(\"안녕\")\n",
        "함수(\"Hi\")\n",
        "```"
      ],
      "metadata": {
        "id": "AvWbaDMAP6nI"
      }
    },
    {
      "cell_type": "code",
      "source": [
        "#함수(\"안녕\") 실행 -> 안녕 출력\n",
        "#함수(\"Hi\") 실행 -> Hi 출력"
      ],
      "metadata": {
        "id": "1Fse24b3P_uP"
      },
      "execution_count": null,
      "outputs": []
    },
    {
      "cell_type": "markdown",
      "source": [
        "12\n",
        "\n",
        "함수의 호출 결과를 예측하라.\n",
        "\n",
        "```\n",
        "def 함수(a, b) :\n",
        "    print(a + b)\n",
        "\n",
        "함수(3, 4)\n",
        "함수(7, 8)\n",
        "```"
      ],
      "metadata": {
        "id": "jyPw2HBcQAMi"
      }
    },
    {
      "cell_type": "code",
      "source": [
        "#함수(3,4) 실행 -> 7 출력\n",
        "#함수(7,8) 실행 -> 15 출력"
      ],
      "metadata": {
        "id": "ZJLPbX_zQCaf"
      },
      "execution_count": null,
      "outputs": []
    },
    {
      "cell_type": "markdown",
      "source": [
        "13\n",
        "\n",
        "아래와 같은 에러가 발생하는 원인을 설명하라.\n",
        "\n",
        "```\n",
        "def 함수(문자열) :\n",
        "    print(문자열)\n",
        "\n",
        "함수()\n",
        "```\n",
        "\n",
        "```\n",
        "TypeError: 함수() missing 1 required positional argument: '문자열'\n",
        "```"
      ],
      "metadata": {
        "id": "L2_nJyf6QEku"
      }
    },
    {
      "cell_type": "code",
      "source": [
        "#함수()에 주어지는 인수가 없어서 에러가 발생"
      ],
      "metadata": {
        "id": "--nJXZkxQJ-n"
      },
      "execution_count": null,
      "outputs": []
    },
    {
      "cell_type": "markdown",
      "source": [
        "14\n",
        "\n",
        "아래와 같은 에러가 발생하는 원인을 설명하라.\n",
        "```\n",
        "def 함수(a, b) :\n",
        "    print(a + b)\n",
        "\n",
        "함수(\"안녕\", 3)\n",
        "```"
      ],
      "metadata": {
        "id": "KOnAR360QQmx"
      }
    },
    {
      "cell_type": "code",
      "source": [
        "#주어지는 인수의 타입이 서로 일치하지 않아 에러가 발생"
      ],
      "metadata": {
        "id": "VLwkbpheQT0e"
      },
      "execution_count": null,
      "outputs": []
    },
    {
      "cell_type": "markdown",
      "source": [
        "15\n",
        "\n",
        "하나의 문자를 입력받아 문자열 끝에 \":D\" 스마일 문자열을 이어 붙여 출력하는 print_with_smile 함수를 정의하라."
      ],
      "metadata": {
        "id": "HpDVku90QUr3"
      }
    },
    {
      "cell_type": "code",
      "source": [
        "def print_with_smile(msg) :   # 함수 정의 \n",
        "  print(msg + \" :D\")          # 함수가 하는 일 작성\n",
        "\n",
        "print_with_smile(\"안녕\")      # 문자열 뒤에 :D 가 붙어 출력"
      ],
      "metadata": {
        "id": "JWZ1Ar4KQW3O",
        "colab": {
          "base_uri": "https://localhost:8080/"
        },
        "outputId": "7b639580-fc3b-4591-c73e-f59b12f237d5"
      },
      "execution_count": null,
      "outputs": [
        {
          "output_type": "stream",
          "name": "stdout",
          "text": [
            "안녕 :D\n"
          ]
        }
      ]
    },
    {
      "cell_type": "markdown",
      "source": [
        "16\n",
        "\n",
        "15에서 정의한 함수를 호출하라. 파라미터는 \"안녕하세요\"로 입력하라.\n",
        "\n"
      ],
      "metadata": {
        "id": "9hm2K6BaQZ-v"
      }
    },
    {
      "cell_type": "code",
      "source": [
        "# 15번에서 정의한 함수 print_with_smile() 에\n",
        "# 파라미터 \"안녕하세요\" 입력 후 실행\n",
        "print_with_smile(\"안녕하세요\")"
      ],
      "metadata": {
        "id": "XufEKUK2QdgW",
        "colab": {
          "base_uri": "https://localhost:8080/"
        },
        "outputId": "458976b4-dbd9-4c74-a7a6-7e3211efa6dd"
      },
      "execution_count": null,
      "outputs": [
        {
          "output_type": "stream",
          "name": "stdout",
          "text": [
            "안녕하세요:D\n"
          ]
        }
      ]
    },
    {
      "cell_type": "markdown",
      "source": [
        "17\n",
        "\n",
        "현재 가격을 입력 받아 상한가 (30%)를 출력하는 print_upper_price 함수를 정의하라."
      ],
      "metadata": {
        "id": "3lUj5hXRQfI-"
      }
    },
    {
      "cell_type": "code",
      "source": [
        "def print_upper_price(price) :\n",
        "  print(price*1.3)\n",
        "\n",
        "print_upper_price(2000)"
      ],
      "metadata": {
        "id": "NG28myQ9QhI-",
        "colab": {
          "base_uri": "https://localhost:8080/"
        },
        "outputId": "58731b4c-bbf4-49cc-f0fa-de7779a4b720"
      },
      "execution_count": null,
      "outputs": [
        {
          "output_type": "stream",
          "name": "stdout",
          "text": [
            "2600.0\n"
          ]
        }
      ]
    },
    {
      "cell_type": "markdown",
      "source": [
        "18\n",
        "\n",
        "두 개의 숫자를 입력받아 두 수의 합을 출력하는 print_sum 함수를 정의하라."
      ],
      "metadata": {
        "id": "jRC8OmBEQhhH"
      }
    },
    {
      "cell_type": "code",
      "source": [
        "# 함수 정의\n",
        "def print_sum(a,b) :  # 2개의 숫자를 받음\n",
        "  print(a+b)          # 두 수의 합을 계산\n",
        "\n",
        "print_sum(2,3)"
      ],
      "metadata": {
        "id": "wzPmXmzwQi_F",
        "colab": {
          "base_uri": "https://localhost:8080/"
        },
        "outputId": "b68f9d00-dd9e-4f23-f9e3-d81ee2774d3f"
      },
      "execution_count": null,
      "outputs": [
        {
          "output_type": "stream",
          "name": "stdout",
          "text": [
            "5\n"
          ]
        }
      ]
    },
    {
      "cell_type": "markdown",
      "source": [
        "19\n",
        "\n",
        "두 개의 숫자를 입력받아 합/차/곱/나눗셈을 출력하는 print_arithmetic_operation 함수를 작성하라."
      ],
      "metadata": {
        "id": "K117rkfdQkUY"
      }
    },
    {
      "cell_type": "code",
      "source": [
        "def print_arithmetic_operation(a,b) :\n",
        "  print(\"합 =\",a+b)\n",
        "  print(\"차 =\",a-b)\n",
        "  print(\"곱 =\",a*b)\n",
        "  print(\"나눗셈 =\", a/b)\n",
        "\n",
        "print_arithmetic_operation(3,4)"
      ],
      "metadata": {
        "id": "I3vzkMYhQkhu",
        "colab": {
          "base_uri": "https://localhost:8080/"
        },
        "outputId": "4f383239-7567-4785-ad10-aaa4407a91bc"
      },
      "execution_count": null,
      "outputs": [
        {
          "output_type": "stream",
          "name": "stdout",
          "text": [
            "합 = 7\n",
            "차 = -1\n",
            "곱 = 12\n",
            "나눗셈 = 0.75\n"
          ]
        }
      ]
    },
    {
      "cell_type": "markdown",
      "source": [
        "20\n",
        "\n",
        "세 개의 숫자를 입력받아 가장 큰수를 출력하는 print_max 함수를 정의하라. 단 if 문을 사용해서 수를 비교하라."
      ],
      "metadata": {
        "id": "yjKnZeeXQmxz"
      }
    },
    {
      "cell_type": "code",
      "source": [
        "def print_max(a,b,c) :\n",
        "  max_value = 0\n",
        "  if a > max_value :\n",
        "    max_value = a\n",
        "  if b > max_value :\n",
        "    max_value = b\n",
        "  if c > max_value :\n",
        "    max_value = c\n",
        "  print(max_value)\n",
        "\n",
        "print_max(1,2,3)\n",
        " "
      ],
      "metadata": {
        "id": "pghd6Rs1QnWN",
        "colab": {
          "base_uri": "https://localhost:8080/"
        },
        "outputId": "3cf47cb7-bbe6-4fdb-c686-208c0549bd38"
      },
      "execution_count": null,
      "outputs": [
        {
          "output_type": "stream",
          "name": "stdout",
          "text": [
            "3\n"
          ]
        }
      ]
    },
    {
      "cell_type": "markdown",
      "source": [
        "21\n",
        "\n",
        "입력된 문자열을 역순으로 출력하는 print_reverse 함수를 정의하라.\n",
        "\n",
        "```\n",
        "print_reverse(\"python\")\n",
        "```\n",
        "\n",
        "```\n",
        "nohtyp\n",
        "```"
      ],
      "metadata": {
        "id": "2069nKrUQooZ"
      }
    },
    {
      "cell_type": "code",
      "source": [
        "#def print_reverse(msg) :\n",
        "#  for i in range(len(msg)-1,-1,-1) :\n",
        "#    print(msg[i],end=\"\")\n",
        "\n",
        "# 함수 정의\n",
        "def print_reverse(msg) :\n",
        "    print(msg[::-1])      #리스트를 역순으로 정리\n",
        "\n",
        "print_reverse(\"python\")   #역순 출력 확인"
      ],
      "metadata": {
        "id": "F6KF7nKUQuVt",
        "colab": {
          "base_uri": "https://localhost:8080/"
        },
        "outputId": "39042a04-d247-4828-ee98-4f6350a477a1"
      },
      "execution_count": null,
      "outputs": [
        {
          "output_type": "stream",
          "name": "stdout",
          "text": [
            "nohtyp\n"
          ]
        }
      ]
    },
    {
      "cell_type": "markdown",
      "source": [
        "22\n",
        "\n",
        "성적 리스트를 입력 받아 평균을 출력하는 print_score 함수를 정의하라.\n",
        "```\n",
        "print_score ([1, 2, 3])\n",
        "```\n",
        "```\n",
        "2.0\n",
        "```"
      ],
      "metadata": {
        "id": "I4q8JlvPQvAR"
      }
    },
    {
      "cell_type": "code",
      "source": [
        "def print_score(score) :\n",
        "  sum = 0\n",
        "  for i in range(len(score)):\n",
        "    sum += score[i]\n",
        "  print(sum/len(score))\n",
        "\n",
        "#2번째 방법\n",
        "#def print_score(slist) :\n",
        "#  print(sum(slist)/len(slist))\n",
        "\n",
        "print_score ([1, 2, 3])"
      ],
      "metadata": {
        "id": "tL3eR4VCQwdk",
        "colab": {
          "base_uri": "https://localhost:8080/"
        },
        "outputId": "bf329e94-ed87-48f8-d530-f04c0593fd59"
      },
      "execution_count": null,
      "outputs": [
        {
          "output_type": "stream",
          "name": "stdout",
          "text": [
            "2.0\n"
          ]
        }
      ]
    },
    {
      "cell_type": "markdown",
      "source": [
        "23\n",
        "\n",
        "하나의 리스트를 입력받아 짝수만 화면에 출력하는 print_even 함수를 정의하라.\n",
        "```\n",
        "print_even ([1, 3, 2, 10, 12, 11, 15])\n",
        "```\n",
        "```\n",
        "2\n",
        "10\n",
        "12\n",
        "```"
      ],
      "metadata": {
        "id": "-yvuLNj7Q8Io"
      }
    },
    {
      "cell_type": "code",
      "source": [
        "def print_even(num) :\n",
        "  for i in num :\n",
        "    if i%2 == 0 :\n",
        "      print(i)\n",
        "print_even (1, 3, 2, 10, 12, 11, 15)"
      ],
      "metadata": {
        "id": "bHSSU059Q8vs",
        "colab": {
          "base_uri": "https://localhost:8080/"
        },
        "outputId": "74cc7db8-131c-4482-f162-9a9ee432d6a6"
      },
      "execution_count": null,
      "outputs": [
        {
          "output_type": "stream",
          "name": "stdout",
          "text": [
            "2\n",
            "10\n",
            "12\n"
          ]
        }
      ]
    },
    {
      "cell_type": "markdown",
      "source": [
        "24\n",
        "\n",
        "하나의 딕셔너리를 입력받아 딕셔너리의 key 값을 화면에 출력하는 print_keys 함수를 정의하라.\n",
        "\n",
        "```\n",
        "print_keys ({\"이름\":\"김말똥\", \"나이\":30, \"성별\":0})\n",
        "```\n",
        "\n",
        "```\n",
        "이름\n",
        "나이\n",
        "성별\n",
        "```\n"
      ],
      "metadata": {
        "id": "P1XGIn-fRBHI"
      }
    },
    {
      "cell_type": "code",
      "source": [
        "def print_keys(s) :         #함수 정의\n",
        "  #print(list(s.keys()))    #key 값을 확인\n",
        "  for i in s.keys() :       #key 값을 하나씩 넣는 반복문 생성\n",
        "    print(i) \n",
        "\n",
        "print_keys ({\"이름\":\"김말똥\", \"나이\":30, \"성별\":0})"
      ],
      "metadata": {
        "id": "OxkvLkn9RG1U",
        "colab": {
          "base_uri": "https://localhost:8080/"
        },
        "outputId": "96c3f961-18ef-4b2e-c20b-d42bd579b36c"
      },
      "execution_count": null,
      "outputs": [
        {
          "output_type": "stream",
          "name": "stdout",
          "text": [
            "['이름', '나이', '성별']\n",
            "이름\n",
            "나이\n",
            "성별\n"
          ]
        }
      ]
    },
    {
      "cell_type": "markdown",
      "source": [
        "25\n",
        "\n",
        "입력 문자열을 한 줄에 다섯글자씩 출력하는 print_5xn(string) 함수를 작성하라.\n",
        "\n",
        "```\n",
        "print_5xn(\"아이엠어보이유알어걸\")\n",
        "```\n",
        "```\n",
        "아이엠어보\n",
        "이유알어걸\n",
        "```"
      ],
      "metadata": {
        "id": "Ql6MrGVVRNYg"
      }
    },
    {
      "cell_type": "code",
      "source": [
        "def print_5xn(msg) :\n",
        "  line_num = int(len(msg)/5)\n",
        "  for i in range(line_num) :\n",
        "    print(msg[i*5:i*5+5])\n",
        "\n",
        "print_5xn(\"아이엠어보이유알어걸\")"
      ],
      "metadata": {
        "id": "GmJ6eeduRQMs",
        "colab": {
          "base_uri": "https://localhost:8080/"
        },
        "outputId": "146f0941-904f-4d77-d5bd-54b5613af240"
      },
      "execution_count": null,
      "outputs": [
        {
          "output_type": "stream",
          "name": "stdout",
          "text": [
            "아이엠어보\n",
            "이유알어걸\n"
          ]
        }
      ]
    },
    {
      "cell_type": "markdown",
      "source": [
        "26\n",
        "\n",
        "문자열과 한줄에 출력될 글자 수를 입력을 받아 한 줄에 입력된 글자 수만큼 출력하는 print_mxn(string) 함수를 작성하라.\n",
        "\n",
        "```\n",
        "printmxn(\"아이엠어보이유알어걸\", 3)\n",
        "```\n",
        "```\n",
        "아이엠\n",
        "어보이\n",
        "유알어\n",
        "걸\n",
        "```"
      ],
      "metadata": {
        "id": "Kpk_NVYQRS5f"
      }
    },
    {
      "cell_type": "code",
      "source": [
        "def printmxn(s, count) :\n",
        "  num_line = int(len(s)/count)\n",
        "  for i in range(num_line+1) :\n",
        "    print(s[i*3:i*3+3])\n",
        "printmxn(\"아이엠어보이유알어걸\", 3)"
      ],
      "metadata": {
        "id": "1-qzLC7sRVhc",
        "colab": {
          "base_uri": "https://localhost:8080/"
        },
        "outputId": "59cfde12-5dd7-413d-9f59-370f50ed19a3"
      },
      "execution_count": null,
      "outputs": [
        {
          "output_type": "stream",
          "name": "stdout",
          "text": [
            "아이엠\n",
            "어보이\n",
            "유알어\n",
            "걸\n"
          ]
        }
      ]
    },
    {
      "cell_type": "markdown",
      "source": [
        "27\n",
        "\n",
        "연봉을 입력받아 월급을 계산하는 calc_monthly_salary(annual_salary) 함수를 정의하라. 회사는 연봉을 12개월로 나누어 분할 지급하며, \n",
        "\n",
        "이 때 1원 미만은 버림한다.\n",
        "\n",
        "```\n",
        "calc_monthly_salary(12000000)\n",
        "```\n",
        "```\n",
        "1000000\n",
        "```"
      ],
      "metadata": {
        "id": "OBbbhmTuSPZU"
      }
    },
    {
      "cell_type": "code",
      "source": [
        "def calc_monthly_salary(annual_salary) :  #함수 정의\n",
        "  print(int(annual_salary/12))            #연봉을 받아 12개월로 나누고, 정수 표현을 위해 int로 타입 변환\n",
        "\n",
        "calc_monthly_salary(12000000)"
      ],
      "metadata": {
        "id": "fEwqkUWdSP_5",
        "colab": {
          "base_uri": "https://localhost:8080/"
        },
        "outputId": "b707b2a4-1773-498b-b825-ee3b0d0ecf76"
      },
      "execution_count": 3,
      "outputs": [
        {
          "output_type": "stream",
          "name": "stdout",
          "text": [
            "1000000\n"
          ]
        }
      ]
    },
    {
      "cell_type": "markdown",
      "source": [
        "28\n",
        "\n",
        "아래 코드의 실행 결과를 예측하라.\n",
        "\n",
        "```\n",
        "def my_print (a, b) :\n",
        "    print(\"왼쪽:\", a)\n",
        "    print(\"오른쪽:\", b)\n",
        "\n",
        "```\n",
        "my_print(a=100, b=200)"
      ],
      "metadata": {
        "id": "s1BANAOvSXOZ"
      }
    },
    {
      "cell_type": "code",
      "source": [
        "#a와b에 각각 값이 대입되어 출력\n",
        "#왼쪽 : 100, 오른쪽 : 200"
      ],
      "metadata": {
        "id": "ugMfvXvtSad5"
      },
      "execution_count": null,
      "outputs": []
    },
    {
      "cell_type": "markdown",
      "source": [
        "29\n",
        "\n",
        "아래 코드의 실행 결과를 예측하라.\n",
        "\n",
        "```\n",
        "def my_print (a, b) :\n",
        "    print(\"왼쪽:\", a)\n",
        "    print(\"오른쪽:\", b)\n",
        "```\n",
        "```\n",
        "my_print(b=100, a=200)\n",
        "```"
      ],
      "metadata": {
        "id": "uIFN2HqSScKs"
      }
    },
    {
      "cell_type": "code",
      "source": [
        "#낚시문제\n",
        "#a와 b에 값이 대입되어 출력\n",
        "#왼쪽 : 200, 오른쪽 : 100 입력되어 출력"
      ],
      "metadata": {
        "id": "PcCCrEsOSvwg"
      },
      "execution_count": null,
      "outputs": []
    },
    {
      "cell_type": "markdown",
      "source": [
        "30\n",
        "\n",
        "아래 코드를 실행한 결과를 예상하라.\n",
        "\n",
        "```\n",
        "def n_plus_1 (n) :\n",
        "    result = n + 1\n",
        "```\n",
        "```\n",
        "n_plus_1(3)\n",
        "print (result)\n",
        "```"
      ],
      "metadata": {
        "id": "6aI2IJs1Sy4m"
      }
    },
    {
      "cell_type": "code",
      "source": [
        "#n_plus_1(3) 실행 후, print(result)에서 result로 선언된 변수가 없어서 에러가 발생한다.\n",
        "#n_plus_1에서 선언된 result는 지역변수라서 밖에서 불러올 수 없다"
      ],
      "metadata": {
        "id": "ZkK5seQDS6oH"
      },
      "execution_count": null,
      "outputs": []
    },
    {
      "cell_type": "markdown",
      "source": [
        "31\n",
        "\n",
        "문자열 하나를 입력받아 인터넷 주소를 반환하는 make_url 함수를 정의하라.\n",
        "```\n",
        "make_url(\"naver\")\n",
        "```\n",
        "```\n",
        "www.naver.com\n",
        "```"
      ],
      "metadata": {
        "id": "YnxwO2HgS-6K"
      }
    },
    {
      "cell_type": "code",
      "source": [
        "def make_url(s) :\n",
        "  print(\"www.\"+s+\".com\")\n",
        "\n",
        "make_url(\"naver\")"
      ],
      "metadata": {
        "id": "V9zsfPGkS_c_",
        "colab": {
          "base_uri": "https://localhost:8080/"
        },
        "outputId": "6fa90b05-88c8-4604-b95c-148418f5e9f5"
      },
      "execution_count": null,
      "outputs": [
        {
          "output_type": "stream",
          "name": "stdout",
          "text": [
            "www.naver.com\n"
          ]
        }
      ]
    },
    {
      "cell_type": "markdown",
      "source": [
        "32\n",
        "\n",
        "문자열을 입력받아 각 문자들로 구성된 리스트로 반환하는 make_list 함수를 정의하라.\n",
        "\n",
        "```\n",
        "make_list(\"abcd\")\n",
        "```\n",
        "```\n",
        "['a', 'b', 'c', 'd']\n",
        "```"
      ],
      "metadata": {
        "id": "ctVz3FNqTDaM"
      }
    },
    {
      "cell_type": "code",
      "source": [
        "def make_list(s) :\n",
        "  alist = []\n",
        "  for i in s:\n",
        "    alist.append(i)\n",
        "  print(alist)\n",
        "\n",
        "make_list(\"abcd\")"
      ],
      "metadata": {
        "id": "LlPbEv06TIJW",
        "colab": {
          "base_uri": "https://localhost:8080/"
        },
        "outputId": "ac6bba34-41d0-4525-82db-08d209e79b50"
      },
      "execution_count": 9,
      "outputs": [
        {
          "output_type": "stream",
          "name": "stdout",
          "text": [
            "['a', 'b', 'c', 'd']\n"
          ]
        }
      ]
    },
    {
      "cell_type": "markdown",
      "source": [
        "33\n",
        "\n",
        "숫자로 구성된 하나의 리스트를 입력받아, 짝수들을 추출하여 리스트로 반환하는 pickup_even 함수를 구현하라.\n",
        "\n",
        "```\n",
        "pickup_even([3, 4, 5, 6, 7, 8])\n",
        "```\n",
        "```\n",
        "[4, 6, 8]\n",
        "```"
      ],
      "metadata": {
        "id": "MvWSnSS2TIsY"
      }
    },
    {
      "cell_type": "code",
      "source": [
        "def pickup_even(slist) :      #함수 정의\n",
        "  result_list = []            #결과 리스트를 빈 배열로 생성\n",
        "  for i in slist :            #리스트의 인자값을 하나씩 넣는 반복문\n",
        "    if i%2 == 0:              #값이 짝수 일때\n",
        "      result_list.append(i)   #result_list에 i를 추가\n",
        "  print(result_list)          #출력\n",
        "\n",
        "pickup_even([3, 4, 5, 6, 7, 8])"
      ],
      "metadata": {
        "id": "WvRTasfbTMhe",
        "colab": {
          "base_uri": "https://localhost:8080/"
        },
        "outputId": "84dd1747-8e5e-4bca-a430-42697e59edc7"
      },
      "execution_count": 26,
      "outputs": [
        {
          "output_type": "stream",
          "name": "stdout",
          "text": [
            "[4, 6, 8]\n"
          ]
        }
      ]
    },
    {
      "cell_type": "markdown",
      "source": [
        "34\n",
        "\n",
        "콤마가 포함된 문자열 숫자를 입력받아 정수로 변환하는 convert_int 함수를 정의하라.\n",
        "\n",
        "```\n",
        "convert_int(\"1,234,567\")\n",
        "```\n",
        "```\n",
        "1234567\n",
        "```"
      ],
      "metadata": {
        "id": "ipEGBNRhTOZ_"
      }
    },
    {
      "cell_type": "code",
      "source": [
        "def convert_int(s) :\n",
        "  print(int(s.replace(\",\",\"\")))     #문자열의 ,를 지우고 int타입으로 변환\n",
        "\n",
        "convert_int(\"1,234,567\")"
      ],
      "metadata": {
        "id": "9ho3c77NTRRe",
        "colab": {
          "base_uri": "https://localhost:8080/"
        },
        "outputId": "3830fd8a-553b-4cab-b129-3dd912235820"
      },
      "execution_count": null,
      "outputs": [
        {
          "output_type": "stream",
          "name": "stdout",
          "text": [
            "1234567\n"
          ]
        }
      ]
    },
    {
      "cell_type": "markdown",
      "source": [
        "35\n",
        "\n",
        "아래 코드의 실행 결과를 예측하라.\n",
        "\n",
        "```\n",
        "def 함수(num) :\n",
        "    return num + 4\n",
        "\n",
        "\n",
        "a = 함수(10)\n",
        "b = 함수(a)\n",
        "c = 함수(b)\n",
        "print(c)\n",
        "```"
      ],
      "metadata": {
        "id": "TEKwZi1NTS_j"
      }
    },
    {
      "cell_type": "code",
      "source": [
        "#22가 출력된다.\n",
        "#함수(10) => 14 => a\n",
        "#함수(14) => 18 => b\n",
        "#함수(18) => 22 => c"
      ],
      "metadata": {
        "id": "AeJIk70vTVbH"
      },
      "execution_count": null,
      "outputs": []
    },
    {
      "cell_type": "markdown",
      "source": [
        "36\n",
        "\n",
        "아래 코드의 실행 결과를 예측하라.\n",
        "\n",
        "```\n",
        "def 함수(num) :\n",
        "    return num + 4\n",
        "\n",
        "c = 함수(함수(함수(10)))\n",
        "print(c)\n",
        "```"
      ],
      "metadata": {
        "id": "838UmNADTXK2"
      }
    },
    {
      "cell_type": "code",
      "source": [
        "#함수(함수(함수(10))) => 함수(함수(14)) => 함수(18) => 22"
      ],
      "metadata": {
        "id": "l1DN9Nl3TZHO"
      },
      "execution_count": null,
      "outputs": []
    },
    {
      "cell_type": "markdown",
      "source": [
        "37\n",
        "\n",
        "아래 코드의 실행 결과를 예측하라.\n",
        "\n",
        "```\n",
        "def 함수1(num) :\n",
        "    return num + 4\n",
        "\n",
        "def 함수2(num) :\n",
        "    return num * 10\n",
        "\n",
        "a = 함수1(10)\n",
        "c = 함수2(a)\n",
        "print(c)\n",
        "```"
      ],
      "metadata": {
        "id": "_ffE0iAtTbve"
      }
    },
    {
      "cell_type": "code",
      "source": [
        "#함수1(10) => 14 => a\n",
        "#함수2(14) => 140 => c"
      ],
      "metadata": {
        "id": "5j8zq0skTd82"
      },
      "execution_count": null,
      "outputs": []
    },
    {
      "cell_type": "markdown",
      "source": [
        "38\n",
        "\n",
        "아래 코드의 실행 결과를 예측하라.\n",
        "\n",
        "```\n",
        "def 함수1(num) :\n",
        "    return num + 4\n",
        "\n",
        "def 함수2(num) :\n",
        "    num = num + 2\n",
        "    return 함수1(num)\n",
        "\n",
        "c = 함수2(10)\n",
        "print(c)\n",
        "```"
      ],
      "metadata": {
        "id": "LXr2yvqVTgcR"
      }
    },
    {
      "cell_type": "code",
      "source": [
        "#함수2(10) => 함수1(12) => 16"
      ],
      "metadata": {
        "id": "3XH601oJTjul"
      },
      "execution_count": null,
      "outputs": []
    },
    {
      "cell_type": "markdown",
      "source": [
        "39\n",
        "아래 코드의 실행 결과를 예측하라.\n",
        "\n",
        "```\n",
        "def 함수0(num) :\n",
        "    return num * 2\n",
        "\n",
        "def 함수1(num) :\n",
        "    return 함수0(num + 2)\n",
        "\n",
        "def 함수2(num) :\n",
        "    num = num + 10\n",
        "    return 함수1(num)\n",
        "\n",
        "c = 함수2(2)\n",
        "print(c)\n",
        "```"
      ],
      "metadata": {
        "id": "S2Lred36TkuA"
      }
    },
    {
      "cell_type": "code",
      "source": [
        "#함수2(2) => 함수1(12) => 함수0(14) => 28"
      ],
      "metadata": {
        "id": "HwPkba8VTqA1"
      },
      "execution_count": null,
      "outputs": []
    }
  ]
}