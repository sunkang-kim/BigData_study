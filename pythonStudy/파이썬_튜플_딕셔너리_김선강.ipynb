{
  "nbformat": 4,
  "nbformat_minor": 0,
  "metadata": {
    "colab": {
      "provenance": []
    },
    "kernelspec": {
      "name": "python3",
      "display_name": "Python 3"
    },
    "language_info": {
      "name": "python"
    }
  },
  "cells": [
    {
      "cell_type": "markdown",
      "source": [
        "01\n",
        "\n",
        "my_variable 이름의 비어있는 튜플을 만들라."
      ],
      "metadata": {
        "id": "lW73gyNgWXTl"
      }
    },
    {
      "cell_type": "code",
      "execution_count": null,
      "metadata": {
        "id": "aVd8SbR7WPOF",
        "colab": {
          "base_uri": "https://localhost:8080/"
        },
        "outputId": "33490259-6c5c-4fde-abcc-ee099625cbce"
      },
      "outputs": [
        {
          "output_type": "stream",
          "name": "stdout",
          "text": [
            "<class 'tuple'>\n"
          ]
        }
      ],
      "source": [
        "my_variable = tuple()\n",
        "\n",
        "print(type(my_variable))"
      ]
    },
    {
      "cell_type": "markdown",
      "source": [
        "02\n",
        "\n",
        "2016년 11월 영화 예매 순위 기준 top3는 다음과 같다. 영화 제목을 movie_rank 이름의 튜플에 저장하라. (순위 정보는 저장하지 않는다.)\n",
        "\n",
        "![image.png](data:image/png;base64,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)"
      ],
      "metadata": {
        "id": "Tg6bjqzpWoh8"
      }
    },
    {
      "cell_type": "code",
      "source": [
        "movie_rank = (\"닥터 스트레인지\",\"스플릿\",\"럭키\")\n",
        "print(movie_rank)"
      ],
      "metadata": {
        "id": "osLa6pVJWu0b",
        "colab": {
          "base_uri": "https://localhost:8080/"
        },
        "outputId": "67ba7bb8-9d68-4d9b-856d-cefe531e7305"
      },
      "execution_count": null,
      "outputs": [
        {
          "output_type": "stream",
          "name": "stdout",
          "text": [
            "('닥터 스트레인지', '스플릿', '럭키')\n"
          ]
        }
      ]
    },
    {
      "cell_type": "markdown",
      "source": [
        "03\n",
        "\n",
        "숫자 1 이 저장된 튜플을 생성하라."
      ],
      "metadata": {
        "id": "X_TRSPzIW1rU"
      }
    },
    {
      "cell_type": "code",
      "source": [
        "# 튜플 생성시 소괄호로 생성, 안써도 무관하지만 1개의 값을 가진 튜플을 생성시에는 반드시 ,를 찍어줘야한다.\n",
        "a = (1,)\n",
        "# a = 1, 도 가능\n",
        "print(a)\n",
        "print(type(a))"
      ],
      "metadata": {
        "id": "W9pApquNW2cz",
        "colab": {
          "base_uri": "https://localhost:8080/"
        },
        "outputId": "59690f81-c9b9-4088-c37f-267a2a415e0d"
      },
      "execution_count": null,
      "outputs": [
        {
          "output_type": "stream",
          "name": "stdout",
          "text": [
            "(1,)\n",
            "<class 'tuple'>\n"
          ]
        }
      ]
    },
    {
      "cell_type": "markdown",
      "source": [
        "04\n",
        "\n",
        "다음 코드를 실행해보고 오류가 발생하는 원인을 설명하라.\n",
        "```\n",
        ">> t = (1, 2, 3)\n",
        ">> t[0] = 'a'\n",
        "```\n",
        "```\n",
        "Traceback (most recent call last):\n",
        "  File \"<pyshell#46>\", line 1, in <module>\n",
        "    t[0] = 'a'\n",
        "TypeError: 'tuple' object does not support item assignment\n",
        "```"
      ],
      "metadata": {
        "id": "ScltHzmmW4eC"
      }
    },
    {
      "cell_type": "code",
      "source": [
        "#튜플은 수정되지 않는다"
      ],
      "metadata": {
        "id": "hu9EMAQ0W7kD"
      },
      "execution_count": null,
      "outputs": []
    },
    {
      "cell_type": "markdown",
      "source": [
        "05\n",
        "\n",
        "아래와 같이 t에는 1, 2, 3, 4 데이터가 바인딩되어 있다. t가 바인딩하는 데이터 타입은 무엇인가?\n",
        "```\n",
        "t = 1, 2, 3, 4\n",
        "```"
      ],
      "metadata": {
        "id": "gP54QOc2W8CD"
      }
    },
    {
      "cell_type": "code",
      "source": [
        "#튜플\n",
        "t = 1, 2, 3, 4\n",
        "type(t)"
      ],
      "metadata": {
        "id": "vYlr5jQVW-vD",
        "colab": {
          "base_uri": "https://localhost:8080/"
        },
        "outputId": "cf5a6f77-bf1a-47c0-a318-b34e944b9311"
      },
      "execution_count": null,
      "outputs": [
        {
          "output_type": "execute_result",
          "data": {
            "text/plain": [
              "tuple"
            ]
          },
          "metadata": {},
          "execution_count": 2
        }
      ]
    },
    {
      "cell_type": "markdown",
      "source": [
        "06\n",
        "\n",
        "변수 t에는 아래와 같은 값이 저장되어 있다. 변수 t가 ('A', 'b', 'c') 값을 갖도록 수정 하라.\n",
        "\n",
        "```\n",
        "t = ('a', 'b', 'c')\n",
        "```"
      ],
      "metadata": {
        "id": "70s0i9KkXCb2"
      }
    },
    {
      "cell_type": "code",
      "source": [
        "t = ('a', 'b', 'c') #튜플의 값은 변경이 불가능하다\n",
        "value = 'A',        # A의 값을 가진 변수\n",
        "value + t[1:]       # 변수와 튜플의 인덱스 1 이후의 값을 연결 => ('A', 'b', 'c') 가 된다."
      ],
      "metadata": {
        "id": "3X03u6XdXLg6",
        "colab": {
          "base_uri": "https://localhost:8080/"
        },
        "outputId": "c3f2d4a8-18ba-41fe-93dd-6d305fbd74da"
      },
      "execution_count": null,
      "outputs": [
        {
          "output_type": "execute_result",
          "data": {
            "text/plain": [
              "('A', 'b', 'c')"
            ]
          },
          "metadata": {},
          "execution_count": 13
        }
      ]
    },
    {
      "cell_type": "markdown",
      "source": [
        "07\n",
        "\n",
        "다음 튜플을 리스트로 변환하라.\n",
        "\n",
        "```\n",
        "interest = ('삼성전자', 'LG전자', 'SK Hynix')\n",
        "```"
      ],
      "metadata": {
        "id": "pXhKB21jXOA0"
      }
    },
    {
      "cell_type": "code",
      "source": [
        "interest = ('삼성전자', 'LG전자', 'SK Hynix')\n",
        "print(list(interest))"
      ],
      "metadata": {
        "id": "NnwmJrOPXQny",
        "colab": {
          "base_uri": "https://localhost:8080/"
        },
        "outputId": "f6fce10a-f680-43ad-c7cf-b59636150c84"
      },
      "execution_count": null,
      "outputs": [
        {
          "output_type": "stream",
          "name": "stdout",
          "text": [
            "['삼성전자', 'LG전자', 'SK Hynix']\n"
          ]
        }
      ]
    },
    {
      "cell_type": "markdown",
      "source": [
        "08\n",
        "\n",
        "다음 리스트를 튜플로 변경하라.\n",
        "\n",
        "```\n",
        "interest = ['삼성전자', 'LG전자', 'SK Hynix']\n",
        "```"
      ],
      "metadata": {
        "id": "rU_nnzWYXQ_Y"
      }
    },
    {
      "cell_type": "code",
      "source": [
        "interest = ['삼성전자', 'LG전자', 'SK Hynix']\n",
        "print(tuple(interest))"
      ],
      "metadata": {
        "id": "jtCxyBg_XToa",
        "colab": {
          "base_uri": "https://localhost:8080/"
        },
        "outputId": "d2767524-ea7f-4029-8f94-50917f54421c"
      },
      "execution_count": null,
      "outputs": [
        {
          "output_type": "stream",
          "name": "stdout",
          "text": [
            "('삼성전자', 'LG전자', 'SK Hynix')\n"
          ]
        }
      ]
    },
    {
      "cell_type": "markdown",
      "source": [
        "09 튜플 언팩킹\n",
        "\n",
        "다음 코드의 실행 결과를 예상하라.\n",
        "```\n",
        "temp = ('apple', 'banana', 'cake')\n",
        "a, b, c = temp\n",
        "print(a, b, c)\n",
        "```"
      ],
      "metadata": {
        "id": "vADg4YwlXUFp"
      }
    },
    {
      "cell_type": "code",
      "source": [
        "#튜플 언패킹\n",
        "temp = ('apple', 'banana', 'cake')\n",
        "a, b, c = temp  # 튜플 temp의 값과 a,b,c가 순서대로 연결된다.\n",
        "print(a, b, c)"
      ],
      "metadata": {
        "id": "5o24It34XW3p",
        "colab": {
          "base_uri": "https://localhost:8080/"
        },
        "outputId": "a7abc89a-bba7-45d7-c803-a6af212b874f"
      },
      "execution_count": null,
      "outputs": [
        {
          "output_type": "stream",
          "name": "stdout",
          "text": [
            "apple banana cake\n"
          ]
        }
      ]
    },
    {
      "cell_type": "markdown",
      "source": [
        "10 range 함수 (어려움)\n",
        "\n",
        "1 부터 99까지의 정수 중 짝수만 저장된 튜플을 생성하라.\n",
        "\n",
        "```\n",
        "(2, 4, 6, 8 ... 98)\n",
        "```"
      ],
      "metadata": {
        "id": "TeYOz4PMXYcl"
      }
    },
    {
      "cell_type": "code",
      "source": [
        "tuple(range(2,99,2))"
      ],
      "metadata": {
        "id": "1OlilAlSXdgq"
      },
      "execution_count": null,
      "outputs": []
    },
    {
      "cell_type": "markdown",
      "source": [
        "11 별 표현식 (매우어려움)\n",
        "\n",
        "기본적으로 데이터 언패킹은 좌변의 변수와 우변 데이터 개수가 같아야 합니다. 하지만 star expression을 사용하면 변수의 개수가 달라도 데이터 언패킹을 할 수 있습니다. 튜플에 저장된 데이터 중에서 앞에 있는 두 개의 데이터만 필요할 경우 나머지 데이터의 언패킹 코드를 작성할 필요가 없습니다.\n",
        "```\n",
        ">> a, b, *c = (0, 1, 2, 3, 4, 5)\n",
        ">> a\n",
        "0\n",
        ">> b\n",
        "1\n",
        ">> c\n",
        "[2, 3, 4, 5]\n",
        "```\n",
        "다음과 같이 10개의 값이 저장된 scores 리스트가 있을 때, start expression을 사용하여 좌측 8개의 값을 valid_score 변수에 바인딩하여라.\n",
        "```\n",
        "scores = [8.8, 8.9, 8.7, 9.2, 9.3, 9.7, 9.9, 9.5, 7.8, 9.4]\n",
        "```"
      ],
      "metadata": {
        "id": "bNdkDVFeXeYm"
      }
    },
    {
      "cell_type": "code",
      "source": [
        "scores = [8.8, 8.9, 8.7, 9.2, 9.3, 9.7, 9.9, 9.5, 7.8, 9.4]\n",
        "*valid_score, a, b = scores\n",
        "print(valid_score)\n",
        "print(a)\n",
        "print(b)"
      ],
      "metadata": {
        "id": "slTMSZSjXrzI",
        "colab": {
          "base_uri": "https://localhost:8080/"
        },
        "outputId": "1eb07b99-6129-4f29-8d3f-8354bb869c63"
      },
      "execution_count": null,
      "outputs": [
        {
          "output_type": "stream",
          "name": "stdout",
          "text": [
            "[8.8, 8.9, 8.7, 9.2, 9.3, 9.7, 9.9, 9.5]\n",
            "7.8\n",
            "9.4\n"
          ]
        }
      ]
    },
    {
      "cell_type": "markdown",
      "source": [
        "12\n",
        "\n",
        "다음과 같이 10개의 값이 저장된 scores 리스트가 있을 때, start expression을 사용하여 우측 8개의 값을 valid_score 변수에 바인딩하여라.\n",
        "\n",
        "```\n",
        "scores = [8.8, 8.9, 8.7, 9.2, 9.3, 9.7, 9.9, 9.5, 7.8, 9.4]\n",
        "```"
      ],
      "metadata": {
        "id": "Ilg8Gug6XxZU"
      }
    },
    {
      "cell_type": "code",
      "source": [
        "#star expression(별표, asterisk) => 가변인자 = 길이가 변할수 있는 argument\n",
        "scores = [8.8, 8.9, 8.7, 9.2, 9.3, 9.7, 9.9, 9.5, 7.8, 9.4]\n",
        "a, b, *valid_score = scores # scores의 값이 a, b에 하나씩 바인딩, 나머지는 *valid_score에 바인딩\n",
        "print(valid_score)\n",
        "print(a)\n",
        "print(b)"
      ],
      "metadata": {
        "id": "MNLMIEuMXzyY",
        "colab": {
          "base_uri": "https://localhost:8080/"
        },
        "outputId": "4c2b2921-074d-4963-f77d-239b96fcf507"
      },
      "execution_count": null,
      "outputs": [
        {
          "output_type": "stream",
          "name": "stdout",
          "text": [
            "[8.7, 9.2, 9.3, 9.7, 9.9, 9.5, 7.8, 9.4]\n",
            "8.8\n",
            "8.9\n"
          ]
        }
      ]
    },
    {
      "cell_type": "markdown",
      "source": [
        "13\n",
        "\n",
        "다음과 같이 10개의 값이 저장된 scores 리스트가 있을 때, start expression을 사용하여 가운데 있는 8개의 값을 valid_score 변수에 바인딩하여라.\n",
        "\n",
        "```\n",
        "scores = [8.8, 8.9, 8.7, 9.2, 9.3, 9.7, 9.9, 9.5, 7.8, 9.4]\n",
        "```"
      ],
      "metadata": {
        "id": "9RJ1BIc8X1L5"
      }
    },
    {
      "cell_type": "code",
      "source": [
        "scores = [8.8, 8.9, 8.7, 9.2, 9.3, 9.7, 9.9, 9.5, 7.8, 9.4]\n",
        "a, *valid_score, b = scores\n",
        "print(valid_score)\n",
        "print(a)\n",
        "print(b)"
      ],
      "metadata": {
        "id": "IWFlubyKX3OI",
        "colab": {
          "base_uri": "https://localhost:8080/"
        },
        "outputId": "c7cf8e90-2bf2-4f62-b056-cc80e32372f9"
      },
      "execution_count": null,
      "outputs": [
        {
          "output_type": "stream",
          "name": "stdout",
          "text": [
            "[8.9, 8.7, 9.2, 9.3, 9.7, 9.9, 9.5, 7.8]\n",
            "8.8\n",
            "9.4\n"
          ]
        }
      ]
    },
    {
      "cell_type": "markdown",
      "source": [
        "14 비어있는 딕셔너리\n",
        "\n",
        "temp 이름의 비어있는 딕셔너리를 만들라."
      ],
      "metadata": {
        "id": "SzN21WQYX5pu"
      }
    },
    {
      "cell_type": "code",
      "source": [
        "#temp = dict()\n",
        "temp = {}\n",
        "print(type(temp))"
      ],
      "metadata": {
        "id": "ivZWZs_YYIIA",
        "colab": {
          "base_uri": "https://localhost:8080/"
        },
        "outputId": "8c048f00-5c32-4d07-ecda-3b6e558a478e"
      },
      "execution_count": null,
      "outputs": [
        {
          "output_type": "stream",
          "name": "stdout",
          "text": [
            "<class 'dict'>\n"
          ]
        }
      ]
    },
    {
      "cell_type": "markdown",
      "source": [
        "15\n",
        "\n",
        "다음 아이스크림 이름과 희망 가격을 딕셔너리로 구성하라.\n",
        "\n",
        "![image.png](data:image/png;base64,iVBORw0KGgoAAAANSUhEUgAAAPcAAAEECAYAAAD0/aJQAAAe00lEQVR4nO3cf2xT973/8ae/4qu6Ur+6icRVbK10GKiW8AU1hu4SR7otGLFyg7aBI34lKi2FbimhHWpgo00oBRyaZaFllLRdR2lZ5QBFcdkmUvrtFwN332uHO8BhbASpBGeFyo6KhKdViqsine8fdkKMf8RxHNv55P2QLMXnfM45H/94nc/nfM7H0WmapiGEUM7/yHUFhBBjQ8IthKIk3EIoSsIthKImDX1y4cKFXNVDpKigoIBgMJjraog8M3fu3Jhlk+5dMGv27KxURqTn5o0b8hmJKH+9fDnucumWC6EoCbcQipJwC6EoCbcQipJwC6EoCbcQipJwC6EoCbcQipJwC6EoCbcQipJwC6EoCbcQipJwC6EoCbcQipJwC6EoCbcQipJwC6EoCbcQisrjcPdxpOo+9Pfdh/6+Js4lK3l0ZaTcSB4rOfJl1l7MOJPqe5/6ZzQS53Zn+zMam9cx6FzT4Pdu1dG+TO89oeyGu+8M77zwY0ofCr/Q4sdqaPr9VeTf/SnqyyOsSuVEW3WE7H3l05dyI/LSGUK5rixZDHfoXBOPP/QEm35zkquRT7L33Pu8uuIRyn5ynN5R7Lto5VFC33yT0uPs9oy8HHXEDeBDPN0+UGA7j8f5AjdlvHnLkCGt5HCPsXoN82dMRT82ux6R7IT7y+PULN/OOaDo8R2c/PIbQt/8g6sHV1EE9B5ayVP7urJSFZEbS3/3xT0n2i/4oDKnNWKqYWRbJG5E+jjy1GAp5s+amunKpiXmXxuPha6jr3GkD2AxO97eyvzJAHqmVv+GQ389zeLX+zi35R2OV73D0skj33/f0ZV8d83xzFZ6ovjOKo58syrXtciceVsJfbM1wcou9v7bPLZeAorMmL6boWP2fMwHhyJ/P/IixddWon8s99/HLLTcnZzcG2mVf/ocS6cPXadn/qoXKQXgfY6cGg9XXiJ7jvP0tLvd6FEPRvV4OXkp8vfSUr436voBhDhzYDsnB3ZbtxpLVprM4Y19uHu6ORP5TJbOK6bg3vWPlLE48ufxru5RD0S8+p+pXXuHvjnKqu+M8mAK6jv7Plt/8sTgoKf+vu/xeNXP2KvAwOfV/3uEM5G/a54oi/0upqH36E956vXIF3zeL9m6sii2+/6fOzJwpJEb+3Df6ht8Q0tnxLsWMVD848iffw/wjzGvkIivl+M/+R7f/UENew+dGRz0hF7Otb/D1hWP8IhtL11fZ7NOS/ng+t2QHFlZlP6uQmc40hj5JhZtZenC0Uc7dK6Jp9YMjPSX0fTmpkgvND+Mebj7er3DlLj/7pX/tQD+UR7v1cdGcK97d+coj6aOrn1PsepQ+J7FvA2H6PwyEqp/fMHxl+dTBPSd+AU1+zrz4jbPSPU63qApcsIq3bSM+aMczg7+VxNLI4PEMJWn2w6x6ZFRVjLD8ngSi8ieLk62RE50j/ySX7+xitKBgU19EYu3/4YdT0RK7viES3H3kdzxNQ8lud02xnreZ9OGyFVxUQ2vrknWvkbf+ou9XRak662VlFm3Ry43p/J026e8UznQK+2k6d5G5LHc3H8d80v/oqlmIDxyGLoTr0Q/DCyfYcCYzjFWHiW0Mr36CeDLq3QNdMOXlMXpWk6lpAz4FOAqvi9h3ngZr/i6k6a1NZEBryJWvfEyi9O4IwPQd+593ti2nb1nI29W0WKaPj7EprmZuHrPvLFvuScXMT/y59XeeFNVAlz9feTP7xr4lxR3e3eKYmYeeTspIxu+U0zpwOXsuS6uxhTopXvgCqbITHGqwf7OKo6kMrjZFp7vkHFfX+WDF1bwauSzLfrpu+ytHO5IOzg7pG5b54WXXn1vJf/2WM1gsKdW/prOv/w+TrDL2Hrv61N2QG16CfMj7+fxs12xI66XOu/eRigtyYuZPRNPKYs3l4X/PPUzfrrtJL0DA2ehPs40/4ztn4afztu8OK8GjRIKdrF3zQ+ocQyMZO/go92L0x4hL153lLPOGhY/sYkP/ruPq201lOZngz0oC3fkyli8qZRXX+qCQ+9z/BdLeXrwXneIM0deJ3wXfC2rFqZ+/p738jeEXs58bSeq0hcOceSvT7DqUC/nmn9McXNsmalPHeXQC6OM9p0+uk50cOTEEbrOd3PmbwPXA0UUP15C2dxlzF/6BcGXi9I+0Qf/9j5bl9fwQU9kwbwdnO3YyrwHRlf1qUt+zfElaWyYdGLN2MnKgFrpmh3UFAGcpGbtdk72AQS5+t7de4TzflWT1uw0kSlTWfruOa7+4dfUVM6neOA8W1TM/Kc28c7/+YKr7y5lNBMrg//VxNJpD1G2Iny77W6wAfq4evYMH7z+M55+7CG+94PtnLk1wgPc6ePM6yspm3M32EVLfklnBoIdLc6gWYoP9X4VNnkxTcd2hLvn55pY+tB96O8ronRD+B5hUfWhUbQIQ3+ul79v9PhQwNQnatjb9ildX0SuF7+4xMl3f8nTj4/yqvjSXn5sjZzYpy+l6Q+X+HvfP6KuTYNfXOL4a+ETSN/ZJhbbmugayX23L70cPz7wI6Qi5r/8KZecmyjNaLDHj6zdCtPP28rJP3/K3p8uHmwVps5by6sfXeLSwVWjahFEvgtx5sgvIveES2k6fJRNTxRTVBDd8dYXFbP4xaOcfCsyZ/Hcdj44NYJ5cd9dzN4/nOXVJ5bS5PoLJ7fPz8gstFhxBs2SPXI0oJbdWbBF86nZN5+afWN1gB2c/WYr85IVOdeUs/uOeWdU70UpTf/9B1L7YdU/CPx94O/FlP7v5KWnzrJAZJg18PU3I6tWQRlb/3B0ZNsoSiaxTGQPTmVp2ht3EUq5y/wvGAZ/gXWSrr8lL937V8/g34YH7kujbgIk3BNbqvehEzy2Ju0iDaVn/qpfRnpUXWz94Y9p+vQqfcGhZ4cQwb6rnHx9JYsHZpPN28HTGZgDPlHlyY/TMmU7j98nXe689Mgmfu/WU/Pkzzjec5JXf3SSV5MUL3p8K4fatlIqEx/Spli4RT4rmFvDkb8sS+E+9zKWzkv/PrcI02mapg08uXDhArNmz85lfcQwbt64wYNTpuS6GiKP/PXyZebOnRuzXK65hVCUhFsIRUm4hVCUhFsIRUm4hVCUhFsIRUm4hVCUhFsIRUm4hVCUhFsIRUm4hVCUhFsIRUm4hVCUhFsIRUm4hVCUhFsIRUm4hVCUhFsIRUm4hVCUhFsIRUX9g8Senp5kZYUQeWr69Okxy6L+tXEwGIz7XxRF/ujp6Yn7QYqJ68KFC3GXS7dcCEVJuIVQlIRbCEVJuIVQlIRbCEVJuIVQlIRbCEVJuIVQlIRbCEVJuIVQlIRbCEVJuIVQlIRbCEVJuIVQlIRbCEVJuIVQlIRbCEVJuIVQVP6Fu7MRnU5HY2f4aeBwZdTz/OahUadDt8uT64oIkYfhFkJkRBbCHWnNkj1G2dJ5dg2z/wSPZL2B8D4rabs5qqoJkTPScguhqOyFe7kDv6ahRT3c2DOwa8u2e/eb/OFvs2XgqIq6E8R7eDMLjY0k7U8Fu3HuWk/5w+FekHH2Eja+6SJwJ0PlCdL9cSPrLdPCPS3jTJZsaMUVGNWrm1Ck5RYAhG510/HmRpaUFDKnak/yEPU6Wf/9mVS+4qJwUT0tzfVUTumm9YWFmJ9pwzfa8vhwPjOHmbYGXIUV1De3UL/MRPfbG1lorqatN5OvXGHaEOfPn9cyz63ZQWO5Q/MnWrfTfXeRx64Bmt0Tfupvs0U9z4RU9uneiQY2zXFjJHuO83oy7Nq1axnf58XdBg3QwKTZ9rVr+5ehgV2L/yr8mmN5+L3Z390/ZHm/5t5p0QCt4uD1UZS/+/nY3rqiRW3hsWsW0PiPA1r0FhNbotwq0XKPdEDNWOXMdZXzSmiSiXU727n41XXany+ncFKSwl0OWo6BubmB2mL9kBV6LFvs1BugY58Tb7rl8eJodkJpCw3PlRC1RVkd9pcM8Ekrzq5Rv2zl5Ue4Xym/Gz5LQ65rM+FYtrg5sM2GefLwZb2nHXgxU73IHLtSX471SaDLTXdveuXpcuHoAvMaK7Fb6ClfUA14cV+O7cyLaPkR7oyw4x7BoJqmadSXjVFVhp6sxs0EnFQE8Hm9gBVzcbz1ekyzbYATXyCd8hD4/CJewDqrJG4N9A/PwQY4e2VkbTj5Ee6d7ruh82Ri/FyMDT++y4ChkEJ9/BL368MrLvoCaZQH/81uwEBhog30+nBX/bIPiXdy+RFu1Qw9WY1lDyHrQoS6gH83YUxQwjBl5ijKQ+hrL1COyZBoAyMzE6wS0RQKdwPlI52ltqJNzv5CWcnGRQVOqqfoqB66yFCCdXZ0O9Tvs7Ln83osWa1bDgX76U+06is/AMYH9OmXJ0h/KNEGt/EDTC4gQcddRGQv3MeqMeqqhy+XBss2DW1b7PLA4UqMVeC40U7Vgxk6WKAbV6D7noUl3A4CBRk6Rt4yYVoOHAsQAExxStwO+gEDRmNBGuXBNCM8wBa4BcyIs0EwiB8wTDGq/3aPkkLd8swa2ZTW/VRMiG+aAVMxgIsr1+KtD+G77AQqMc9IpzwYpoRHyV0JbnWFPr+IE6icFe9UIYbKQrgt1A8Xjm0TpkM77pkX1GPAhfNPccIXcuP6EFhrpbwgvfI8aqXeAK6PXXGmpYZwn3YA67BaJsTZdFTGbcudyqy08Ey08HXzaH7+Ke7SL6hkcxl0vNxwzxzvEJ5fNdAYsGDfUDHYZR5pefRWKn9ugU8aaPgwOt6hzj00vBbAsruWihQm3Ex0MqAmRshM7Rt2OpY1UG3y4HiuCqsJfKfbaP2kH+tuJ3WP6kdRHszP7sH+RxsNa6bhOVxL1QIT+Fy0vd1B/wI7zufNMpiWilQmoGdVFn44MnbG5w9Hog380CPRD0cGip3SWtZaNBNoYNBKflir7XfF/jQo7fLf+rVTzes0yww0QDPMqtBq953S/N+m+7rUlSi30nKLexio+kijathiVuoOuqk7mOpuR1h+kgHrlgO4txxIcQNxr/wLd1k9mlaf61oIMe7lX7jvYVjdjrY617VIVfjOgJyaRD4Yt6PlQojkJNxCKErCLYSiJNxCKErCLYSiJNxCKErCLYSiJNxCKErCLYSiJNxCKErCLYSiJNxCKErCLYSiJNxCKErCLYSiJNxCKErCLYSiJNxCKErCLYSidJqmaQNPenp6clkXIUSapk+fHrMs6h8kBoNB5s6dm7UKiZHr6emJ+0GKievChQtxl0u3XAhFSbiFUJSEWwhFSbiFUJSEWwhFSbiFUJSEWwhFSbiFUJSEWwhFSbiFUJSEWwhFSbiFUJSEWwhFSbiFUJSEWwhFSbiFUJSEWwhFSbiFUNSEDHfgcCU6XSVtN3NdEyHGTpbCHaBthQ6dLr1H5eFAdqophELGd8vd2ZjSyaGxM41932yjMs2TkU6nQ7eiDTkliVyaNHyRTDBQ9ZFGVXYOJoQgFy131x7m6HQYX/MmKOBlj1mHzryHRCUGldWjaVrih8eefj0frKI92b6He3xUhSH9o+fOnSDew5tZaGzEk7BQkO6PG1lvmRbpqUyjfMVGWk8n6asEu3HuWk/5w+GejXH2Eja+6SJwJ8VjGGeyZEMrLukOpSz74Z5aQjkQuBNKUCBEqAuwlGDKYrWSipyQFv7Wl6DAwJhCskDkt9Ctbjre3MiSkkLmVO1JEiIfbWtKmGlrwFVYQX1zCy3bKij0trLRambhax5iPtleJ+u/P5PKV1wULqqnpbmeyindtL6wEPMzbcS+qz6cz8yJOkb9MhPdb29kobmatt4Mv3hVaUOcP39eG3sXtZZSNJY7NH+81f52rQo08+sXR38oj10DNLvnnkO02TSwaY4bKe7nhkOzgcZOd4IC17UDi9BY5tCuj6a+Kbh27VrG93lxt0EDNDBptn3t2v5laGDX4r7aGw7NZqjQWv58O3r5P92avQwNKrQDnw9d4dccy9HApu3v7h+yvF9z77RogFZxMPpdC38+aLa3rmhRW3jsmgU0/uPAmL/P40mi3Gap5fbQODjYNIfNXcCxaozxBqKMlbQB3hfn3F22K8ft4QMFGJMWCBD4DJgE92enRhkVmmRi3c52Ln51nfbnyylMOhJTQOXH7dQ9WhC9+AELdTvrgA46/jyk2e9y0HIMzM0N1Bbrh2ygx7LFTr0BOvY5h1yCeXE0O6G0hYbnSojaoqwO+0sG+KQVZ1f6r3eiUHu03NKQmeMUFIbD7b9NMFm5YtO4vM62bHFzYJsN8+QUCj9YQVWZPu4q/f8qjFnmPe3Ai5nqReY4G5RjfRLoctM90NXucuHoAvMaK7Fb6ClfUA14cV9OdIkkBmQp3BbqEw4+ubED7HQnHpzaZhmDOjmpnpLqrSs9+lLgVjD2ehIg1M9tgP85BtUcR4Jf+QEwPjAQ/gA+rxewYi6Ot4Ue02wb4MQXefMDn1/EC1hnlcQ9hv7hOdgAZ6+MrA1nbMOd0r3ichoAXilP+96x3ZN85Lq+bLQvxIjx4SSrbwXwAbap47HdzpQAHR+2AuuwWga67H58lwFDIYXxG3vu14dXXIyk23+zGzBQmGgDvT7cVb/sk3kEw8jSfe58ZMNxo52qBxOs7myM062vxqirTrzLNdPQrRl4Yset1TMWfY78E6L7t3XUHTNQ1VaPbfLd5aEuYLkp4ZiFYcrM6D197QVsmBKdJw1GZiZYJaKNbbgfrKJdk6kragvieqWS6l1XmLnbyXur8+YG5oSXxQG1oSPmI3jkaqQ86QSZFMYJJkKrfctFg7WEhb+FaqebUy9ZiNuZDvbTn2AXsdfpAEH6E02DCN7GDzC5IP6xxKDxPVouciZ4fg9LZi/kPdZxwnuKlmXxWmwTpuXAZ4GE18e3g37AgNEYvk43zbABLgK3Eh04iB8wTDFSkKCICMtiuJONmCdpHVPQYJFfl2VTqLORiu9v5vbaU3S77FQkHEc0YCoGcHHlWtw94bvsBCoxz4hsMSU8Su5KcKsr9PlFnEDlLOn+DyePu+WRUfQM8gX8Gd7jBHSrg83LGghtc+PabR229TQvqMeAC+ef4oQ15Mb1IbDWSvnAjh61Um8A18euONNSQ7hPO4gekRcJpTKNLTPcmh0i0xxH8Eg45TN9SaefDkw1zdQj0TTbNI3F9NNoA9NF408/vX6wQgPrPVNMk7motZShYajSHL6hywemn1o0+5/7o7d43aKBQav6XfQk04Hpp5bdF7XoLSa2RLnN/q2wne4xmpQisiFwswMw4zq4h2DshLSIAsqfXUe4cTVT+4adjmUNVJs8OJ6rwmoC3+k2Wj/px7rbSd2j0UNj5mf3YP+jjYY10/AcrqVqgQl8Ltre7qB/gR3n82YZTEtFKmeAzEiz5R7JDzxSNOIfjuSR3Lbcfq39yTQ/M/8prWWtRTOBBgat5Ie12n5Xkj7Nt37tVPM6zTIjvE/DrAqtdt8pzf9tZl+tCvKn5RZ5Ltk/1jBg+52G9rt0dmul7qCbuoMplp9kwLrlAO4tB9I4mICszlALj5bXZ++AQkxoE7LlNqxuR1ud61oIMbZkEosQipJwC6EoCbcQipJwC6EoCbcQipJwC6EoCbcQipJwC6EoCbcQipJwC6EoCbcQipJwC6EoCbcQipJwC6EoCbcQipJwC6EoCbcQipJwC6EoCbcQipJwC6EonaZp2sCTnp6eXNZFCJGm6dOnxyyL+u+nwWCQuXPnZq1CYuR6enrifpBi4rpw4ULc5dItF0JREm4hFCXhFkJREm4hFCXhFkJREm4hFCXhFkJREm4hFCXhFkJREm4hFCXhFkJREm4hFCXhFkJREm4hFCXhFkJREm4hFCXhFkJREm4hFJXX4Q4crkSna8ST8T17aNTp0O3K0J47G9HpdDR2JnguRA6MebjDAa2k7WZkwdAv/s02KoeGIPK88nBgrKslhPLyuuVO7t7WN/q5Z5cO3Yo2Bk4Tnl266JNMKvtO9BiyXyHy1TgOtxAimSyF20n1lEirZ2mIWdtgiaybUo0zOxUahoV6TUOLebix57pqY+1OEO/hzSw0DjPWEXDRumEJM406dDojM63r2fOJj1Ci8sFunLvWU/5w+LM2zl7CxjddBO4k3IDujxtZb5kW/m4YZ7JkQysu6TKlTFpuAUDoVjcdb25kSUkhc6r2JA1RqLORcuNCNn7sw/xkCy3N1Zi/OsHmimlYd3liA97rZP33Z1L5iovCRfW0NNdTOaWb1hcWYn6mDV/MEXw4n5nDTFsDrsIK6ptbqF9movvtjSw0V9PWm9GXrqwshduG40ak9fPEtn12T2TdDQe2mLUNlA+53pUR6Mzzvmbk/n+dyZIXOtC/0M7+ZUlL0/pcAx5DFQ7PFRzNddRtacFx2Y3jSQOeV2zYTw+Nd4C2n1fy3jUb+7uvcOItO3Vb7OzvuIJ7p4XAh9VsfD863oHDm6l834ftrStc6diPfUsd9rdOcMVjxxJoo3rDe3FOCOJe0nILQpNMrNvZzsWvrtP+fDmFk5IU7nLh6AKe3UjV1KErTFS9uBkzAd7r7B5S3kHLMTA3N1BbrB9SXo9li516A3Tsc+IdXO7F0eyE0hYanishaouyOuwvGeCTVpxdo3rJE8I4CLcd95Dr3vqye1a/Uh5p1cuJuZo/Vo0x0uKXvzKSYyYaLY9zDAVYtrg5sM2GeXIKhe+E8APWKYbYdQVGTEDgzt2W23vagRcz1YvMseX15VifBLrcdA90tSMnD/MaK7Fb6ClfUA14cV+Wtns4E3tAbfDEkEaXP3K/PtFrUtYsC+sM4PrME3M7MOBpx4mB2kdLBpbg83oBK+bieDvTY5ptA5z4IjsLfH4RL2CdVRJvA/QPz8EGOHtlZG0446DlHsZOd+KR7OUO/JEW370zjX0P2T7q8VEVcdqtiUFvZeO+KgzH6qh+pYNACCBE4HQj6150YnhyD3X/URAp7Md3GTAUUqiPv7v79eEVFyPp9t/sBgwUJtpArw931S/7ZK7BMMY83IbV7XFuKUW61w9W0R5nXfvqLEVn8MSQoMufTFn93W3jDBKqzLDcgbejmv5dSzDer0Onux+jtQHfDx24D1ZhGiwZItQF/LsJY6J9TZkZ9Tz0tRcox5ToK2AwMjPBKhEt2dCJEHH5/riR6h+14ptVRd2aORiB2z4XbW9Xs/AOnHq3CpN8s3IuJx9B8GoH7W0ddHRexPuZZ8htDROWRWbmlFVQUVVJxep2tNW5qKFIJHS+keoftRLacoLu5goKBtfU0bCmEaulmvLJBnzN1rsj3cF++hPsL/iVHwDjA0O74UH6E82GCd7GDzC5gAQddxGR3Wvur720rphGYckS1u9qxRkVbAAfns+ctO5az5KSQqataMUbzGoNRVIBnM0NeLCx+YWhwQ7Tl9WzZ6eBwK/24LgGYMK0HPgskPD6+HbQDxgwGsN7M82wAS4CtxJsEAziBwxTjDHHF9GyGO4Azg0VbDzWj/XZ/bR7r3P7dn/M9Xb/7dtc97az/1kr/cc2Mucnw/xIY0xuhcVuH/tI9UcoKvHhOwYwB9OD8UuYZpQDHZFwGjAVA7i4ci1e6RC+y06gEvOM8BLDlPAouSvBra7Q5xdxApWzTHHXi7uyF+6bLhwfBrC+5eLUu7XYSk0UFMR2rPQFBZhKbdS+ewrXW1Y49h4n4n4xcs09ePtm4jBgWATgThjWK5fdgJnIIDjmBfUYcOH8U5ywhty4PgTWWikfaIYftVJvANfHrjiz0EK4TzuAdVgt0m4PZxzfCkvw445tlvDabfF++NFOVYIWJ6V9Rz381D86pi8wD5mwrq4AOmjY2Ybvnh99BP/fHhpeC0BZNdbS8DL9gko2l0HHyw33zAkP4flVA40BC/YNQ7r4eiuVP7fAJw00fBgd71BneP+W3bVUpDLhZoLL3oDag1aqnzRQucHKQm8DtRsqsE41xrTeoWAQf6+Ljrdasf/WBcsdLJmRtVqKYZjW7qf9TwupfL+aaZ79rFtWScm/+ul2Onmv0weGKhyH64bMLjNT+4adjmUNVJs8OJ6rwmoC3+k2Wj/px7rbSd2j0d8B87N7sP/RRsOaaXgO11K1wAQ+F21vd9C/wI7zebMMpqVCG+L8+fPamPrnRW3/cpMGpPQwLd+vXfznWFTErdlBY6c7M7vz2DVAs3sSPM+ga9euZX6nUfyaYzka2LXE785t7XrHfq12uUUzDXxWZTattrldu3I70W5PaS1rB8obtJIf1mr7Xf7E1fjWr51qXqdZZoT3b5hVodXuO6X5vx3dq1NRotxmN9wRt7tPaAe21Wq2RXe/HOGHSbMssmm12w5oJ7oTfUsyQcIt1JEotzm5z11QXMG6nRWsy8XBx0JZPZpWn+taCBFlgs4jCg+YjVkcJewiD4zj0XIhRDISbiEUJeEWQlESbiEUJeEWQlESbiEUJeEWQlESbiEUJeEWQlESbiEUJeEWQlESbiEUJeEWQlESbiEUJeEWQlESbiEUJeEWQlESbiEUJeEWQlEx/0PtwoULuaiHSFFBQYF8RiIlOk3TtFxXQgiRedItF0JREm4hFCXhFkJR/x+v0i6PiXLGLgAAAABJRU5ErkJggg==)"
      ],
      "metadata": {
        "id": "jdQ3BXgvYI7-"
      }
    },
    {
      "cell_type": "code",
      "source": [
        "# 딕셔너리 생성\n",
        "# 변수 = {키:값}\n",
        "ice_cream = {\"메로나\":1000, \"폴라포\":1200, \"빵빠레\":1800}\n",
        "print(ice_cream)"
      ],
      "metadata": {
        "id": "pNRNBYgiYNJ3",
        "colab": {
          "base_uri": "https://localhost:8080/"
        },
        "outputId": "595bf9ec-613d-4a47-8f7a-14b85158987d"
      },
      "execution_count": null,
      "outputs": [
        {
          "output_type": "stream",
          "name": "stdout",
          "text": [
            "{'메로나': 1000, '폴라포': 1200, '빵빠레': 1800}\n"
          ]
        }
      ]
    },
    {
      "cell_type": "markdown",
      "source": [
        "16\n",
        "\n",
        "15 번의 딕셔너리에 아래 아이스크림 가격정보를 추가하라.\n",
        "\n",
        "![image.png](data:image/png;base64,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)"
      ],
      "metadata": {
        "id": "XiSzm6THYNtt"
      }
    },
    {
      "cell_type": "code",
      "source": [
        "ice_cream = {\"메로나\":1000, \"폴라포\":1200, \"빵빠레\":1800}\n",
        "ice_cream[\"죠스바\"] = 1200\n",
        "ice_cream[\"월드콘\"] = 1500\n",
        "print(ice_cream)"
      ],
      "metadata": {
        "id": "rgJgYr15YQII",
        "colab": {
          "base_uri": "https://localhost:8080/"
        },
        "outputId": "2bacb14d-3319-48f6-98af-9b1b2ce9de23"
      },
      "execution_count": null,
      "outputs": [
        {
          "output_type": "stream",
          "name": "stdout",
          "text": [
            "{'메로나': 1000, '폴라포': 1200, '빵빠레': 1800, '죠스바': 1200, '월드콘': 1500}\n"
          ]
        }
      ]
    },
    {
      "cell_type": "markdown",
      "source": [
        "17\n",
        "\n",
        "다음 딕셔너리를 사용하여 메로나 가격을 출력하라.\n",
        "```\n",
        "ice = {'메로나': 1000,\n",
        "       '폴로포': 1200,\n",
        "       '빵빠레': 1800,\n",
        "       '죠스바': 1200,\n",
        "       '월드콘': 1500}\n",
        "```\n",
        "```\n",
        "실행 예:\n",
        "메로나 가격: 1000\n",
        "```"
      ],
      "metadata": {
        "id": "S9teKDATYUsx"
      }
    },
    {
      "cell_type": "code",
      "source": [
        "ice = {'메로나': 1000,\n",
        "       '폴로포': 1200,\n",
        "       '빵빠레': 1800,\n",
        "       '죠스바': 1200,\n",
        "       '월드콘': 1500}\n",
        "\n",
        "print(\"메로나 가격:\",ice[\"메로나\"])"
      ],
      "metadata": {
        "id": "pcJjFXupYYov",
        "colab": {
          "base_uri": "https://localhost:8080/"
        },
        "outputId": "5a07f71d-3c41-4a6a-bfe9-945e33025ff8"
      },
      "execution_count": null,
      "outputs": [
        {
          "output_type": "stream",
          "name": "stdout",
          "text": [
            "메로나 가격: 1000\n"
          ]
        }
      ]
    },
    {
      "cell_type": "markdown",
      "source": [
        "18\n",
        "\n",
        "다음 딕셔너리에서 메로나의 가격을 1300으로 수정하라.\n",
        "\n",
        "```\n",
        "ice = {'메로나': 1000,\n",
        "       '폴로포': 1200,\n",
        "       '빵빠레': 1800,\n",
        "       '죠스바': 1200,\n",
        "       '월드콘': 1500}\n",
        "```"
      ],
      "metadata": {
        "id": "7I2VDFc8YaS5"
      }
    },
    {
      "cell_type": "code",
      "source": [
        "ice = {'메로나': 1000,\n",
        "       '폴로포': 1200,\n",
        "       '빵빠레': 1800,\n",
        "       '죠스바': 1200,\n",
        "       '월드콘': 1500}\n",
        "ice[\"메로나\"] = 1300 #딕셔너리['키'] = 값 으로 해당 키의 값을 수정할 수 있다.\n",
        "print(ice)"
      ],
      "metadata": {
        "id": "IueFeMcoYbyH",
        "colab": {
          "base_uri": "https://localhost:8080/"
        },
        "outputId": "1e57bec7-b640-4fd2-b732-12a70d0f9ea2"
      },
      "execution_count": null,
      "outputs": [
        {
          "output_type": "stream",
          "name": "stdout",
          "text": [
            "{'메로나': 1300, '폴로포': 1200, '빵빠레': 1800, '죠스바': 1200, '월드콘': 1500}\n"
          ]
        }
      ]
    },
    {
      "cell_type": "markdown",
      "source": [
        "19\n",
        "\n",
        "다음 딕셔너리에서 메로나를 삭제하라.\n",
        "\n",
        "```\n",
        "ice = {'메로나': 1000,\n",
        "       '폴로포': 1200,\n",
        "       '빵빠레': 1800,\n",
        "       '죠스바': 1200,\n",
        "       '월드콘': 1500}\n",
        "```"
      ],
      "metadata": {
        "id": "jZgyZxk_YflG"
      }
    },
    {
      "cell_type": "code",
      "source": [
        "ice = {'메로나': 1000,\n",
        "       '폴로포': 1200,\n",
        "       '빵빠레': 1800,\n",
        "       '죠스바': 1200,\n",
        "       '월드콘': 1500}\n",
        "ice.pop(\"메로나\")\n",
        "print(ice)"
      ],
      "metadata": {
        "id": "p-PireIXYiPX",
        "colab": {
          "base_uri": "https://localhost:8080/"
        },
        "outputId": "894d1409-d70a-41b3-901b-de4837e7d72d"
      },
      "execution_count": null,
      "outputs": [
        {
          "output_type": "stream",
          "name": "stdout",
          "text": [
            "{'폴로포': 1200, '빵빠레': 1800, '죠스바': 1200, '월드콘': 1500}\n"
          ]
        }
      ]
    },
    {
      "cell_type": "markdown",
      "source": [
        "20\n",
        "\n",
        "다음 코드에서 에러가 발생한 원인을 설명하라.\n",
        "\n",
        "```\n",
        ">> icecream = {'폴라포': 1200, '빵빠레': 1800, '월드콘': 1500, '메로나': 1000}\n",
        ">> icecream['누가바']\n",
        "Traceback (most recent call last):\n",
        "  File \"<pyshell#69>\", line 1, in <module>\n",
        "    icecream['누가바']\n",
        "KeyError: '누가바'\n",
        "```"
      ],
      "metadata": {
        "id": "5ULirxuQYjVy"
      }
    },
    {
      "cell_type": "code",
      "source": [
        "#icecream의 키 값중 '누가바'에 해당하는 키 값이 없어서 에러가 발생"
      ],
      "metadata": {
        "id": "a5xxfrEwYmVe"
      },
      "execution_count": null,
      "outputs": []
    },
    {
      "cell_type": "markdown",
      "source": [],
      "metadata": {
        "id": "5Xh1yJmAjZyk"
      }
    },
    {
      "cell_type": "markdown",
      "source": [
        "21 딕셔너리 생성\n",
        "\n",
        "아래의 표에서, 아이스크림 이름을 키값으로, (가격, 재고) 리스트를 딕셔너리의 값으로 저장하라. 딕셔너리의 이름은 inventory로 한다.\n",
        "\n",
        "![image.png](data:image/png;base64,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)"
      ],
      "metadata": {
        "id": "quLbanUDYryI"
      }
    },
    {
      "cell_type": "code",
      "source": [
        "# 딕셔너리 생성시, 값은 리스트로 생성이 가능하다.\n",
        "inventory = {\"메로나\":[300,20], \"비비빅\":[400,3], \"죠스바\":[250,100]}\n",
        "print(inventory)"
      ],
      "metadata": {
        "id": "PLb9u_ZFYwse",
        "colab": {
          "base_uri": "https://localhost:8080/"
        },
        "outputId": "06cdc1aa-126b-45b5-9652-a2f0d93198a9"
      },
      "execution_count": null,
      "outputs": [
        {
          "output_type": "stream",
          "name": "stdout",
          "text": [
            "{'메로나': [300, 20], '비비빅': [400, 3], '죠스바': [250, 100]}\n"
          ]
        }
      ]
    },
    {
      "cell_type": "markdown",
      "source": [
        "22 딕셔너리 인덱싱\n",
        "\n",
        "inventory 딕셔너리에서 메로나의 가격을 화면에 출력하라.\n",
        "\n",
        "```\n",
        "inventory = {\"메로나\": [300, 20],\n",
        "              \"비비빅\": [400, 3],\n",
        "              \"죠스바\": [250, 100]}\n",
        "```\n",
        "```\n",
        "실행 예시:\n",
        "300 원\n",
        "```"
      ],
      "metadata": {
        "id": "ccLd1I1iYxSR"
      }
    },
    {
      "cell_type": "code",
      "source": [
        "inventory = {\"메로나\": [300, 20],\n",
        "              \"비비빅\": [400, 3],\n",
        "              \"죠스바\": [250, 100]}\n",
        "print(inventory[\"메로나\"][0],\"원\")"
      ],
      "metadata": {
        "id": "_sr2iB8OY15W",
        "colab": {
          "base_uri": "https://localhost:8080/"
        },
        "outputId": "4085c52a-ad09-4f1c-d45e-c9958dd47b0a"
      },
      "execution_count": null,
      "outputs": [
        {
          "output_type": "stream",
          "name": "stdout",
          "text": [
            "300 원\n"
          ]
        }
      ]
    },
    {
      "cell_type": "markdown",
      "source": [
        "23 딕셔너리 인덱싱\n",
        "\n",
        "inventory 딕셔너리에서 메로나의 재고를 화면에 출력하라.\n",
        "\n",
        "```\n",
        "inventory = {\"메로나\": [300, 20],\n",
        "              \"비비빅\": [400, 3],\n",
        "              \"죠스바\": [250, 100]}\n",
        "```\n",
        "```\n",
        "실행 예시:\n",
        "20 개\n",
        "```"
      ],
      "metadata": {
        "id": "agxxtq5gY3cX"
      }
    },
    {
      "cell_type": "code",
      "source": [
        "inventory = {\"메로나\": [300, 20],\n",
        "              \"비비빅\": [400, 3],\n",
        "              \"죠스바\": [250, 100]}\n",
        "print(inventory[\"메로나\"][1],\"개\")"
      ],
      "metadata": {
        "id": "ykl3wSf5Y6i1",
        "colab": {
          "base_uri": "https://localhost:8080/"
        },
        "outputId": "e854ed3b-d0ea-4ec4-af16-bb5bc1460a35"
      },
      "execution_count": null,
      "outputs": [
        {
          "output_type": "stream",
          "name": "stdout",
          "text": [
            "20 개\n"
          ]
        }
      ]
    },
    {
      "cell_type": "markdown",
      "source": [
        "24 딕셔너리 추가\n",
        "\n",
        "inventory 딕셔너리에 아래 데이터를 추가하라.\n",
        "\n",
        "```\n",
        "inventory = {\"메로나\": [300, 20],\n",
        "              \"비비빅\": [400, 3],\n",
        "              \"죠스바\": [250, 100]}\n",
        "```\n",
        "![image.png](data:image/png;base64,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)\n",
        "\n",
        "```\n",
        "실행 예시:\n",
        ">> print(inventory)\n",
        "{'메로나': [300, 20], '비비빅': [400, 3], '죠스바': [250, 100], '월드콘': [500, 7]}\n",
        "```"
      ],
      "metadata": {
        "id": "vovIa_xkY83e"
      }
    },
    {
      "cell_type": "code",
      "source": [
        "inventory = {\"메로나\": [300, 20],\n",
        "              \"비비빅\": [400, 3],\n",
        "              \"죠스바\": [250, 100]}\n",
        "inventory[\"월드콘\"] = [500,7] # 딕셔너리['키'] = 값 으로 수정도 가능, 키 : 값을 추가 할 수 있다.\n",
        "print(inventory)"
      ],
      "metadata": {
        "id": "CPQO7lXUZFaF",
        "colab": {
          "base_uri": "https://localhost:8080/"
        },
        "outputId": "2d8a72c6-7c90-40d5-caff-581ecd7e6047"
      },
      "execution_count": null,
      "outputs": [
        {
          "output_type": "stream",
          "name": "stdout",
          "text": [
            "{'메로나': [300, 20], '비비빅': [400, 3], '죠스바': [250, 100], '월드콘': [500, 7]}\n"
          ]
        }
      ]
    },
    {
      "cell_type": "markdown",
      "source": [
        "25 딕셔너리 keys() 메서드\n",
        "\n",
        "다음의 딕셔너리로부터 key 값으로만 구성된 리스트를 생성하라.\n",
        "\n",
        "```\n",
        "icecream = {'탱크보이': 1200, '폴라포': 1200, '빵빠레': 1800, '월드콘': 1500, '메로나': 1000}\n",
        "```"
      ],
      "metadata": {
        "id": "pJO2aSR6ZHKM"
      }
    },
    {
      "cell_type": "code",
      "source": [
        "icecream = {'탱크보이': 1200, '폴라포': 1200, '빵빠레': 1800, '월드콘': 1500, '메로나': 1000}\n",
        "list(icecream.keys())"
      ],
      "metadata": {
        "id": "gsHRtk58ZJSs",
        "colab": {
          "base_uri": "https://localhost:8080/"
        },
        "outputId": "94ed8232-9acd-44cb-a892-1f3f821a2b42"
      },
      "execution_count": null,
      "outputs": [
        {
          "output_type": "execute_result",
          "data": {
            "text/plain": [
              "['탱크보이', '폴라포', '빵빠레', '월드콘', '메로나']"
            ]
          },
          "metadata": {},
          "execution_count": 62
        }
      ]
    },
    {
      "cell_type": "markdown",
      "source": [
        "26 딕셔너리 values() 메서드\n",
        "\n",
        "다음의 딕셔너리에서 values 값으로만 구성된 리스트를 생성하라.\n",
        "\n",
        "```\n",
        "icecream = {'탱크보이': 1200, '폴라포': 1200, '빵빠레': 1800, '월드콘': 1500, '메로나': 1000}\n",
        "```"
      ],
      "metadata": {
        "id": "vbeMtWfuZLM0"
      }
    },
    {
      "cell_type": "code",
      "source": [
        "icecream = {'탱크보이': 1200, '폴라포': 1200, '빵빠레': 1800, '월드콘': 1500, '메로나': 1000}\n",
        "list(icecream.values())"
      ],
      "metadata": {
        "id": "K8QX1ILUZOhl",
        "colab": {
          "base_uri": "https://localhost:8080/"
        },
        "outputId": "f9822252-3b9b-40e1-a4d8-27d5d6f2b89e"
      },
      "execution_count": null,
      "outputs": [
        {
          "output_type": "execute_result",
          "data": {
            "text/plain": [
              "[1200, 1200, 1800, 1500, 1000]"
            ]
          },
          "metadata": {},
          "execution_count": 63
        }
      ]
    },
    {
      "cell_type": "markdown",
      "source": [
        "27 딕셔너리 values() 메서드\n",
        "\n",
        "icecream 딕셔너리에서 아이스크림 판매 금액의 총합을 출력하라.\n",
        "\n",
        "```\n",
        "icecream = {'탱크보이': 1200, '폴라포': 1200, '빵빠레': 1800, '월드콘': 1500, '메로나': 1000}\n",
        "```\n",
        "```\n",
        "출력 예시:\n",
        "6700\n",
        "```"
      ],
      "metadata": {
        "id": "lHhVAlFuZO9Q"
      }
    },
    {
      "cell_type": "code",
      "source": [
        "# 딕셔너리 values() => 딕셔너리에 저장된 모든 value 값을 출력\n",
        "icecream = {'탱크보이': 1200, '폴라포': 1200, '빵빠레': 1800, '월드콘': 1500, '메로나': 1000}\n",
        "print(sum(icecream.values())) # sum()을 이용하여 icecream의 모든 value 값의 합을 구한다."
      ],
      "metadata": {
        "id": "KUa8cBEaZSoF",
        "colab": {
          "base_uri": "https://localhost:8080/"
        },
        "outputId": "41924255-8194-4786-e0b6-b1acbf659881"
      },
      "execution_count": null,
      "outputs": [
        {
          "output_type": "stream",
          "name": "stdout",
          "text": [
            "6700\n"
          ]
        }
      ]
    },
    {
      "cell_type": "markdown",
      "source": [
        "28 딕셔너리 update 메서드\n",
        "\n",
        "아래의 new_product 딕셔너리를 다음 icecream 딕셔너리에 추가하라.\n",
        "\n",
        "```\n",
        "icecream = {'탱크보이': 1200, '폴라포': 1200, '빵빠레': 1800, '월드콘': 1500, '메로나': 1000}\n",
        "new_product = {'팥빙수':2700, '아맛나':1000}\n",
        "```\n",
        "```\n",
        "실행 예시:\n",
        ">> print(icecream)\n",
        "{'탱크보이': 1200,  '폴라포': 1200,  '빵빠레': 1800,  '월드콘': 1500,  '메로나': 1000,  '팥빙수':2700, '아맛나':1000}\n",
        "```"
      ],
      "metadata": {
        "id": "omKHLVzqZUY-"
      }
    },
    {
      "cell_type": "code",
      "source": [
        "#딕셔너리 더하기\n",
        "icecream = {'탱크보이': 1200, '폴라포': 1200, '빵빠레': 1800, '월드콘': 1500, '메로나': 1000}\n",
        "new_product = {'팥빙수':2700, '아맛나':1000}\n",
        "\n",
        "icecream.update(new_product)\n",
        "print(icecream)"
      ],
      "metadata": {
        "id": "eCCcgf60Zba0",
        "colab": {
          "base_uri": "https://localhost:8080/"
        },
        "outputId": "0bba5c24-e244-4677-f4d4-95c68bcce6c2"
      },
      "execution_count": null,
      "outputs": [
        {
          "output_type": "stream",
          "name": "stdout",
          "text": [
            "{'탱크보이': 1200, '폴라포': 1200, '빵빠레': 1800, '월드콘': 1500, '메로나': 1000, '팥빙수': 2700, '아맛나': 1000}\n"
          ]
        }
      ]
    },
    {
      "cell_type": "markdown",
      "source": [
        "29 zip과 dict\n",
        "\n",
        "아래 두 개의 튜플을 하나의 딕셔너리로 변환하라. keys를 키로, vals를 값으로 result 이름의 딕셔너리로 저장한다.\n",
        "\n",
        "```\n",
        "keys = (\"apple\", \"pear\", \"peach\")\n",
        "vals = (300, 250, 400)\n",
        "```\n",
        "```\n",
        "실행 예시:\n",
        ">> print(result)\n",
        "{'apple': 300, 'pear': 250, 'peach': 400}\n",
        "```"
      ],
      "metadata": {
        "id": "kUW2uZWeZkrE"
      }
    },
    {
      "cell_type": "code",
      "source": [
        "keys = (\"apple\", \"pear\", \"peach\")\n",
        "vals = (300, 250, 400)\n",
        "result = dict(zip(keys,vals))\n",
        "print(result)"
      ],
      "metadata": {
        "id": "Yezt-V0qZou7",
        "colab": {
          "base_uri": "https://localhost:8080/"
        },
        "outputId": "e1ecc1dc-b013-4114-db97-100a07d95869"
      },
      "execution_count": null,
      "outputs": [
        {
          "output_type": "stream",
          "name": "stdout",
          "text": [
            "{'apple': 300, 'pear': 250, 'peach': 400}\n"
          ]
        }
      ]
    },
    {
      "cell_type": "markdown",
      "source": [
        "30 zip과 dict\n",
        "date와 close_price 두 개의 리스트를 close_table 이름의 딕셔너리로 생성하라.\n",
        "\n",
        "```\n",
        "date = ['09/05', '09/06', '09/07', '09/08', '09/09']\n",
        "close_price = [10500, 10300, 10100, 10800, 11000]\n",
        "```\n",
        "```\n",
        "실행 예시:\n",
        ">> print(close_table)\n",
        "{'09/05': 10500, '09/06': 10300, '09/07': 10100, '09/08': 10800, '09/09': 11000}\n",
        "```"
      ],
      "metadata": {
        "id": "oQRT9yNfZthq"
      }
    },
    {
      "cell_type": "code",
      "source": [
        "#dict() => 딕셔너리로 타입 변경\n",
        "#zip() => 동일 개수로 이루어진 자료형을 묶어서 튜플로 반환\n",
        "date = ['09/05', '09/06', '09/07', '09/08', '09/09']\n",
        "close_price = [10500, 10300, 10100, 10800, 11000]\n",
        "close_table = dict(zip(date,close_price)) # date와 close_price를 묶어 튜플 형태로 변환 => dict()로 타입 변경\n",
        "print(close_table)"
      ],
      "metadata": {
        "id": "yEeklILtZwHM",
        "colab": {
          "base_uri": "https://localhost:8080/"
        },
        "outputId": "15e48bac-51c9-4411-9ee6-ed4e2c52e96f"
      },
      "execution_count": null,
      "outputs": [
        {
          "output_type": "stream",
          "name": "stdout",
          "text": [
            "{'09/05': 10500, '09/06': 10300, '09/07': 10100, '09/08': 10800, '09/09': 11000}\n"
          ]
        }
      ]
    }
  ]
}