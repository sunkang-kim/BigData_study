{
  "nbformat": 4,
  "nbformat_minor": 0,
  "metadata": {
    "colab": {
      "provenance": []
    },
    "kernelspec": {
      "name": "python3",
      "display_name": "Python 3"
    },
    "language_info": {
      "name": "python"
    }
  },
  "cells": [
    {
      "cell_type": "markdown",
      "source": [
        "01 파일 쓰기\n",
        "\n",
        "작업디렉토리에 '매수종목1.txt' 파일을 생성한 후 다음과 같이 종목코드를 파일에 써보세요.\n",
        "\n",
        "```\n",
        "005930\n",
        "005380\n",
        "035420\n",
        "```"
      ],
      "metadata": {
        "id": "IMd3U_tfh-ih"
      }
    },
    {
      "cell_type": "code",
      "execution_count": 1,
      "metadata": {
        "id": "YG3FfS_eh5zu"
      },
      "outputs": [],
      "source": [
        "#파일 쓰기\n",
        "with open('매수종목1.txt','w') as f:  # with를 사용하면 파일을 사용한뒤, 블록을 빠져나가면 자동으로 파일이 닫힌다.\n",
        "  f.write('005930\\n')\n",
        "  f.write('005380\\n')\n",
        "  f.write('035420\\n')\n",
        "  "
      ]
    },
    {
      "cell_type": "markdown",
      "source": [
        "02 파일 쓰기\n",
        "\n",
        "작업디렉토리에 '매수종목2.txt' 파일을 생성한 후 다음과 같이 종목코드와 종목명을 파일에 써보세요.\n",
        "\n",
        "```\n",
        "005930 삼성전자\n",
        "005380 현대차\n",
        "035420 NAVER\n",
        "```"
      ],
      "metadata": {
        "id": "rSyJe_SViB1d"
      }
    },
    {
      "cell_type": "code",
      "source": [
        "#파일 쓰기\n",
        "with open('매수종목2.txt','w') as f:  # with를 사용하면 파일을 사용한뒤, 블록을 빠져나가면 자동으로 파일이 닫힌다.\n",
        "  f.write('005930 삼성전자\\n')\n",
        "  f.write('005380 현대차\\n')\n",
        "  f.write('035420 NAVER\\n')"
      ],
      "metadata": {
        "id": "3dOv4XJUiDar"
      },
      "execution_count": 2,
      "outputs": []
    },
    {
      "cell_type": "markdown",
      "source": [
        "03 파일 읽기\n",
        "\n",
        "작업디렉토리에 생성한 '매수종목1.txt' 파일을 읽은 후 종목코드를 리스트에 저장해보세요.\n",
        "\n",
        "```\n",
        "005930\n",
        "005380\n",
        "035420\n",
        "```"
      ],
      "metadata": {
        "id": "wkkDIbR6iGXt"
      }
    },
    {
      "cell_type": "code",
      "source": [
        "infile = open('매수종목1.txt','r')\n",
        "# s = infile.read() # 파일 전체를 한줄씩 읽는다\n",
        "# s = infile.readline() # 파일을 한줄씩 읽는다\n",
        "# print(s)\n",
        "s = infile.readlines()  # 파일의 모든 줄을 읽고, 각 줄을 요소로 갖는 리스트로 리턴\n",
        "print(type(s))          # s의 타입 확인\n",
        "slist = []              # 종목코드를 담을 빈 리스트 생성\n",
        "for i in s :\n",
        "  slist.append(i.strip()) # \\n(줄바꿈) 문자를 strip()으로 제거하여 slist에 추가\n",
        "print(slist)\n"
      ],
      "metadata": {
        "id": "FZKIA2vHiLEC",
        "colab": {
          "base_uri": "https://localhost:8080/"
        },
        "outputId": "338a59be-f46c-4f83-8fbc-08fd475c2f09"
      },
      "execution_count": 19,
      "outputs": [
        {
          "output_type": "stream",
          "name": "stdout",
          "text": [
            "<class 'list'>\n",
            "['005930', '005380', '035420']\n"
          ]
        }
      ]
    },
    {
      "cell_type": "markdown",
      "source": [
        "04 파일 읽기\n",
        "\n",
        "바탕화면에 생성한 '매수종목2.txt' 파일을 읽은 후 종목코드와 종목명을 딕셔너리로 저장해보세요. 종목명을 key로 종목명을 value로 저장합니다.\n",
        "\n",
        "```\n",
        "005930 삼성전자\n",
        "005380 현대차\n",
        "035420 NAVER\n",
        "```"
      ],
      "metadata": {
        "id": "xSx__uJriT7Q"
      }
    },
    {
      "cell_type": "code",
      "source": [],
      "metadata": {
        "id": "P4BWEQr_iWfq"
      },
      "execution_count": null,
      "outputs": []
    },
    {
      "cell_type": "markdown",
      "source": [
        "05 예외처리\n",
        "\n",
        "문자열 PER (Price to Earning Ratio) 값을 실수로 변환할 때 에러가 발생합니다. 예외처리를 통해 에러가 발생하는 PER은 0으로 출력하세요.\n",
        "\n",
        "```\n",
        "per = [\"10.31\", \"\", \"8.00\"]\n",
        "\n",
        "for i in per:\n",
        "    print(float(i))\n",
        "```"
      ],
      "metadata": {
        "id": "2_a7bCSdib7l"
      }
    },
    {
      "cell_type": "code",
      "source": [
        "per = [\"10.31\", \"\", \"8.00\"]\n",
        "\n",
        "for i in per:\n",
        "  try : \n",
        "    print(float(i))\n",
        "  except :\n",
        "    print(0)"
      ],
      "metadata": {
        "id": "Lh49l_Lmie15",
        "colab": {
          "base_uri": "https://localhost:8080/"
        },
        "outputId": "6710beca-639a-498f-9fc6-01402f23926c"
      },
      "execution_count": 22,
      "outputs": [
        {
          "output_type": "stream",
          "name": "stdout",
          "text": [
            "10.31\n",
            "0\n",
            "8.0\n"
          ]
        }
      ]
    },
    {
      "cell_type": "markdown",
      "source": [
        "06 예외처리 및 리스트에 저장\n",
        "\n",
        "문자열로 표현된 PER 값을 실수로 변환한 후 이를 새로운 리스트에 저장해보세요.\n",
        "\n",
        "```\n",
        "per = [\"10.31\", \"\", \"8.00\"]\n",
        "\n",
        "for i in per:\n",
        "    print(float(per))\n",
        "```"
      ],
      "metadata": {
        "id": "zKDafTiDifbo"
      }
    },
    {
      "cell_type": "code",
      "source": [
        "per = [\"10.31\", \"\", \"8.00\"]\n",
        "new_per = []  # per 값을 실수로 저장할 빈 리스트 생성\n",
        "\n",
        "for i in per: # per 을 반복하는 반복문\n",
        "    try :\n",
        "      print(float(i))\n",
        "      new_per.append(float(i))  # 문자열 => 실수형으로 변환하여, new_per에 추가\n",
        "    except :      # 공백으로 인한 예외 발생시 실행\n",
        "      print(0)\n",
        "      new_per.append(0) # 공백 값은 0으로 추가\n",
        "\n",
        "print(new_per)"
      ],
      "metadata": {
        "id": "p97F1P7kinCh",
        "colab": {
          "base_uri": "https://localhost:8080/"
        },
        "outputId": "7318f182-922e-4ddc-a59d-92fd67225477"
      },
      "execution_count": 24,
      "outputs": [
        {
          "output_type": "stream",
          "name": "stdout",
          "text": [
            "10.31\n",
            "0\n",
            "8.0\n",
            "[10.31, 0, 8.0]\n"
          ]
        }
      ]
    },
    {
      "cell_type": "markdown",
      "source": [
        "07 특정 예외만 처리하기\n",
        "\n",
        "어떤 값을 0으로 나누면 ZeroDivisionError 에러가 발생합니다. try ~ except로 모든 에러에 대해 예외처리하지 말고 ZeroDivisionError 에러만 예외처리해보세요."
      ],
      "metadata": {
        "id": "OWW4wY1Xioth"
      }
    },
    {
      "cell_type": "code",
      "source": [
        "#예외 처리\n",
        "try :\n",
        "  z = 1/0\n",
        "except ZeroDivisionError :\n",
        "  print(\"0으로 나누는 예외\")\n",
        "print(\"아직 더 돌아가고있다\")"
      ],
      "metadata": {
        "id": "iXDLhPbFirTB",
        "colab": {
          "base_uri": "https://localhost:8080/"
        },
        "outputId": "2e8e12db-8ecd-4dd9-f1bc-19ecf7ce6eaf"
      },
      "execution_count": 25,
      "outputs": [
        {
          "output_type": "stream",
          "name": "stdout",
          "text": [
            "0으로 나누는 예외\n",
            "아직 더 돌아가고있다\n"
          ]
        }
      ]
    },
    {
      "cell_type": "markdown",
      "source": [
        "08 예외의 메시지 출력하기\n",
        "\n",
        "다음과 같은 코드 구조를 사용하면 예외 발생 시 에러 메시지를 변수로 바인딩할 수 있습니다.\n",
        "\n",
        "```\n",
        "try:\n",
        "    실행코드\n",
        "except 예외 as 변수:\n",
        "    예외처리코드 \n",
        "리스트의 인덱싱에 대해 에러를 출력해보세요.\n",
        "\n",
        "data = [1, 2, 3]\n",
        "\n",
        "for i in range(5)\n",
        "    print(data[i])\n",
        "```"
      ],
      "metadata": {
        "id": "Kx_EcdtGixLg"
      }
    },
    {
      "cell_type": "code",
      "source": [
        "data = [1, 2, 3]\n",
        "\n",
        "try :\n",
        "  for i in range(5) :\n",
        "      print(data[i])\n",
        "except Exception as e : # 예외 발생시 에러 메세지를 출력\n",
        "  print(e)"
      ],
      "metadata": {
        "id": "OE7ly5aUiz-5",
        "colab": {
          "base_uri": "https://localhost:8080/"
        },
        "outputId": "d5a2a9c4-db64-446e-ca15-0a42ca17aaa4"
      },
      "execution_count": 27,
      "outputs": [
        {
          "output_type": "stream",
          "name": "stdout",
          "text": [
            "1\n",
            "2\n",
            "3\n",
            "list index out of range\n"
          ]
        }
      ]
    },
    {
      "cell_type": "markdown",
      "source": [
        "09 try, except, else, finally 구조 사용해보기\n",
        "\n",
        "파이썬 예외처리는 다음과 같은 구조를 가질 수 있습니다.\n",
        "\n",
        "```\n",
        "try:\n",
        "    실행 코드\n",
        "except:\n",
        "    예외가 발생했을 때 수행할 코드\n",
        "else:\n",
        "    예외가 발생하지 않았을 때 수행할 코드\n",
        "finally:\n",
        "    예외 발생 여부와 상관없이 항상 수행할 코드\n",
        "\n",
        "```\n",
        "\n",
        "아래의 코드에 대해서 예외처리를 사용하고 try, except, else, finally에 적당한 코드를 작성해봅시다. else와 finally는 적당한 문구를 print하시면 됩니다.\n",
        "\n",
        "```\n",
        "per = [\"10.31\", \"\", \"8.00\"]\n",
        "\n",
        "for i in per:\n",
        "    print(float(per))\n",
        "\n",
        "```"
      ],
      "metadata": {
        "id": "xA9XEf1Qi5MX"
      }
    },
    {
      "cell_type": "code",
      "source": [
        "per = [\"10.31\", \"\", \"8.00\"]\n",
        "\n",
        "for i in per:\n",
        "  try:  # 실행코드\n",
        "    print(float(i))\n",
        "  except: # 예외가 발생했을 때 수행할 코드\n",
        "    print(\"예외 발생. 0으로 출력\")\n",
        "    print(0)\n",
        "  else: # 예외가 발생하지 않았을 때 수행할 코드\n",
        "    print(\"정상\")\n",
        "  finally: # 예외 발생 여부와 상관없이 항상 수행할 코드\n",
        "    print(\"다음\")\n",
        "print(\"종료\")\n",
        "# 실행 순서 try -> (except : 예외 발생시 실행) -> (else : 예외 발생하지 않았을 때) -> finally[반드시 실행]"
      ],
      "metadata": {
        "id": "T1wyVhy3i-AQ",
        "colab": {
          "base_uri": "https://localhost:8080/"
        },
        "outputId": "2f2671f3-fade-4d10-cf69-633547d95baf"
      },
      "execution_count": 31,
      "outputs": [
        {
          "output_type": "stream",
          "name": "stdout",
          "text": [
            "10.31\n",
            "정상\n",
            "다음\n",
            "예외 발생. 0으로 출력\n",
            "0\n",
            "다음\n",
            "8.0\n",
            "정상\n",
            "다음\n",
            "종료\n"
          ]
        }
      ]
    }
  ]
}