{
  "nbformat": 4,
  "nbformat_minor": 0,
  "metadata": {
    "colab": {
      "provenance": []
    },
    "kernelspec": {
      "name": "python3",
      "display_name": "Python 3"
    },
    "language_info": {
      "name": "python"
    }
  },
  "cells": [
    {
      "cell_type": "code",
      "execution_count": null,
      "metadata": {
        "colab": {
          "base_uri": "https://localhost:8080/"
        },
        "id": "yZHYlXqcSZLQ",
        "outputId": "a80ba51f-3d4a-467e-d1ba-1123fd5cb9b5"
      },
      "outputs": [
        {
          "output_type": "execute_result",
          "data": {
            "text/plain": [
              "314.0"
            ]
          },
          "metadata": {},
          "execution_count": 1
        }
      ],
      "source": [
        "3.14 * 10 * 10"
      ]
    },
    {
      "cell_type": "code",
      "source": [
        "3.14 * 10**2"
      ],
      "metadata": {
        "colab": {
          "base_uri": "https://localhost:8080/"
        },
        "id": "fRE2zv97TLd1",
        "outputId": "028d4c74-b70b-4b71-fc8d-7da6478c2148"
      },
      "execution_count": null,
      "outputs": [
        {
          "output_type": "execute_result",
          "data": {
            "text/plain": [
              "314.0"
            ]
          },
          "metadata": {},
          "execution_count": 2
        }
      ]
    },
    {
      "cell_type": "code",
      "source": [
        "import math\n",
        "math.sin(40)"
      ],
      "metadata": {
        "colab": {
          "base_uri": "https://localhost:8080/"
        },
        "id": "FUXBADukTTyF",
        "outputId": "521afe6c-b52d-46eb-95d8-453a0f171556"
      },
      "execution_count": null,
      "outputs": [
        {
          "output_type": "execute_result",
          "data": {
            "text/plain": [
              "0.7451131604793488"
            ]
          },
          "metadata": {},
          "execution_count": 3
        }
      ]
    },
    {
      "cell_type": "code",
      "source": [
        "print('안녕하세요')"
      ],
      "metadata": {
        "colab": {
          "base_uri": "https://localhost:8080/"
        },
        "id": "WkYCGPApTgQc",
        "outputId": "34638b28-26bb-4ad5-e36d-c908e292e21a"
      },
      "execution_count": null,
      "outputs": [
        {
          "output_type": "stream",
          "name": "stdout",
          "text": [
            "안녕하세요\n"
          ]
        }
      ]
    },
    {
      "cell_type": "code",
      "source": [
        "print('결과값은',10,'입니다.')"
      ],
      "metadata": {
        "colab": {
          "base_uri": "https://localhost:8080/"
        },
        "id": "_jCfXLIGT_10",
        "outputId": "554ec162-207e-4f73-8f15-8a68c2aedb9f"
      },
      "execution_count": null,
      "outputs": [
        {
          "output_type": "stream",
          "name": "stdout",
          "text": [
            "결과값은 10 입니다.\n"
          ]
        }
      ]
    },
    {
      "cell_type": "code",
      "source": [
        "'나의'+'고양이'"
      ],
      "metadata": {
        "colab": {
          "base_uri": "https://localhost:8080/",
          "height": 35
        },
        "id": "1ntYmRbKUaZ8",
        "outputId": "8ac63b09-d27b-4732-f944-edccf6a6f134"
      },
      "execution_count": null,
      "outputs": [
        {
          "output_type": "execute_result",
          "data": {
            "text/plain": [
              "'나의고양이'"
            ],
            "application/vnd.google.colaboratory.intrinsic+json": {
              "type": "string"
            }
          },
          "metadata": {},
          "execution_count": 8
        }
      ]
    },
    {
      "cell_type": "code",
      "source": [
        "'Hello'*10"
      ],
      "metadata": {
        "colab": {
          "base_uri": "https://localhost:8080/",
          "height": 35
        },
        "id": "PucvbxYXUhnc",
        "outputId": "55ce347a-3553-4fee-9af6-1e309e07c0fe"
      },
      "execution_count": null,
      "outputs": [
        {
          "output_type": "execute_result",
          "data": {
            "text/plain": [
              "'HelloHelloHelloHelloHelloHelloHelloHelloHelloHello'"
            ],
            "application/vnd.google.colaboratory.intrinsic+json": {
              "type": "string"
            }
          },
          "metadata": {},
          "execution_count": 9
        }
      ]
    },
    {
      "cell_type": "code",
      "source": [
        "print(\"2+3 =\", 2+3)"
      ],
      "metadata": {
        "colab": {
          "base_uri": "https://localhost:8080/"
        },
        "id": "3zQvKZyrUlJ0",
        "outputId": "4fa7fda3-50f4-4ee9-e5d5-3e0d01d7fdbe"
      },
      "execution_count": null,
      "outputs": [
        {
          "output_type": "stream",
          "name": "stdout",
          "text": [
            "2+3 = 5\n"
          ]
        }
      ]
    },
    {
      "cell_type": "code",
      "source": [
        "x = 10000\n",
        "y = 20000"
      ],
      "metadata": {
        "id": "hsbvxClpVDAU"
      },
      "execution_count": null,
      "outputs": []
    },
    {
      "cell_type": "code",
      "source": [
        "print(x)"
      ],
      "metadata": {
        "colab": {
          "base_uri": "https://localhost:8080/"
        },
        "id": "-Z-o0WG3VGIU",
        "outputId": "41d05c98-3ea2-4f36-923c-729fca723f2a"
      },
      "execution_count": null,
      "outputs": [
        {
          "output_type": "stream",
          "name": "stdout",
          "text": [
            "10000\n"
          ]
        }
      ]
    },
    {
      "cell_type": "code",
      "source": [
        "radius = 10\n",
        "area = 3.14 * radius * radius\n",
        "print(\"반지름\",radius,\"인 원의 면적=\",area)"
      ],
      "metadata": {
        "colab": {
          "base_uri": "https://localhost:8080/"
        },
        "id": "i07djzhiVcLE",
        "outputId": "6377eb51-ad96-4e72-cfae-e21513a9c093"
      },
      "execution_count": null,
      "outputs": [
        {
          "output_type": "stream",
          "name": "stdout",
          "text": [
            "반지름 10 인 원의 면적= 314.0\n"
          ]
        }
      ]
    },
    {
      "cell_type": "code",
      "source": [
        "print(type(12.30))"
      ],
      "metadata": {
        "colab": {
          "base_uri": "https://localhost:8080/"
        },
        "id": "4J3h0cy3W3G7",
        "outputId": "781e35b5-fabc-4471-bcd0-a0635b412d25"
      },
      "execution_count": null,
      "outputs": [
        {
          "output_type": "stream",
          "name": "stdout",
          "text": [
            "<class 'float'>\n"
          ]
        }
      ]
    },
    {
      "cell_type": "code",
      "source": [
        "print(type(\"hello\"))"
      ],
      "metadata": {
        "colab": {
          "base_uri": "https://localhost:8080/"
        },
        "id": "9M_dbW1aW_vM",
        "outputId": "cf533878-910c-4c86-a37a-43af3c78d8db"
      },
      "execution_count": null,
      "outputs": [
        {
          "output_type": "stream",
          "name": "stdout",
          "text": [
            "<class 'str'>\n"
          ]
        }
      ]
    },
    {
      "cell_type": "code",
      "source": [
        "x = 1000\n",
        "print(\"초기값 x=\", x)\n",
        "x += 2\n",
        "print(\"x += 2 후의 x =\", x)\n",
        "x -= 2\n",
        "print(\"x -= 2 후의 x =\", x)"
      ],
      "metadata": {
        "colab": {
          "base_uri": "https://localhost:8080/"
        },
        "id": "v-bYXHpLX1Tj",
        "outputId": "caeb86cb-cc7f-496b-a6eb-fa3e0d3bfbd1"
      },
      "execution_count": null,
      "outputs": [
        {
          "output_type": "stream",
          "name": "stdout",
          "text": [
            "초기값 x= 1000\n",
            "x += 2 후의 x = 1002\n",
            "x -= 2 후의 x = 1000\n"
          ]
        }
      ]
    },
    {
      "cell_type": "code",
      "source": [
        "x = 3.14\n",
        "\n",
        "y = str(x)\n",
        "\n",
        "print(y)\n",
        "print(type(y))"
      ],
      "metadata": {
        "colab": {
          "base_uri": "https://localhost:8080/"
        },
        "id": "KrOpJWrKYjqR",
        "outputId": "b95de78f-a3be-4c2e-9cdf-cce015fb827d"
      },
      "execution_count": null,
      "outputs": [
        {
          "output_type": "stream",
          "name": "stdout",
          "text": [
            "3.14\n",
            "<class 'str'>\n"
          ]
        }
      ]
    },
    {
      "cell_type": "code",
      "source": [
        "price = 12345\n",
        "tax = price * 0.075\n",
        "print(tax)\n",
        "tax = round(tax, 2)\n",
        "print(tax)"
      ],
      "metadata": {
        "colab": {
          "base_uri": "https://localhost:8080/"
        },
        "id": "nf1LMEoqZAXZ",
        "outputId": "bc178596-506c-47c8-ccb1-56cfffc41368"
      },
      "execution_count": null,
      "outputs": [
        {
          "output_type": "stream",
          "name": "stdout",
          "text": [
            "925.875\n",
            "925.88\n"
          ]
        }
      ]
    },
    {
      "cell_type": "code",
      "source": [
        "msg = '철수가\"안녕\"이라고 말했습니다.'\n",
        "print(msg)\n",
        "msg2 = \"철수가'안녕'이라고 말했습니다.\"\n",
        "print(msg2)"
      ],
      "metadata": {
        "colab": {
          "base_uri": "https://localhost:8080/"
        },
        "id": "yMV5tvC3Zeyj",
        "outputId": "1eb10ee5-9b74-4cac-db9a-9b8de0320381"
      },
      "execution_count": null,
      "outputs": [
        {
          "output_type": "stream",
          "name": "stdout",
          "text": [
            "철수가\"안녕\"이라고 말했습니다.\n",
            "철수가'안녕'이라고 말했습니다.\n"
          ]
        }
      ]
    },
    {
      "cell_type": "code",
      "source": [
        "a = \"\"\"안녕하세요\n",
        "김선강입니다.\"\"\"\n",
        "b = '''작은 따옴표도\n",
        "가능합니다\n",
        "주석으로도 사용할 수 있습니다.'''\n",
        "#은 한줄 주석\n",
        "'''은 여러줄 주석으로 사용'''\n",
        "print(a)\n",
        "print(b)"
      ],
      "metadata": {
        "colab": {
          "base_uri": "https://localhost:8080/"
        },
        "id": "n3GX4raNZ2Mp",
        "outputId": "74b9bda2-3120-411a-c370-f223f11ffc16"
      },
      "execution_count": null,
      "outputs": [
        {
          "output_type": "stream",
          "name": "stdout",
          "text": [
            "안녕하세요\n",
            "김선강입니다.\n",
            "작은 따옴표도\n",
            "가능합니다\n",
            "주석으로도 사용할 수 있습니다.\n"
          ]
        }
      ]
    },
    {
      "cell_type": "code",
      "source": [
        "print(\"엔터치고 싶다 \\n 이거다\")\n",
        "print(\"she\\'s gone\")"
      ],
      "metadata": {
        "colab": {
          "base_uri": "https://localhost:8080/"
        },
        "id": "_9Kzf8IAc1x3",
        "outputId": "3feb273e-7d79-4fde-b153-36a074728da9"
      },
      "execution_count": null,
      "outputs": [
        {
          "output_type": "stream",
          "name": "stdout",
          "text": [
            "엔터치고 싶다 \n",
            " 이거다\n",
            "she's gone\n"
          ]
        }
      ]
    },
    {
      "cell_type": "code",
      "source": [
        "s = \"Hello World\"\n",
        "print(s[0])\n",
        "print(s[0:2]) #0번부터 2번 전까지\n",
        "print(s[6])\n",
        "print(s[6:8]) #6번부터 8번 전까지\n",
        "print(s[-1])"
      ],
      "metadata": {
        "colab": {
          "base_uri": "https://localhost:8080/"
        },
        "id": "RxZBrVrndwgP",
        "outputId": "52d4ee4c-3bca-411f-9635-66d903155b98"
      },
      "execution_count": null,
      "outputs": [
        {
          "output_type": "stream",
          "name": "stdout",
          "text": [
            "H\n",
            "He\n",
            "W\n",
            "Wo\n",
            "d\n"
          ]
        }
      ]
    },
    {
      "cell_type": "code",
      "source": [
        "name = \"Harry Pater\"\n",
        "lower_name = name.lower() #전체 문자를 소문자로\n",
        "print(lower_name)\n",
        "new_name = name.replace(\"Pater\",\"Poter\") #문자열 일부 변경\n",
        "print(new_name)"
      ],
      "metadata": {
        "colab": {
          "base_uri": "https://localhost:8080/"
        },
        "id": "g6cD2yW-e-Hm",
        "outputId": "ed52fce8-da0d-4537-a92b-9bb27e41ba13"
      },
      "execution_count": null,
      "outputs": [
        {
          "output_type": "stream",
          "name": "stdout",
          "text": [
            "harry pater\n",
            "Harry Poter\n"
          ]
        }
      ]
    },
    {
      "cell_type": "code",
      "source": [
        "name = input(\"이름을 입력하시오: \")\n",
        "print(name)"
      ],
      "metadata": {
        "colab": {
          "base_uri": "https://localhost:8080/"
        },
        "id": "lA2atT7WftFW",
        "outputId": "61be0878-9cd1-4fda-caf9-6133cd18b89e"
      },
      "execution_count": null,
      "outputs": [
        {
          "output_type": "stream",
          "name": "stdout",
          "text": [
            "이름을 입력하시오:김선강\n",
            "김선강\n"
          ]
        }
      ]
    },
    {
      "cell_type": "code",
      "source": [
        "s1 = int(input(\"첫 번째 정수를 입력하시오 : \")) #input으로 입력하면서 int로 타입 변환\n",
        "s2 = int(input(\"두 번째 정수를 입력하시오 : \"))\n",
        "print(s1+s2)"
      ],
      "metadata": {
        "colab": {
          "base_uri": "https://localhost:8080/"
        },
        "id": "b3P943C6f-Pd",
        "outputId": "6820cd52-a9c2-46d7-b9e7-1156873f3491"
      },
      "execution_count": null,
      "outputs": [
        {
          "output_type": "stream",
          "name": "stdout",
          "text": [
            "첫 번째 정수를 입력하시오 : 2\n",
            "두 번째 정수를 입력하시오 : 3\n",
            "5\n"
          ]
        }
      ]
    },
    {
      "cell_type": "code",
      "source": [
        "x = 100\n",
        "y = 200\n",
        "print(f\"{x}와 {y}의 합 = {x+y}\")"
      ],
      "metadata": {
        "colab": {
          "base_uri": "https://localhost:8080/"
        },
        "id": "GCCcU5AMggs9",
        "outputId": "2e961dfb-d9f9-4590-c00c-1370953f7428"
      },
      "execution_count": null,
      "outputs": [
        {
          "output_type": "stream",
          "name": "stdout",
          "text": [
            "100와 200의 합 = 300\n"
          ]
        }
      ]
    },
    {
      "cell_type": "code",
      "source": [
        "py = 7.1234\n",
        "\n",
        "print(\"테스트 출력 %10.2f\" % py)"
      ],
      "metadata": {
        "colab": {
          "base_uri": "https://localhost:8080/"
        },
        "id": "ps38KcW1g4L7",
        "outputId": "3be9e600-9559-42e8-c8e7-06bbc33da0e3"
      },
      "execution_count": null,
      "outputs": [
        {
          "output_type": "stream",
          "name": "stdout",
          "text": [
            "테스트 출력       7.12\n"
          ]
        }
      ]
    },
    {
      "cell_type": "code",
      "source": [
        "#문자열 슬라이싱\n",
        "a = \"안녕하세요\""
      ],
      "metadata": {
        "id": "icyNkl3o6TW6"
      },
      "execution_count": null,
      "outputs": []
    },
    {
      "cell_type": "code",
      "source": [
        "a[0]"
      ],
      "metadata": {
        "colab": {
          "base_uri": "https://localhost:8080/",
          "height": 35
        },
        "id": "vHmDtTra6hcq",
        "outputId": "a380da75-d0e8-4d0c-c789-72c76c38a41d"
      },
      "execution_count": null,
      "outputs": [
        {
          "output_type": "execute_result",
          "data": {
            "text/plain": [
              "'안'"
            ],
            "application/vnd.google.colaboratory.intrinsic+json": {
              "type": "string"
            }
          },
          "metadata": {},
          "execution_count": 54
        }
      ]
    },
    {
      "cell_type": "code",
      "source": [
        "a[0:2]"
      ],
      "metadata": {
        "colab": {
          "base_uri": "https://localhost:8080/",
          "height": 35
        },
        "id": "YKV0-NR86isJ",
        "outputId": "02fe0113-d1b9-482b-cb81-503434863680"
      },
      "execution_count": null,
      "outputs": [
        {
          "output_type": "execute_result",
          "data": {
            "text/plain": [
              "'안녕'"
            ],
            "application/vnd.google.colaboratory.intrinsic+json": {
              "type": "string"
            }
          },
          "metadata": {},
          "execution_count": 55
        }
      ]
    },
    {
      "cell_type": "code",
      "source": [
        "a[0:5:2]\n",
        "#a의 0~5번째 2칸씩 띄어서 추출"
      ],
      "metadata": {
        "colab": {
          "base_uri": "https://localhost:8080/",
          "height": 35
        },
        "id": "ePS9XsgT6nqh",
        "outputId": "c41ff6b6-70b5-415f-abf9-5408faabe33a"
      },
      "execution_count": null,
      "outputs": [
        {
          "output_type": "execute_result",
          "data": {
            "text/plain": [
              "'안하요'"
            ],
            "application/vnd.google.colaboratory.intrinsic+json": {
              "type": "string"
            }
          },
          "metadata": {},
          "execution_count": 56
        }
      ]
    },
    {
      "cell_type": "code",
      "source": [
        "a[::2]"
      ],
      "metadata": {
        "colab": {
          "base_uri": "https://localhost:8080/",
          "height": 35
        },
        "id": "6OwV3h4A63BT",
        "outputId": "4a4871a6-d459-456c-d835-b7f191ff4f3d"
      },
      "execution_count": null,
      "outputs": [
        {
          "output_type": "execute_result",
          "data": {
            "text/plain": [
              "'안하요'"
            ],
            "application/vnd.google.colaboratory.intrinsic+json": {
              "type": "string"
            }
          },
          "metadata": {},
          "execution_count": 59
        }
      ]
    },
    {
      "cell_type": "code",
      "source": [
        "a[::-1]\n",
        "#거꾸로 출력"
      ],
      "metadata": {
        "colab": {
          "base_uri": "https://localhost:8080/",
          "height": 35
        },
        "id": "2DzoI8xi7A6h",
        "outputId": "f2aa93f4-e87b-4b1c-99a9-341feafb47ed"
      },
      "execution_count": null,
      "outputs": [
        {
          "output_type": "execute_result",
          "data": {
            "text/plain": [
              "'요세하녕안'"
            ],
            "application/vnd.google.colaboratory.intrinsic+json": {
              "type": "string"
            }
          },
          "metadata": {},
          "execution_count": 60
        }
      ]
    },
    {
      "cell_type": "code",
      "source": [
        "a[::-2]"
      ],
      "metadata": {
        "colab": {
          "base_uri": "https://localhost:8080/",
          "height": 35
        },
        "id": "OCYij9Hz7DoR",
        "outputId": "794bc5a5-239a-4d3f-8188-aed2c11346d3"
      },
      "execution_count": null,
      "outputs": [
        {
          "output_type": "execute_result",
          "data": {
            "text/plain": [
              "'요하안'"
            ],
            "application/vnd.google.colaboratory.intrinsic+json": {
              "type": "string"
            }
          },
          "metadata": {},
          "execution_count": 61
        }
      ]
    },
    {
      "cell_type": "code",
      "source": [
        "#사용자로부터 상품의 가격을 입력\n",
        "price = int(input(\"상품의 가격: \"))\n",
        "\n",
        "#배송비 결정\n",
        "if price > 20000 :\n",
        "    shipping_cost = 0\n",
        "else :\n",
        "    shipping_cost = 3000\n",
        "\n",
        "#배송비 출력\n",
        "print(\"배송비 = \", shipping_cost)"
      ],
      "metadata": {
        "colab": {
          "base_uri": "https://localhost:8080/"
        },
        "id": "Xyz7DdceGX0R",
        "outputId": "c3b73691-7a0e-4743-d116-9b5aa55e38ad"
      },
      "execution_count": null,
      "outputs": [
        {
          "output_type": "stream",
          "name": "stdout",
          "text": [
            "상품의 가격: 20000\n",
            "배송비 =  3000\n"
          ]
        }
      ]
    },
    {
      "cell_type": "code",
      "source": [
        "price = 30000\n",
        "exp = price > 20000\n",
        "\n",
        "print(exp)\n",
        "\n",
        "if exp : \n",
        "    shipping_cost = 0\n",
        "else :\n",
        "    shipping_cost = 3000\n",
        "print(shipping_cost)"
      ],
      "metadata": {
        "colab": {
          "base_uri": "https://localhost:8080/"
        },
        "id": "fw-kg8UAHL54",
        "outputId": "2f2a241f-29b5-45a6-acfd-73cebb485874"
      },
      "execution_count": null,
      "outputs": [
        {
          "output_type": "stream",
          "name": "stdout",
          "text": [
            "True\n",
            "0\n"
          ]
        }
      ]
    },
    {
      "cell_type": "code",
      "source": [
        "import math\n",
        "math.sqrt(9)"
      ],
      "metadata": {
        "colab": {
          "base_uri": "https://localhost:8080/"
        },
        "id": "aQEdjvSgIVow",
        "outputId": "86200947-500b-411d-8ad2-4d4f30f698db"
      },
      "execution_count": null,
      "outputs": [
        {
          "output_type": "execute_result",
          "data": {
            "text/plain": [
              "3.0"
            ]
          },
          "metadata": {},
          "execution_count": 67
        }
      ]
    },
    {
      "cell_type": "code",
      "source": [
        "from math import sqrt\n",
        "sqrt(9)"
      ],
      "metadata": {
        "colab": {
          "base_uri": "https://localhost:8080/"
        },
        "id": "oe_qvcysIjAn",
        "outputId": "4b85feae-4254-49f9-ef14-e145eb18f4be"
      },
      "execution_count": null,
      "outputs": [
        {
          "output_type": "execute_result",
          "data": {
            "text/plain": [
              "3.0"
            ]
          },
          "metadata": {},
          "execution_count": 68
        }
      ]
    },
    {
      "cell_type": "code",
      "source": [
        "from math import *\n",
        "sqrt(9)"
      ],
      "metadata": {
        "colab": {
          "base_uri": "https://localhost:8080/"
        },
        "id": "pL9HUko2Ioh-",
        "outputId": "f6888f28-de7b-4e53-e9fd-a51050c0504e"
      },
      "execution_count": null,
      "outputs": [
        {
          "output_type": "execute_result",
          "data": {
            "text/plain": [
              "3.0"
            ]
          },
          "metadata": {},
          "execution_count": 69
        }
      ]
    },
    {
      "cell_type": "code",
      "source": [
        "#조건 연산자 예제\n",
        "x = int(input(\"첫 번째 수 = \"))\n",
        "y = int(input(\"두 번째 수 = \"))\n",
        "max_value = (x if x>y else y)\n",
        "min_value = (y if x>y else x)\n",
        "\n",
        "print(\"큰 수=\",max_value,\"작은 수=\",min_value)"
      ],
      "metadata": {
        "colab": {
          "base_uri": "https://localhost:8080/"
        },
        "id": "TRV4tXhPJONf",
        "outputId": "d1039c8e-025b-43f9-8563-f795bcec47ff"
      },
      "execution_count": null,
      "outputs": [
        {
          "output_type": "stream",
          "name": "stdout",
          "text": [
            "첫 번째 수 = 20\n",
            "두 번째 수 = 30\n",
            "큰 수= 30 작은 수= 20\n"
          ]
        }
      ]
    },
    {
      "cell_type": "code",
      "source": [
        "#산술 퀴즈 프로그램\n",
        "num = int(input(\"정수를 입력하시오 : \"))\n",
        "\n",
        "if num % 2 == 0 :\n",
        "    print(\"짝수입니다.\")\n",
        "else :\n",
        "    print(\"홀수입니다.\")"
      ],
      "metadata": {
        "colab": {
          "base_uri": "https://localhost:8080/"
        },
        "id": "bCanLeFOKeWn",
        "outputId": "c78a6263-be4b-48d3-bf16-a279fa3deb6a"
      },
      "execution_count": null,
      "outputs": [
        {
          "output_type": "stream",
          "name": "stdout",
          "text": [
            "정수를 입력하시오 : 10\n",
            "짝수입니다.\n"
          ]
        }
      ]
    },
    {
      "cell_type": "code",
      "source": [
        "price = int(input(\"가격을 입력하시오: \"))\n",
        "card = input(\"카드 종류를 입력하시오: \")\n",
        "if price > 20000 and card == \"python\" :\n",
        "    print(\"배송료가 없습니다.\")\n",
        "else :\n",
        "    print(\"배송료는 3000원 입니다.\")"
      ],
      "metadata": {
        "colab": {
          "base_uri": "https://localhost:8080/"
        },
        "id": "kEn9jcDNLUau",
        "outputId": "b0e7fc8b-540f-4690-882e-8fd03fddb063"
      },
      "execution_count": null,
      "outputs": [
        {
          "output_type": "stream",
          "name": "stdout",
          "text": [
            "가격을 입력하시오: 30000\n",
            "카드 종류를 입력하시오: python\n",
            "배송료가 없습니다.\n"
          ]
        }
      ]
    },
    {
      "cell_type": "code",
      "source": [
        "#연속 if문, elif\n",
        "num = int(input(\"정수를 입력하시오 : \"))\n",
        "\n",
        "if num > 0 :\n",
        "    print(\"양수입니다.\")\n",
        "elif num == 0 :\n",
        "    print(\"0입니다.\")\n",
        "else : \n",
        "    print(\"음수입니다.\")"
      ],
      "metadata": {
        "colab": {
          "base_uri": "https://localhost:8080/"
        },
        "id": "1SUxPaUGMOTO",
        "outputId": "bf652b83-8d9b-4eca-e16d-11ed813ec3a5"
      },
      "execution_count": null,
      "outputs": [
        {
          "output_type": "stream",
          "name": "stdout",
          "text": [
            "정수를 입력하시오 : 0\n",
            "0입니다.\n"
          ]
        }
      ]
    },
    {
      "cell_type": "code",
      "source": [
        "#지진 규모 체크 예제\n",
        "\n",
        "num = float(input(\"리히터 규모를 입력하시오 : \"))\n",
        "\n",
        "if num >= 8.0 :\n",
        "    print(\"대부분의 구조물이 파괴됩니다.\")\n",
        "elif num >= 7.0 :\n",
        "    print(\"지표면에 균열이 발생합니다.\")\n",
        "elif num >= 4.0 :\n",
        "    print(\"빈약한 건물에 큰 피해가 있습니다\")\n",
        "elif num >= 2.0 :\n",
        "    print(\"물건들이 흔들리거나 떨어집니다.\")\n",
        "else :\n",
        "    print(\"지진계에 의해서만 탐지 가능합니다.\")"
      ],
      "metadata": {
        "colab": {
          "base_uri": "https://localhost:8080/"
        },
        "id": "v8l4XAOnM_i9",
        "outputId": "d29a61e6-7d42-4ed5-d237-de4148e5310a"
      },
      "execution_count": null,
      "outputs": [
        {
          "output_type": "stream",
          "name": "stdout",
          "text": [
            "리히터 규모를 입력하시오 : 4.5\n",
            "빈약한 건물에 큰 피해가 있습니다\n"
          ]
        }
      ]
    },
    {
      "cell_type": "code",
      "source": [
        "#반복문\n",
        "for i in [9,8,7,6,5] :\n",
        "    print(\"i=\", i)"
      ],
      "metadata": {
        "colab": {
          "base_uri": "https://localhost:8080/"
        },
        "id": "O245CHdAjExN",
        "outputId": "a37df7fe-ca95-4b48-b50f-f3b82165bdd3"
      },
      "execution_count": null,
      "outputs": [
        {
          "output_type": "stream",
          "name": "stdout",
          "text": [
            "i= 9\n",
            "i= 8\n",
            "i= 7\n",
            "i= 6\n",
            "i= 5\n"
          ]
        }
      ]
    },
    {
      "cell_type": "code",
      "source": [
        "for i in range(5) :\n",
        "    print(i)\n",
        "print('-----------')\n",
        "for i in range(1,6) :\n",
        "    print(i)\n",
        "print('-----------')\n",
        "for i in range(1,6,2) :\n",
        "    print(i)\n",
        "print('-----------')\n",
        "for i in range(5,0,-1) : #for문의 endPoint는 포함되지 않는다.\n",
        "    print(i)"
      ],
      "metadata": {
        "colab": {
          "base_uri": "https://localhost:8080/"
        },
        "id": "FOWFee3PjaY0",
        "outputId": "b6db5c27-488f-4e29-a2a0-4c1aedba9f27"
      },
      "execution_count": null,
      "outputs": [
        {
          "output_type": "stream",
          "name": "stdout",
          "text": [
            "0\n",
            "1\n",
            "2\n",
            "3\n",
            "4\n",
            "-----------\n",
            "1\n",
            "2\n",
            "3\n",
            "4\n",
            "5\n",
            "-----------\n",
            "1\n",
            "3\n",
            "5\n",
            "-----------\n",
            "5\n",
            "4\n",
            "3\n",
            "2\n",
            "1\n"
          ]
        }
      ]
    },
    {
      "cell_type": "code",
      "source": [
        "for i in range(1,6,1) :\n",
        "  print(i, end=' ')"
      ],
      "metadata": {
        "colab": {
          "base_uri": "https://localhost:8080/"
        },
        "id": "8Orf6i6lk6b7",
        "outputId": "a0132167-00d0-4320-9598-e1314682afe5"
      },
      "execution_count": null,
      "outputs": [
        {
          "output_type": "stream",
          "name": "stdout",
          "text": [
            "1 2 3 4 5 "
          ]
        }
      ]
    },
    {
      "cell_type": "code",
      "source": [
        "TARGET = 2000      #목표 금액\n",
        "money = 1000       #초기 자금\n",
        "year = 0           #연도\n",
        "rate = 0.07        #이자율\n",
        "\n",
        "#현재 금액이 목표 금액보다 작으면 반복\n",
        "while money < TARGET :\n",
        "    money = money + money * rate\n",
        "    year = year + 1\n",
        "print(year,\"년\")"
      ],
      "metadata": {
        "colab": {
          "base_uri": "https://localhost:8080/"
        },
        "id": "55HxG5YKlu7X",
        "outputId": "6d1fd3f4-2ab7-4dac-cdf7-d2f3cbfd8086"
      },
      "execution_count": null,
      "outputs": [
        {
          "output_type": "stream",
          "name": "stdout",
          "text": [
            "11 년\n"
          ]
        }
      ]
    },
    {
      "cell_type": "code",
      "source": [
        "#while문을 활용한 구구단 출력\n",
        "num = int(input(\"원하는 단을 입력해주세요 : \"))\n",
        "i = 1\n",
        "while i < 10 :\n",
        "  print(num,\"x\",i,\"=\",num*i)\n",
        "  i = i + 1"
      ],
      "metadata": {
        "colab": {
          "base_uri": "https://localhost:8080/"
        },
        "id": "qZEaWjtFmVkK",
        "outputId": "cef887f4-323c-424e-ee9b-2d0b6b4f3005"
      },
      "execution_count": null,
      "outputs": [
        {
          "output_type": "stream",
          "name": "stdout",
          "text": [
            "원하는 단을 입력해주세요 : 8\n",
            "8 x 1 = 8\n",
            "8 x 2 = 16\n",
            "8 x 3 = 24\n",
            "8 x 4 = 32\n",
            "8 x 5 = 40\n",
            "8 x 6 = 48\n",
            "8 x 7 = 56\n",
            "8 x 8 = 64\n",
            "8 x 9 = 72\n"
          ]
        }
      ]
    },
    {
      "cell_type": "code",
      "source": [
        "for i in range(5) :\n",
        "  for j in range(5) :\n",
        "    print('i',i,'j',j)  "
      ],
      "metadata": {
        "colab": {
          "base_uri": "https://localhost:8080/"
        },
        "id": "BnuZZd6Rn9_5",
        "outputId": "7adebd2d-a8b4-49dc-a185-ea28c2b5da01"
      },
      "execution_count": null,
      "outputs": [
        {
          "output_type": "stream",
          "name": "stdout",
          "text": [
            "i 0 j 0\n",
            "i 0 j 1\n",
            "i 0 j 2\n",
            "i 0 j 3\n",
            "i 0 j 4\n",
            "i 1 j 0\n",
            "i 1 j 1\n",
            "i 1 j 2\n",
            "i 1 j 3\n",
            "i 1 j 4\n",
            "i 2 j 0\n",
            "i 2 j 1\n",
            "i 2 j 2\n",
            "i 2 j 3\n",
            "i 2 j 4\n",
            "i 3 j 0\n",
            "i 3 j 1\n",
            "i 3 j 2\n",
            "i 3 j 3\n",
            "i 3 j 4\n",
            "i 4 j 0\n",
            "i 4 j 1\n",
            "i 4 j 2\n",
            "i 4 j 3\n",
            "i 4 j 4\n"
          ]
        }
      ]
    },
    {
      "cell_type": "code",
      "source": [
        "for y in range(5) :\n",
        "  for x in range(10):\n",
        "    print(\"*\", end=\"\")\n",
        "  print(\"\")"
      ],
      "metadata": {
        "colab": {
          "base_uri": "https://localhost:8080/"
        },
        "id": "1Bjrs_0Voe5I",
        "outputId": "8b1c8e28-742e-49cd-b681-46c699787367"
      },
      "execution_count": null,
      "outputs": [
        {
          "output_type": "stream",
          "name": "stdout",
          "text": [
            "**********\n",
            "**********\n",
            "**********\n",
            "**********\n",
            "**********\n"
          ]
        }
      ]
    },
    {
      "cell_type": "code",
      "source": [
        "adj = [\"small\", \"medium\", \"large\"]\n",
        "nouns = [\"apple\", \"banana\", \"grape\"]\n",
        "for x in adj :\n",
        "  for y in nouns :\n",
        "    print(x,y)"
      ],
      "metadata": {
        "colab": {
          "base_uri": "https://localhost:8080/"
        },
        "id": "HkdhLNwupE2Y",
        "outputId": "e749f612-86b1-4d37-e8bd-9280f85d1550"
      },
      "execution_count": null,
      "outputs": [
        {
          "output_type": "stream",
          "name": "stdout",
          "text": [
            "small apple\n",
            "small banana\n",
            "small grape\n",
            "medium apple\n",
            "medium banana\n",
            "medium grape\n",
            "large apple\n",
            "large banana\n",
            "large grape\n"
          ]
        }
      ]
    },
    {
      "cell_type": "code",
      "source": [
        "#while break 예제\n",
        "while True :\n",
        "  light = input(\"신호등 색상을 입력하시오 : \")\n",
        "  if light == 'red':\n",
        "    break;\n",
        "print('정지!')"
      ],
      "metadata": {
        "colab": {
          "base_uri": "https://localhost:8080/"
        },
        "id": "InPc5oJzplD5",
        "outputId": "9c60ec6d-a3e1-409c-cce6-0f0167f162ca"
      },
      "execution_count": null,
      "outputs": [
        {
          "output_type": "stream",
          "name": "stdout",
          "text": [
            "신호등 색상을 입력하시오 : green\n",
            "신호등 색상을 입력하시오 : yellow\n",
            "신호등 색상을 입력하시오 : red\n",
            "정지!\n"
          ]
        }
      ]
    },
    {
      "cell_type": "code",
      "source": [
        "for i in range(1,11) :\n",
        "    if i%3 == 0 :           #3의 배수이면\n",
        "        continue            #다음 반복을 시작한다.\n",
        "    print(i, end=\" \")       #줄바꿈을 하지 않고 스페이스만 출력한다."
      ],
      "metadata": {
        "colab": {
          "base_uri": "https://localhost:8080/"
        },
        "id": "jpbm0mzJp-qo",
        "outputId": "c7086a53-bc7f-4cb5-e623-b59c15424500"
      },
      "execution_count": null,
      "outputs": [
        {
          "output_type": "stream",
          "name": "stdout",
          "text": [
            "1 2 4 5 7 8 10 "
          ]
        }
      ]
    }
  ]
}