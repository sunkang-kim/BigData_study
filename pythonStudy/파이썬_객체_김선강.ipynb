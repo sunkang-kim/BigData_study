{
  "nbformat": 4,
  "nbformat_minor": 0,
  "metadata": {
    "colab": {
      "provenance": []
    },
    "kernelspec": {
      "name": "python3",
      "display_name": "Python 3"
    },
    "language_info": {
      "name": "python"
    }
  },
  "cells": [
    {
      "cell_type": "markdown",
      "source": [
        "01 클래스, 객체, 인스턴스\n",
        "\n",
        "클래스, 객체, 인스턴스에 대해 설명해봅시다."
      ],
      "metadata": {
        "id": "Itfja5BTaQ_N"
      }
    },
    {
      "cell_type": "code",
      "execution_count": null,
      "metadata": {
        "id": "PmQ0_cziaLNE"
      },
      "outputs": [],
      "source": [
        "#객체 : 사물, 사람 등 모든 것\n",
        "#클래스 : 객체를 찍어내는 설계도\n",
        "#인스턴스 ; 클래스로부터 찍어낸 객체"
      ]
    },
    {
      "cell_type": "markdown",
      "source": [
        "02 클래스 정의\n",
        "\n",
        "비어있는 사람 (Human) 클래스를 \"정의\" 해보세요."
      ],
      "metadata": {
        "id": "hlok4p0qaUyg"
      }
    },
    {
      "cell_type": "code",
      "source": [
        "class Human :\n",
        "    pass"
      ],
      "metadata": {
        "id": "thZitr4maWqg"
      },
      "execution_count": null,
      "outputs": []
    },
    {
      "cell_type": "markdown",
      "source": [
        "03 인스턴스 생성\n",
        "\n",
        "사람 (Human) 클래스의 인스턴스를 \"생성\" 하고 이를 areum 변수로 바인딩해보세요."
      ],
      "metadata": {
        "id": "qntPVoOPaYfZ"
      }
    },
    {
      "cell_type": "code",
      "source": [
        "class Human :       # Human 클래스 생성\n",
        "    pass            # 생성자 정의하지 않고 pass\n",
        "\n",
        "areum = Human()     # areum 변수로 바인딩\n",
        "\n",
        "print(areum)"
      ],
      "metadata": {
        "id": "oI90JO02afAG",
        "colab": {
          "base_uri": "https://localhost:8080/"
        },
        "outputId": "7c40b0e2-789b-4a2b-fc33-3676f047da42"
      },
      "execution_count": null,
      "outputs": [
        {
          "output_type": "stream",
          "name": "stdout",
          "text": [
            "<__main__.Human object at 0x7f08fdf1cc70>\n"
          ]
        }
      ]
    },
    {
      "cell_type": "markdown",
      "source": [
        "04 클래스 생성자-1\n",
        "\n",
        "사람 (Human) 클래스에 \"응애응애\"를 출력하는 생성자를 추가하세요.\n",
        "\n",
        "```\n",
        ">>> areum = Human()\n",
        "응애응애\n",
        "```"
      ],
      "metadata": {
        "id": "67pPXX8VagWJ"
      }
    },
    {
      "cell_type": "code",
      "source": [
        "class Human :\n",
        "  def __init__(self) :\n",
        "    print(\"응애응애\")\n",
        "\n",
        "areum = Human()"
      ],
      "metadata": {
        "id": "hr8E_cnOagkY",
        "colab": {
          "base_uri": "https://localhost:8080/"
        },
        "outputId": "b8be40d8-3bbe-451d-dd51-4bd3fc6c666c"
      },
      "execution_count": null,
      "outputs": [
        {
          "output_type": "stream",
          "name": "stdout",
          "text": [
            "응애응애\n"
          ]
        }
      ]
    },
    {
      "cell_type": "markdown",
      "source": [
        "05 클래스 생성자-2\n",
        "\n",
        "사람 (Human) 클래스에 (이름, 나이, 성별)을 받는 생성자를 추가하세요.\n",
        "\n",
        "```\n",
        ">>> areum = Human(\"아름\", 25, \"여자\")\n",
        "```"
      ],
      "metadata": {
        "id": "zWISFsZ9ahKf"
      }
    },
    {
      "cell_type": "code",
      "source": [
        "class Human :\n",
        "  def __init__(self,name,age,sex) :\n",
        "    self.name = name\n",
        "    self.age = age\n",
        "    self.sex = sex\n",
        "\n",
        "areum = Human(\"아름\", 25, \"여자\")"
      ],
      "metadata": {
        "id": "7gLfZFbeakPw"
      },
      "execution_count": null,
      "outputs": []
    },
    {
      "cell_type": "markdown",
      "source": [
        "06 인스턴스 속성에 접근\n",
        "\n",
        "05에서 생성한 인스턴스의 이름, 나이, 성별을 출력하세요. 인스턴스 변수에 접근하여 값을 출력하면 됩니다.\n",
        "\n",
        "```\n",
        "이름: 조아름, 나이: 25, 성별: 여자\n",
        "```\n",
        "인스턴스 변수에 접근하여 값을 가져오는 예\n",
        "```\n",
        ">>> areum.age\n",
        "25\n",
        "```"
      ],
      "metadata": {
        "id": "Q2DlYxmXc0_y"
      }
    },
    {
      "cell_type": "code",
      "source": [
        "# Human 클래스 정의\n",
        "class Human :\n",
        "  def __init__(self,name,age,sex) : # 객체 초기화 메소드 init => 이름, 나이, 성별을 받음\n",
        "    self.name = name                # 생성되는 객체의 이름, 나이, 성별을 저장\n",
        "    self.age = age\n",
        "    self.sex = sex\n",
        "\n",
        "areum = Human(\"조아름\", 25, \"여자\")\n",
        "# => __init__(areum, '조아름', 25, '여자') => areum.name = '조아름', areum.age = 25, areum.sex = '여자'\n",
        "print(areum.name)\n",
        "print(areum.age)\n",
        "print(areum.sex)"
      ],
      "metadata": {
        "id": "RuW7cTz3c5XZ",
        "colab": {
          "base_uri": "https://localhost:8080/"
        },
        "outputId": "9c4d8c8d-b977-4f1c-dd13-69537864f58d"
      },
      "execution_count": null,
      "outputs": [
        {
          "output_type": "stream",
          "name": "stdout",
          "text": [
            "조아름\n",
            "25\n",
            "여자\n"
          ]
        }
      ]
    },
    {
      "cell_type": "markdown",
      "source": [
        "07 클래스 메소드 - 1\n",
        "\n",
        "사람 (Human) 클래스에서 이름, 나이, 성별을 출력하는 who() 메소드를 추가하세요.\n",
        "\n",
        "```\n",
        ">>> areum.who()\n",
        "이름: 조아름, 나이: 25, 성별: 여자\n",
        "```"
      ],
      "metadata": {
        "id": "3mznF32Yc6A2"
      }
    },
    {
      "cell_type": "code",
      "source": [
        "class Human :\n",
        "  def __init__(self,name,age,sex) :\n",
        "    self.name = name\n",
        "    self.age = age\n",
        "    self.sex = sex\n",
        "\n",
        "  def who(self) :\n",
        "    print(f'이름: {self.name}, 나이: {self.age}, 성별 : {self.sex}')\n",
        "\n",
        "areum = Human(\"조아름\", 25, \"여자\")\n",
        "areum.who()"
      ],
      "metadata": {
        "id": "rq6F_9Tbc8BS",
        "colab": {
          "base_uri": "https://localhost:8080/"
        },
        "outputId": "8e8412fc-c238-4982-9399-f25c2e27d5ed"
      },
      "execution_count": null,
      "outputs": [
        {
          "output_type": "stream",
          "name": "stdout",
          "text": [
            "이름: 조아름, 나이: 25, 성별 : 여자\n"
          ]
        }
      ]
    },
    {
      "cell_type": "markdown",
      "source": [
        "08 클래스 메소드 - 2\n",
        "\n",
        "사람 (Human) 클래스에 (이름, 나이, 성별)을 받는 setInfo 메소드를 추가하세요.\n",
        "\n",
        "```\n",
        ">>> areum = Human(\"모름\", 0, \"모름\")\n",
        ">>> areum.setInfo(\"아름\", 25, \"여자\")\n",
        "```"
      ],
      "metadata": {
        "id": "UjDuU-CWc_bB"
      }
    },
    {
      "cell_type": "code",
      "source": [
        "class Human :\n",
        "  def __init__(self,name,age,sex) :\n",
        "    self.name = name\n",
        "    self.age = age\n",
        "    self.sex = sex\n",
        "\n",
        "  def who(self) :\n",
        "    print(f'이름: {self.name}, 나이: {self.age}, 성별 : {self.sex}')\n",
        "\n",
        "  def setInfo(self,name,age,sex) :\n",
        "    self.name = name\n",
        "    self.age = age\n",
        "    self.sex = sex\n",
        "\n",
        "areum = Human(\"모름\", 0, \"모름\")\n",
        "areum.who()\n",
        "areum.setInfo(\"아름\", 25, \"여자\")\n",
        "areum.who()"
      ],
      "metadata": {
        "id": "Hmqu32YFdAOy",
        "colab": {
          "base_uri": "https://localhost:8080/"
        },
        "outputId": "000efe77-d2ff-45ae-db28-3e86595d5bcd"
      },
      "execution_count": null,
      "outputs": [
        {
          "output_type": "stream",
          "name": "stdout",
          "text": [
            "이름: 모름, 나이: 0, 성별 : 모름\n",
            "이름: 아름, 나이: 25, 성별 : 여자\n"
          ]
        }
      ]
    },
    {
      "cell_type": "markdown",
      "source": [
        "09 클래스 소멸자\n",
        "\n",
        "사람 (human) 클래스에 \"나의 죽음을 알리지 말라\"를 출력하는 소멸자를 추가하세요.\n",
        "\n",
        "```\n",
        ">>> areum = Human(\"아름\", 25, \"여자\")\n",
        ">>> del areum\n",
        "나의 죽음을 알리지 말라\n",
        "```"
      ],
      "metadata": {
        "id": "yPakC442dCrB"
      }
    },
    {
      "cell_type": "code",
      "source": [
        "# Human 클래스 정의\n",
        "class Human :\n",
        "  def __init__(self,name,age,sex) :\n",
        "    self.name = name\n",
        "    self.age = age\n",
        "    self.sex = sex\n",
        "\n",
        "  def who(self) :\n",
        "    print(f'이름: {self.name}, 나이: {self.age}, 성별 : {self.sex}')\n",
        "\n",
        "  def setInfo(self,name,age,sex) :\n",
        "    self.name = name\n",
        "    self.age = age\n",
        "    self.sex = sex\n",
        "\n",
        "  def __del__(self) :                 # Human 클래스로 생성된 인스턴스가 삭제될 경우 호출되는 메소드\n",
        "    print(\"나의 죽음을 알리지 말라\")\n",
        "\n",
        "areum = Human(\"아름\", 25, \"여자\")\n",
        "del areum"
      ],
      "metadata": {
        "id": "LpwJxdn0dj22",
        "colab": {
          "base_uri": "https://localhost:8080/"
        },
        "outputId": "cbb215b3-1e9f-488f-b25d-acd3dc009462"
      },
      "execution_count": null,
      "outputs": [
        {
          "output_type": "stream",
          "name": "stdout",
          "text": [
            "나의 죽음을 알리지 말라\n"
          ]
        }
      ]
    },
    {
      "cell_type": "markdown",
      "source": [
        "10 에러의 원인\n",
        "\n",
        "아래와 같은 에러가 발생한 원인에 대해 설명하세요.\n",
        "\n",
        "```\n",
        "class OMG : \n",
        "    def print() :\n",
        "        print(\"Oh my god\")\n",
        "\n",
        ">>> >>> myStock = OMG()\n",
        ">>> myStock.print()\n",
        "TypeError Traceback (most recent call last)\n",
        "<ipython-input-233-c85c04535b22> in <module>()\n",
        "----> myStock.print()\n",
        "\n",
        "TypeError: print() takes 0 positional arguments but 1 was given\n",
        "```\n",
        "\n",
        "※ myStock.print()  =   OMG.instance(myStock)"
      ],
      "metadata": {
        "id": "4D8wvGRSdlBU"
      }
    },
    {
      "cell_type": "code",
      "source": [
        "#클래스 내부 함수를 정의할때 self를 작성하지 않아 에러가 발생"
      ],
      "metadata": {
        "id": "MkgsAPBhdxLA"
      },
      "execution_count": null,
      "outputs": []
    },
    {
      "cell_type": "markdown",
      "source": [
        "11 Stock 클래스 생성\n",
        "\n",
        "주식 종목에 대한 정보를 저장하는 Stock 클래스를 정의해보세요. 클래스는 속성과 메서드를 갖고 있지 않습니다."
      ],
      "metadata": {
        "id": "qzVenhRnd3eT"
      }
    },
    {
      "cell_type": "code",
      "source": [
        "class Stock :\n",
        "  pass"
      ],
      "metadata": {
        "id": "PCIoLMXVd4kH"
      },
      "execution_count": null,
      "outputs": []
    },
    {
      "cell_type": "markdown",
      "source": [
        "12 생성자\n",
        "\n",
        "Stock 클래스의 객체가 생성될 때 종목명과 종목코드를 입력 받을 수 있도록 생성자를 정의해보세요.\n",
        "\n",
        "```\n",
        "삼성 = Stock(\"삼성전자\", \"005930\")\n",
        "```"
      ],
      "metadata": {
        "id": "GulDFifPd6An"
      }
    },
    {
      "cell_type": "code",
      "source": [
        "# Stock 클래스 정의\n",
        "class Stock :\n",
        "  def __init__(self,name,code) :  # 종목명, 코드를 받아서 인스턴스를 생성\n",
        "    self.name = name\n",
        "    self.code = code\n",
        "\n",
        "삼성 = Stock(\"삼성전자\", \"005930\") # 삼성.name = '삼성전자', 삼성.code = '005930'"
      ],
      "metadata": {
        "id": "44Q5oz7_d-rX"
      },
      "execution_count": null,
      "outputs": []
    },
    {
      "cell_type": "markdown",
      "source": [
        "13 메서드\n",
        "\n",
        "객체에 종목명을 입력할 수 있는 set_name 메서드를 추가해보세요.\n",
        "\n",
        "```\n",
        "a = Stock(None, None)\n",
        "a.set_name(\"삼성전자\")\n",
        "```"
      ],
      "metadata": {
        "id": "emrLKq-wd_wd"
      }
    },
    {
      "cell_type": "code",
      "source": [
        "class Stock :\n",
        "  def __init__(self,name,code) :\n",
        "    self.name = name\n",
        "    self.code = code\n",
        "  \n",
        "  def set_name(self,name) :\n",
        "    self.name = name\n",
        "\n",
        "a = Stock(None, None)\n",
        "a.set_name(\"삼성전자\")\n",
        "print(a.name)"
      ],
      "metadata": {
        "id": "5u__CrZKeDZX",
        "colab": {
          "base_uri": "https://localhost:8080/"
        },
        "outputId": "f6bb4a17-0397-43ad-9e3f-e4113c635302"
      },
      "execution_count": null,
      "outputs": [
        {
          "output_type": "stream",
          "name": "stdout",
          "text": [
            "삼성전자\n"
          ]
        }
      ]
    },
    {
      "cell_type": "markdown",
      "source": [
        "14 메서드\n",
        "\n",
        "객체에 종목코드를 입력할 수 있는 set_code 메서드를 추가해보세요.\n",
        "```\n",
        "a = Stock(None, None)\n",
        "a.set_code(\"005930\")\n",
        "```"
      ],
      "metadata": {
        "id": "eKbMlQV9eD4O"
      }
    },
    {
      "cell_type": "code",
      "source": [
        "class Stock :\n",
        "  def __init__(self,name,code) :\n",
        "    self.name = name\n",
        "    self.code = code\n",
        "  \n",
        "  def set_name(self,name) :\n",
        "    self.name = name\n",
        "\n",
        "  def set_code(self,code) :\n",
        "    self.code = code\n",
        "\n",
        "a = Stock(None, None)\n",
        "a.set_code(\"005930\")\n",
        "print(a.code)"
      ],
      "metadata": {
        "id": "X2Ugp0i2eF93",
        "colab": {
          "base_uri": "https://localhost:8080/"
        },
        "outputId": "7caf8801-30be-498c-c801-d8db06d049f3"
      },
      "execution_count": null,
      "outputs": [
        {
          "output_type": "stream",
          "name": "stdout",
          "text": [
            "005930\n"
          ]
        }
      ]
    },
    {
      "cell_type": "markdown",
      "source": [
        "15 메서드\n",
        "\n",
        "종목명과 종목코드를 리턴하는 get_name, get_code 메서드를 추가하세요. 해당 메서드를 사용하여 종목명과 종목코드를 얻고 이를 출력해보세요.\n",
        "```\n",
        "삼성 = Stock(\"삼성전자\", \"005930\")\n",
        "```"
      ],
      "metadata": {
        "id": "0LoqT2w_eJU_"
      }
    },
    {
      "cell_type": "code",
      "source": [
        "class Stock :\n",
        "  def __init__(self,name,code) :\n",
        "    self.name = name\n",
        "    self.code = code\n",
        "  \n",
        "  def set_name(self,name) :\n",
        "    self.name = name\n",
        "\n",
        "  def set_code(self,code) :\n",
        "    self.code = code\n",
        "\n",
        "  def get_name(self) :  # 인스턴스.get_name() => 인스턴스.name을 리턴\n",
        "    return self.name\n",
        "\n",
        "  def get_code(self) :  # 인스턴스.get_code() => 인스턴스.code를 리턴\n",
        "    return self.code\n",
        "\n",
        "삼성 = Stock(\"삼성전자\", \"005930\")    # 삼성.name = '삼성전자', 삼성.code = '005930' 저장\n",
        "print(\"종목명 :\", 삼성.get_name()) # 삼성.get_name() => 삼성.name = '삼성전자' 리턴\n",
        "print(\"종목코드 :\", 삼성.get_code()) # 삼성.get_code() => 삼성.code = '005930' 리턴"
      ],
      "metadata": {
        "id": "6tMXAg26eL0G",
        "colab": {
          "base_uri": "https://localhost:8080/"
        },
        "outputId": "dd9805e7-b8bf-48d4-8ebf-50ea60a1ae0e"
      },
      "execution_count": null,
      "outputs": [
        {
          "output_type": "stream",
          "name": "stdout",
          "text": [
            "종목명 : 삼성전자\n",
            "종목코드 : 005930\n"
          ]
        }
      ]
    },
    {
      "cell_type": "markdown",
      "source": [
        "16 객체의 속성값 업데이트\n",
        "\n",
        "생성자에서 종목명, 종목코드, PER, PBR, 배당수익률을 입력 받을 수 있도록 생성자를 수정하세요. PER, PBR, 배당수익률은 float 타입입니다."
      ],
      "metadata": {
        "id": "jV8JgGJBeNHM"
      }
    },
    {
      "cell_type": "code",
      "source": [
        "class Stock :\n",
        "  def __init__(self,name,code, per, pbr, dividend) :\n",
        "    self.name = name\n",
        "    self.code = code\n",
        "    self.per = float(per)\n",
        "    self.pbr = float(pbr)\n",
        "    self.dividend = float(dividend)\n"
      ],
      "metadata": {
        "id": "24_Fggf7eSst"
      },
      "execution_count": null,
      "outputs": []
    },
    {
      "cell_type": "markdown",
      "source": [
        "17 객체 생성\n",
        "\n",
        "16번에서 정의한 생성자를 통해 다음 정보를 갖는 객체를 생성해보세요.\n",
        "\n",
        "![image.png](data:image/png;base64,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)"
      ],
      "metadata": {
        "id": "xPoEjf9reTjd"
      }
    },
    {
      "cell_type": "code",
      "source": [
        "class Stock :\n",
        "  def __init__(self,name,code, per, pbr, dividend) :\n",
        "    self.name = name\n",
        "    self.code = code\n",
        "    self.per = float(per)\n",
        "    self.pbr = float(pbr)\n",
        "    self.dividend = float(dividend)\n",
        "\n",
        "a = Stock(\"삼성전자\", '005930', 15.79, 1.33, 2.83)"
      ],
      "metadata": {
        "id": "gINUml10eax9"
      },
      "execution_count": null,
      "outputs": []
    },
    {
      "cell_type": "markdown",
      "source": [
        "18 객체의 속성 수정\n",
        "\n",
        "PER, PBR, 배당수익률은 변경될 수 있는 값입니다. 이 값을 변경할 때 사용하는 set_per, set_pbr, set_dividend 메서드를 추가하세요."
      ],
      "metadata": {
        "id": "kU3Vi7MVefTq"
      }
    },
    {
      "cell_type": "code",
      "source": [
        "class Stock :\n",
        "  def __init__(self,name,code, per, pbr, dividend) :\n",
        "    self.name = name\n",
        "    self.code = code\n",
        "    self.per = float(per)\n",
        "    self.pbr = float(pbr)\n",
        "    self.dividend = float(dividend)\n",
        "\n",
        "  def set_per(self, per) :    # 인스턴스.set_per(값) 실행 => 인스턴스.per = 값 으로 변경되어 저장\n",
        "    self.per = per\n",
        "\n",
        "  def set_pbr(self, pbr) :    # 인스턴스.set_pbr(값) 실행 => 인스턴스.pbr = 값 으로 변경되어 저장\n",
        "    self.pbr = pbr\n",
        "\n",
        "  def set_dividend(self, dividend) :   # 인스턴스.set_dividend(값) 실행 => 인스턴스.dividend = 값 으로 변경되어 저장\n",
        "    self.dividend = dividend"
      ],
      "metadata": {
        "id": "0QRxjVLEeh-9"
      },
      "execution_count": null,
      "outputs": []
    },
    {
      "cell_type": "markdown",
      "source": [
        "19 객체의 속성 수정\n",
        "\n",
        "17번에서 생성한 객체에 set_per 메서드를 호출하여 per 값을 12.75로 수정해보세요."
      ],
      "metadata": {
        "id": "22SGXsEWeiT-"
      }
    },
    {
      "cell_type": "code",
      "source": [
        "class Stock :\n",
        "  def __init__(self,name,code, per, pbr, dividend) :\n",
        "    self.name = name\n",
        "    self.code = code\n",
        "    self.per = float(per)\n",
        "    self.pbr = float(pbr)\n",
        "    self.dividend = float(dividend)\n",
        "\n",
        "  def set_per(self, per) :\n",
        "    self.per = per\n",
        "\n",
        "  def set_pbr(self, pbr) :\n",
        "    self.pbr = pbr\n",
        "\n",
        "  def set_dividend(self, dividend) :\n",
        "    self.dividend = dividend\n",
        "\n",
        "a = Stock(\"삼성전자\", '005930', 15.79, 1.33, 2.83)\n",
        "print(a.per)\n",
        "a.set_per(12.75)\n",
        "print(a.per)"
      ],
      "metadata": {
        "id": "YhNfftObekBd",
        "colab": {
          "base_uri": "https://localhost:8080/"
        },
        "outputId": "c2f5cb6b-cd59-4659-bb28-b4b6c7d33b81"
      },
      "execution_count": null,
      "outputs": [
        {
          "output_type": "stream",
          "name": "stdout",
          "text": [
            "15.79\n",
            "12.75\n"
          ]
        }
      ]
    },
    {
      "cell_type": "markdown",
      "source": [
        "20 여러 종목의 객체 생성\n",
        "\n",
        "아래의 표를 참조하여 3종목에 대해 객체를 생성하고 이를 파이썬 리스트에 저장하세요. 파이썬 리스트에 저장된 각 종목에 대해 for 루프를 통해 종목코드와 PER을 출력해보세요.\n",
        "\n",
        "![image.png](data:image/png;base64,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)"
      ],
      "metadata": {
        "id": "zUp56JUrerRP"
      }
    },
    {
      "cell_type": "code",
      "source": [
        "class Stock :\n",
        "  def __init__(self,name,code, per, pbr, dividend) :\n",
        "    self.name = name\n",
        "    self.code = code\n",
        "    self.per = float(per)\n",
        "    self.pbr = float(pbr)\n",
        "    self.dividend = float(dividend)\n",
        "\n",
        "  def set_per(self, per) :\n",
        "    self.per = per\n",
        "\n",
        "  def set_pbr(self, pbr) :\n",
        "    self.pbr = pbr\n",
        "\n",
        "  def set_dividend(self, dividend) :\n",
        "    self.dividend = dividend\n",
        "\n",
        "a = Stock('삼성전자', '005930', 15.79, 1.33, 2.83)\n",
        "b = Stock('현대차', '005380', 8.70, 0.35, 4.27)\n",
        "c = Stock('LG전자', '066570', 317.34, 0.69, 1.37)\n",
        "alist = [a,b,c]\n",
        "\n",
        "for i in alist :\n",
        "  print(\"종목코드:\",i.code,\"PER:\",i.per)"
      ],
      "metadata": {
        "id": "ZVgjs_GAexVM",
        "colab": {
          "base_uri": "https://localhost:8080/"
        },
        "outputId": "041edbdc-9289-4322-c1b0-c22271b3e533"
      },
      "execution_count": null,
      "outputs": [
        {
          "output_type": "stream",
          "name": "stdout",
          "text": [
            "종목코드: 005930 PER: 15.79\n",
            "종목코드: 005380 PER: 8.7\n",
            "종목코드: 066570 PER: 317.34\n"
          ]
        }
      ]
    },
    {
      "cell_type": "markdown",
      "source": [
        "21 \n",
        "\n",
        "name, balance, bank를 속성으로 갖는 객체를 만드는 Account 클래스를 만드세요."
      ],
      "metadata": {
        "id": "4QVy64YGfQwR"
      }
    },
    {
      "cell_type": "code",
      "source": [
        "# Account 클래스 정의\n",
        "class Account :\n",
        "  def __init__(self,name,balance,bank) :  # 인스턴스 생성시 이름, 잔고, 은행을 받는다\n",
        "    self.name = name\n",
        "    self.balance = balance\n",
        "    self.bank = bank"
      ],
      "metadata": {
        "id": "zPvCfAQbfvnD"
      },
      "execution_count": null,
      "outputs": []
    },
    {
      "cell_type": "markdown",
      "source": [
        "22 클래스 변수\n",
        "\n",
        "클래스 변수를 사용해서 Account 클래스로부터 생성된 계좌 객체의 개수를 저장하세요."
      ],
      "metadata": {
        "id": "xqX5iANie19v"
      }
    },
    {
      "cell_type": "code",
      "source": [
        "class Account :\n",
        "  count = 0  # 클래스 변수\n",
        "  def __init__(self,name,balance,bank) :\n",
        "    self.name = name\n",
        "    self.balance = balance\n",
        "    self.bank = bank\n",
        "    Account.count += 1  # 인스턴스 생성시 클래스변수 count가 1씩 증가\n",
        "    "
      ],
      "metadata": {
        "id": "XA_-FWhRe8zc"
      },
      "execution_count": null,
      "outputs": []
    },
    {
      "cell_type": "markdown",
      "source": [
        "23 클래스 변수 출력\n",
        "\n",
        "Account 클래스로부터 생성된 계좌의 개수를 출력하는 get_account_num() 메서드를 추가하세요."
      ],
      "metadata": {
        "id": "WsY0LqrffAPX"
      }
    },
    {
      "cell_type": "code",
      "source": [
        "class Account :\n",
        "  count = 0\n",
        "  def __init__(self,name,balance,bank) :\n",
        "    self.name = name\n",
        "    self.balance = balance\n",
        "    self.bank = bank\n",
        "    Account.count += 1\n",
        "\n",
        "  def get_account_num(self) :\n",
        "    return Account.count\n",
        "\n",
        "kskAccount = Account('ksk', 30000, '카카오')\n",
        "print(kskAccount.get_account_num())"
      ],
      "metadata": {
        "id": "jZJWvvTlfBQO",
        "colab": {
          "base_uri": "https://localhost:8080/"
        },
        "outputId": "c2f438ba-e836-4ca7-c2bd-0521e6d7f7aa"
      },
      "execution_count": null,
      "outputs": [
        {
          "output_type": "stream",
          "name": "stdout",
          "text": [
            "1\n"
          ]
        }
      ]
    },
    {
      "cell_type": "markdown",
      "source": [
        "24 입금 메서드\n",
        "\n",
        "Account 클래스에 입금을 위한 deposit 메서드를 추가하세요. 입금은 최소 1원 이상만 가능합니다."
      ],
      "metadata": {
        "id": "u6atU2JCfBtf"
      }
    },
    {
      "cell_type": "code",
      "source": [
        "# Account 클래스 정의\n",
        "class Account :\n",
        "  count = 0   # 클래스 변수\n",
        "  def __init__(self,name,balance,bank) :\n",
        "    self.name = name\n",
        "    self.balance = balance\n",
        "    self.bank = bank\n",
        "    Account.count += 1    # 인스턴스 생성마다 클래스 변수 count가 1씩 증가\n",
        "\n",
        "  def get_account_num(self) :\n",
        "    return Account.count\n",
        "\n",
        "  def deposit(self, money) :  # 인스턴스.deposit(금액)\n",
        "    if money > 0 :                # 입력된 금액이 0보다 커야 실행\n",
        "      print(\"입금되었습니다.\")    # 입금되었습니다 출력\n",
        "      self.balance += money       # 기존 잔고 + 입금액으로 잔고 수정\n",
        "    else :\n",
        "      print(\"입금은 최소 1원 이상 가능합니다.\") # 입력된 금액이 1보다 작을 경우 출력되는 메세지\n",
        "\n",
        "kskAccount = Account('ksk', 30000, '카카오')\n",
        "kskAccount.deposit(20000)\n",
        "print(kskAccount.balance)"
      ],
      "metadata": {
        "id": "8TFBNkpIfFlb",
        "colab": {
          "base_uri": "https://localhost:8080/"
        },
        "outputId": "a6ca5c86-b3ec-4ed6-ea06-995a12ba1142"
      },
      "execution_count": null,
      "outputs": [
        {
          "output_type": "stream",
          "name": "stdout",
          "text": [
            "50000\n"
          ]
        }
      ]
    },
    {
      "cell_type": "markdown",
      "source": [
        "25 출금 메서드\n",
        "\n",
        "Account 클래스에 출금을 위한 withdraw 메서드를 추가하세요. 출금은 계좌의 잔고 이상으로 출금할 수는 없습니다."
      ],
      "metadata": {
        "id": "KnFQ9Za7fop5"
      }
    },
    {
      "cell_type": "code",
      "source": [
        "class Account :\n",
        "  count = 0\n",
        "  def __init__(self,name,balance,bank) :\n",
        "    self.name = name\n",
        "    self.balance = balance\n",
        "    self.bank = bank\n",
        "    Account.count += 1\n",
        "    self.number = Account.count\n",
        "\n",
        "  def get_account_num(self) :\n",
        "    return self.number\n",
        "\n",
        "  def deposit(self, money) :\n",
        "    if money > 0 :\n",
        "      self.balance += money\n",
        "    else :\n",
        "      print(\"입금은 최소 1원 이상 가능합니다.\")\n",
        "\n",
        "  def withdraw(self, money) :\n",
        "    if money < self.balance :\n",
        "      self.balance -= money\n",
        "    else : \n",
        "      print(\"잔고보다 많은 금액입니다.\")\n",
        "\n",
        "\n",
        "kskAccount = Account('ksk', 30000, '카카오')\n",
        "kskAccount.withdraw(50000)"
      ],
      "metadata": {
        "id": "OqE_PgDffrP6",
        "colab": {
          "base_uri": "https://localhost:8080/"
        },
        "outputId": "6857f3a8-47fc-466b-a8bb-1d3d3da9391c"
      },
      "execution_count": null,
      "outputs": [
        {
          "output_type": "stream",
          "name": "stdout",
          "text": [
            "잔고보다 많은 금액입니다.\n"
          ]
        }
      ]
    },
    {
      "cell_type": "markdown",
      "source": [
        "26 정보 출력 메서드\n",
        "\n",
        "Account 인스턴스에 저장된 정보를 출력하는 display_info() 메서드를 추가하세요. \n",
        "\n",
        "```\n",
        "은행이름: SC은행\n",
        "예금주: 파이썬\n",
        "잔고: 10,000원\n",
        "```"
      ],
      "metadata": {
        "id": "49zhaqGxfrvm"
      }
    },
    {
      "cell_type": "code",
      "source": [
        "class Account :\n",
        "  count = 0\n",
        "  def __init__(self,name,balance,bank) :\n",
        "    self.name = name\n",
        "    self.balance = balance\n",
        "    self.bank = bank\n",
        "    Account.count += 1\n",
        "\n",
        "  def get_account_num(self) :\n",
        "    return self.number\n",
        "\n",
        "  def deposit(self, money) :\n",
        "    if money > 0 :\n",
        "      self.balance += money\n",
        "    else :\n",
        "      print(\"입금은 최소 1원 이상 가능합니다.\")\n",
        "\n",
        "  def withdraw(self, money) :\n",
        "    if money < self.balance :\n",
        "      self.balance -= money\n",
        "    else : \n",
        "      print(\"잔고보다 많은 금액입니다.\")\n",
        "\n",
        "  def display_info(self) :\n",
        "    print(\"은행이름 :\", self.bank)\n",
        "    print(\"예금주 :\", self.name)\n",
        "    print(\"잔고:\", self.balance)\n",
        "\n",
        "a = Account('파이썬',10000,'SC은행')\n",
        "a.display_info()"
      ],
      "metadata": {
        "id": "5NUCRVVGf3xx",
        "colab": {
          "base_uri": "https://localhost:8080/"
        },
        "outputId": "ace5d442-86c0-41a3-f970-6b7956258159"
      },
      "execution_count": null,
      "outputs": [
        {
          "output_type": "stream",
          "name": "stdout",
          "text": [
            "은행이름 : SC은행\n",
            "예금주 : 파이썬\n",
            "잔고: 10000\n"
          ]
        }
      ]
    },
    {
      "cell_type": "markdown",
      "source": [
        "27 이자 지급하기\n",
        "\n",
        "입금 횟수가 5회가 될 때 잔고를 기준으로 1%의 이자가 잔고에 추가되도록 코드를 변경해보세요."
      ],
      "metadata": {
        "id": "gwZdEEJ0f5k8"
      }
    },
    {
      "cell_type": "code",
      "source": [
        "# Account 클래스 정의\n",
        "class Account :\n",
        "  count = 0\n",
        "  def __init__(self,name,balance,bank) :\n",
        "    self.name = name\n",
        "    self.balance = balance\n",
        "    self.bank = bank\n",
        "    Account.count += 1\n",
        "    self.deposit_count = 0\n",
        "  \n",
        "  def deposit(self, money) :          # 입금 메소드 deposit\n",
        "    self.deposit_count += 1           # 인스턴스.deposit(금액)이 실행될 경우 deposit_count가 1씩 증가\n",
        "    if money > 0 :                    # 금액이 1 이상일 경우 실행\n",
        "      self.balance += money           # 기존 잔고 + 입금액 으로 잔고 수정\n",
        "      if self.deposit_count == 5 :    # deposit_count가 5가 될 경우 실행\n",
        "        self.balance *= 1.01          # 기존 잔고 * 1.01 로 잔고 수정 [1% 이자가 잔고에 추가]\n",
        "        self.deposit_count = 0        # deposit_count를 다시 0으로 변경 [입금 5회마다 실행될수 있도록]\n",
        "    else :\n",
        "      print(\"입금은 최소 1원 이상 가능합니다.\")\n",
        "\n",
        "a = Account('파이썬',10000,'SC은행')\n",
        "a.deposit(10)\n",
        "a.deposit(10)\n",
        "a.deposit(10)\n",
        "a.deposit(10)\n",
        "a.deposit(10)\n",
        "a.balance"
      ],
      "metadata": {
        "id": "cCEHzqi0f6pJ",
        "colab": {
          "base_uri": "https://localhost:8080/"
        },
        "outputId": "36d356a9-32e0-4746-ccc1-a81a9b0214cb"
      },
      "execution_count": null,
      "outputs": [
        {
          "output_type": "execute_result",
          "data": {
            "text/plain": [
              "10150.5"
            ]
          },
          "metadata": {},
          "execution_count": 60
        }
      ]
    },
    {
      "cell_type": "markdown",
      "source": [
        "28 여러 객체 생성\n",
        "\n",
        "Account 클래스로부터 3개 이상 인스턴스를 생성하고 생성된 인스턴스를 리스트에 저장해보세요."
      ],
      "metadata": {
        "id": "AubtkE8jf7NP"
      }
    },
    {
      "cell_type": "code",
      "source": [
        "class Account :\n",
        "  count = 1\n",
        "  d_count = 0\n",
        "  def __init__(self,name,balance,bank) :\n",
        "    self.name = name\n",
        "    self.balance = balance\n",
        "    self.bank = bank\n",
        "    Account.count += 1\n",
        "    self.deposit_count = 0\n",
        "\n",
        "a = Account('이승엽', 5000000, 'KB')\n",
        "b = Account('김재환', 2000000, '하나')\n",
        "c = Account('양의지', 150000, '카카오')\n",
        "\n",
        "slist = [a,b,c]"
      ],
      "metadata": {
        "id": "u6Bc1tFJf8zh"
      },
      "execution_count": null,
      "outputs": []
    },
    {
      "cell_type": "markdown",
      "source": [
        "29 객체 순회\n",
        "\n",
        "반복문을 통해 리스트에 있는 객체를 순회하면서 잔고가 100만원 이상인 고객의 정보만 출력하세요."
      ],
      "metadata": {
        "id": "b2kpPC5Qf-XQ"
      }
    },
    {
      "cell_type": "code",
      "source": [
        "class Account :\n",
        "  count = 0\n",
        "  def __init__(self,name,balance,bank) :\n",
        "    self.name = name\n",
        "    self.balance = balance\n",
        "    self.bank = bank\n",
        "    Account.count += 1\n",
        "    self.deposit_count = 0\n",
        "\n",
        "a = Account('이승엽', 5000000, 'KB')\n",
        "b = Account('김재환', 2000000, '하나')\n",
        "c = Account('양의지', 150000, '카카오')\n",
        "\n",
        "slist = [a,b,c]\n",
        "\n",
        "for i in slist :\n",
        "  if i.balance >= 1000000 :\n",
        "    print(i.name)"
      ],
      "metadata": {
        "id": "Yi5TXjS0f_FI",
        "colab": {
          "base_uri": "https://localhost:8080/"
        },
        "outputId": "796064a6-f213-4fd8-c03a-53d7bb9f6c6c"
      },
      "execution_count": null,
      "outputs": [
        {
          "output_type": "stream",
          "name": "stdout",
          "text": [
            "이승엽\n",
            "김재환\n"
          ]
        }
      ]
    },
    {
      "cell_type": "markdown",
      "source": [
        "30 입출금 내역\n",
        "\n",
        "입금과 출금 내역이 기록되도록 코드를 업데이트 하세요. 입금 내역과 출금 내역을 출력하는 deposit_history와 withdraw_history 메서드를 추가하세요.\n",
        "\n",
        "힌트: 리스트"
      ],
      "metadata": {
        "id": "i-biPeVOf_gT"
      }
    },
    {
      "cell_type": "code",
      "source": [
        "class Account :\n",
        "  count = 0\n",
        "  def __init__(self,name,balance,bank) :\n",
        "    self.name = name\n",
        "    self.balance = balance\n",
        "    self.bank = bank\n",
        "    Account.count += 1\n",
        "    self.deposit_count = 0\n",
        "    self.deposit_log = []       # 입금 내역 저장하는 빈 리스트 생성\n",
        "    self.withdraw_log = []      # 출금 내역 저장하는 빈 리스트 생성\n",
        "  \n",
        "  def get_account_num(self) :\n",
        "    return Account.count\n",
        "\n",
        "  def deposit(self, money) :  # 입금 메소드 deposit\n",
        "    if money > 0 :\n",
        "      self.deposit_log.append(f'{money}이 입금 됨') # 인스턴스.deposit(금액) => deposit_log 리스트에 '금액이 입금 됨' 이 추가\n",
        "      self.deposit_count += 1 # 입금 횟수 +1\n",
        "      self.balance += money   # 잔고 + 금액 => 잔고 수정\n",
        "\n",
        "      if self.deposit_count == 5 :  # 입금 횟수 5회 일때 실행\n",
        "        self.balance *= 1.01        # 잔고에 1프로의 이자가 쌓임\n",
        "        self.deposit_count = 0      # 입금 횟수 초기화 [5회마다 실행되도록 함]\n",
        "    else :\n",
        "      print(\"입금은 최소 1원 이상 가능합니다.\") # 입금액이 1원 미만일때 출력\n",
        "\n",
        "  def withdraw(self, money) : # 출금 메소드 withdraw\n",
        "    if money < self.balance : # 출금액이 잔고 보다 작을때 실행\n",
        "      self.withdraw_log.append(f'{money}이 출금 됨')  # 인스턴스.withdraw(금액) => withdraw_log 리스트에 '금액이 출금 됨'이 추가\n",
        "      self.balance -= money   # 잔고 - 금액 => 잔고 수정\n",
        "    else : \n",
        "      print(\"잔고보다 많은 금액입니다.\")  # 잔고보다 많은 금액으로 출금을 시도했을때 출력\n",
        "\n",
        "a = Account('이승엽', 5000000, 'KB')\n",
        "a.deposit(100)\n",
        "a.withdraw(500)\n",
        "\n",
        "print('입금기록', a.deposit_log)\n",
        "print('출금기록', a.withdraw_log)"
      ],
      "metadata": {
        "id": "OKEjxLEGgU2D",
        "colab": {
          "base_uri": "https://localhost:8080/"
        },
        "outputId": "30b8dc9b-b3e1-42be-8c63-abd1ee90f801"
      },
      "execution_count": null,
      "outputs": [
        {
          "output_type": "stream",
          "name": "stdout",
          "text": [
            "입금기록 ['100이 입금 됨']\n",
            "출금기록 ['500이 출금 됨']\n"
          ]
        }
      ]
    },
    {
      "cell_type": "markdown",
      "source": [
        "31 클래스 정의\n",
        "\n",
        "다음 코드가 동작하도록 차 클래스를 정의하세요.\n",
        "\n",
        "```\n",
        ">> car = 차(2, 1000)\n",
        ">> car.바퀴\n",
        "2\n",
        ">> car.가격\n",
        "1000\n",
        "```"
      ],
      "metadata": {
        "id": "Ylp3u1eagW1Z"
      }
    },
    {
      "cell_type": "code",
      "source": [
        "class 차 :\n",
        "  def __init__(self,바퀴,가격):\n",
        "    self.바퀴 = 바퀴\n",
        "    self.가격 = 가격\n",
        "\n",
        "car = 차(2, 1000)\n",
        "print(car.바퀴)\n",
        "print(car.가격)"
      ],
      "metadata": {
        "id": "8mTbFqU4gahv",
        "colab": {
          "base_uri": "https://localhost:8080/"
        },
        "outputId": "430e1edc-191c-40af-bdff-c5593ba2501c"
      },
      "execution_count": null,
      "outputs": [
        {
          "output_type": "stream",
          "name": "stdout",
          "text": [
            "2\n",
            "1000\n"
          ]
        }
      ]
    },
    {
      "cell_type": "markdown",
      "source": [
        "32 클래스 상속\n",
        "\n",
        "차 클래스를 상속받은 자전차 클래스를 정의하세요."
      ],
      "metadata": {
        "id": "FVMUospdga9v"
      }
    },
    {
      "cell_type": "code",
      "source": [
        "class 차 :\n",
        "  def __init__(self,바퀴,가격):\n",
        "    self.바퀴 = 바퀴\n",
        "    self.가격 = 가격\n",
        "\n",
        "class 자전차(차) :\n",
        "  pass"
      ],
      "metadata": {
        "id": "VJO5OKelgdG3"
      },
      "execution_count": null,
      "outputs": []
    },
    {
      "cell_type": "markdown",
      "source": [
        "33 클래스 상속\n",
        "다음 코드가 동작하도록 자전차 클래스를 정의하세요. 단 자전차 클래스는 차 클래스를 상속받습니다.\n",
        "\n",
        "```\n",
        ">> bicycle = 자전차(2, 100)\n",
        ">> bicycle.가격\n",
        "100\n",
        "```"
      ],
      "metadata": {
        "id": "w4F-7vCggdmX"
      }
    },
    {
      "cell_type": "code",
      "source": [
        "# 차 클래스 정의\n",
        "class 차 :\n",
        "  def __init__(self,바퀴,가격):\n",
        "    self.바퀴 = 바퀴\n",
        "    self.가격 = 가격\n",
        "\n",
        "# 차 클래스를 상속받는 자전차 클래스 정의\n",
        "class 자전차(차) :\n",
        "  def __init__(self,바퀴,가격):\n",
        "    super().__init__(바퀴,가격) \n",
        "\n",
        "# bicycle 인스턴스 생성\n",
        "bicycle = 자전차(2, 100)  # bicycle.바퀴 = 2, bicycle.가격 = 100 저장\n",
        "bicycle.가격"
      ],
      "metadata": {
        "id": "dKJe5VGigfgv",
        "colab": {
          "base_uri": "https://localhost:8080/"
        },
        "outputId": "816cccab-85f5-44e2-91a1-c1d871053744"
      },
      "execution_count": null,
      "outputs": [
        {
          "output_type": "execute_result",
          "data": {
            "text/plain": [
              "100"
            ]
          },
          "metadata": {},
          "execution_count": 70
        }
      ]
    },
    {
      "cell_type": "markdown",
      "source": [
        "34 클래스 상속\n",
        "\n",
        "다음 코드가 동작하도록 자전차 클래스를 정의하세요. 단 자전차 클래스는 차 클래스를 상속받습니다.\n",
        "\n",
        "```\n",
        ">> bicycle = 자전차(2, 100, \"시마노\")\n",
        ">> bicycle.구동계\n",
        "시마노\n",
        "```"
      ],
      "metadata": {
        "id": "_LbkCDFfglL_"
      }
    },
    {
      "cell_type": "code",
      "source": [
        "class 차 :\n",
        "  def __init__(self,바퀴,가격):\n",
        "    self.바퀴 = 바퀴\n",
        "    self.가격 = 가격\n",
        "\n",
        "class 자전차(차) :\n",
        "  def __init__(self,바퀴,가격,구동계):\n",
        "    super().__init__(바퀴,가격)\n",
        "    self.구동계 = 구동계\n",
        "\n",
        "bicycle = 자전차(2, 100, \"시마노\")\n",
        "bicycle.구동계"
      ],
      "metadata": {
        "id": "eesN9ZvQgpNP",
        "colab": {
          "base_uri": "https://localhost:8080/",
          "height": 35
        },
        "outputId": "7afd6a34-cad8-4142-dc47-54262a591d8e"
      },
      "execution_count": null,
      "outputs": [
        {
          "output_type": "execute_result",
          "data": {
            "text/plain": [
              "'시마노'"
            ],
            "application/vnd.google.colaboratory.intrinsic+json": {
              "type": "string"
            }
          },
          "metadata": {},
          "execution_count": 77
        }
      ]
    },
    {
      "cell_type": "markdown",
      "source": [
        "35 클래스 상속\n",
        "\n",
        "다음 코드가 동작하도록 차 클래스를 상속받는 자동차 클래스를 정의하세요.\n",
        "\n",
        "```\n",
        ">> car = 자동차(4, 1000)\n",
        ">> car.정보()\n",
        "바퀴수 4\n",
        "가격 1000\n",
        "```"
      ],
      "metadata": {
        "id": "SQZpnTPsgrse"
      }
    },
    {
      "cell_type": "code",
      "source": [
        "class 차 :\n",
        "  def __init__(self,바퀴,가격):\n",
        "    self.바퀴 = 바퀴\n",
        "    self.가격 = 가격\n",
        "\n",
        "class 자전차(차) :\n",
        "  def __init__(self,바퀴,가격,구동계):\n",
        "    super().__init__(바퀴,가격)\n",
        "    self.구동계 = 구동계\n",
        "\n",
        "class 자동차(차) :\n",
        "  def __init__(self,바퀴,가격):\n",
        "    super().__init__(바퀴,가격)\n",
        "  def 정보(self) :\n",
        "    print(\"바퀴수\",self.바퀴)\n",
        "    print(\"가격\", self.가격)\n",
        "\n",
        "car = 자동차(4, 1000)\n",
        "car.정보()"
      ],
      "metadata": {
        "id": "JZ4-lefXgrci",
        "colab": {
          "base_uri": "https://localhost:8080/"
        },
        "outputId": "f16d7390-d354-4dfc-883c-780d71669922"
      },
      "execution_count": null,
      "outputs": [
        {
          "output_type": "stream",
          "name": "stdout",
          "text": [
            "바퀴수 4\n",
            "가격 1000\n"
          ]
        }
      ]
    },
    {
      "cell_type": "markdown",
      "source": [
        "36 부모 클래스 생성자 호출\n",
        "\n",
        "다음 코드가 동작하도록 '차' 클래스를 수정하세요.\n",
        "\n",
        "```\n",
        ">> bicycle = 자전차(2, 100, \"시마노\")\n",
        ">> bicycle.정보()\n",
        "바퀴수 2\n",
        "가격 100\n",
        "```"
      ],
      "metadata": {
        "id": "zWwZ0rvXgwVE"
      }
    },
    {
      "cell_type": "code",
      "source": [
        "# 차 클래스 정의\n",
        "class 차 :\n",
        "  def __init__(self,바퀴,가격):\n",
        "    self.바퀴 = 바퀴\n",
        "    self.가격 = 가격\n",
        "\n",
        "# 차 클래스를 상속받는 자전차 클래스 정의\n",
        "class 자전차(차) :\n",
        "  def __init__(self,바퀴,가격,구동계):\n",
        "    super().__init__(바퀴,가격)     # 부모 클래스의 __init__() 통해 인스턴스.바퀴 = 바퀴, 인스턴스.가격 = 가격 저장 \n",
        "    self.구동계 = 구동계            # 인스턴스.구동계 = 구동계 저장\n",
        "  def 정보(self) :                  # 인스턴스.정보() 로 실행\n",
        "    print(\"바퀴수\",self.바퀴)           \n",
        "    print(\"가격\", self.가격)\n",
        "\n",
        "bicycle = 자전차(2, 100, \"시마노\")\n",
        "bicycle.정보()"
      ],
      "metadata": {
        "id": "wTZ14Hclg5g_",
        "colab": {
          "base_uri": "https://localhost:8080/"
        },
        "outputId": "433a8b88-cb22-4783-a407-0ef880c12159"
      },
      "execution_count": null,
      "outputs": [
        {
          "output_type": "stream",
          "name": "stdout",
          "text": [
            "바퀴수 2\n",
            "가격 100\n"
          ]
        }
      ]
    },
    {
      "cell_type": "markdown",
      "source": [
        "37 부모 클래스 메서드 호출\n",
        "\n",
        "'자전차의 정보() 메서드'로 구동계 정보까지 출력하도록 수정해보세요.\n",
        "\n",
        "```\n",
        ">> bicycle = 자전차(2, 100, \"시마노\")\n",
        ">> bicycle.정보()\n",
        "바퀴수 2\n",
        "가격 100\n",
        "구동계 시마노\n",
        "```"
      ],
      "metadata": {
        "id": "bRWhsJrsg7rD"
      }
    },
    {
      "cell_type": "code",
      "source": [
        "class 차 :\n",
        "  def __init__(self,바퀴,가격):\n",
        "    self.바퀴 = 바퀴\n",
        "    self.가격 = 가격\n",
        "\n",
        "class 자전차(차) :\n",
        "  def __init__(self,바퀴,가격,구동계):\n",
        "    super().__init__(바퀴,가격)\n",
        "    self.구동계 = 구동계\n",
        "  def 정보(self) :\n",
        "    print(\"바퀴수\",self.바퀴)\n",
        "    print(\"가격\", self.가격)\n",
        "    print(\"구동계\", self.구동계)\n",
        "\n",
        "bicycle = 자전차(2, 100, \"시마노\")\n",
        "bicycle.정보()"
      ],
      "metadata": {
        "id": "QOsmyUxPg-Gv",
        "colab": {
          "base_uri": "https://localhost:8080/"
        },
        "outputId": "bc96715c-d34f-4fb3-b9be-884d64189290"
      },
      "execution_count": null,
      "outputs": [
        {
          "output_type": "stream",
          "name": "stdout",
          "text": [
            "바퀴수 2\n",
            "가격 100\n",
            "구동계 시마노\n"
          ]
        }
      ]
    },
    {
      "cell_type": "markdown",
      "source": [
        "38 메서드 오버라이딩\n",
        "\n",
        "다음 코드의 실행 결과를 예상해보세요.\n",
        "\n",
        "```\n",
        "class 부모:\n",
        "  def 호출(self):\n",
        "    print(\"부모호출\")\n",
        "\n",
        "class 자식(부모):\n",
        "  def 호출(self):\n",
        "    print(\"자식호출\")\n",
        "나 = 자식()\n",
        "나.호출()\n",
        "```"
      ],
      "metadata": {
        "id": "MXBGuvJxhI9f"
      }
    },
    {
      "cell_type": "code",
      "source": [
        "#"
      ],
      "metadata": {
        "id": "R5wPDRVihLeu"
      },
      "execution_count": null,
      "outputs": []
    },
    {
      "cell_type": "markdown",
      "source": [
        "39 생성자\n",
        "\n",
        "다음 코드의 실행 결과를 예상해보세요.\n",
        "\n",
        "```\n",
        "class 부모:\n",
        "  def __init__(self):\n",
        "    print(\"부모생성\")\n",
        "\n",
        "class 자식(부모):\n",
        "  def __init__(self):\n",
        "    print(\"자식생성\")\n",
        "나 = 자식()\n",
        "```"
      ],
      "metadata": {
        "id": "Vi3Ax_iphObL"
      }
    },
    {
      "cell_type": "code",
      "source": [
        "# 나 = 자식() => 자식의 초기화 메소드 실행 => 자식생성 출력"
      ],
      "metadata": {
        "id": "bJTKl-qlhayt"
      },
      "execution_count": null,
      "outputs": []
    },
    {
      "cell_type": "markdown",
      "source": [
        "40 부모클래스 생성자 호출\n",
        "\n",
        "다음 코드의 실행 결과를 예상해보세요.\n",
        "\n",
        "```\n",
        "class 부모:\n",
        "  def __init__(self):\n",
        "    print(\"부모생성\")\n",
        "\n",
        "class 자식(부모):\n",
        "  def __init__(self):\n",
        "    print(\"자식생성\")\n",
        "    super().__init__()\n",
        "\n",
        "나 = 자식()\n",
        "```"
      ],
      "metadata": {
        "id": "ZWfsLYEBhcM2"
      }
    },
    {
      "cell_type": "code",
      "source": [
        "# 나 = 자식() => 자식의 초기화 메소드 실행 => 자식생성 출력\n",
        "# => 부모의 초기화 메소드 실행 => 부모생성 출력"
      ],
      "metadata": {
        "id": "jQBrS8fFhgDN"
      },
      "execution_count": null,
      "outputs": []
    }
  ]
}