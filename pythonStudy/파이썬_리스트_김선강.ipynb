{
  "nbformat": 4,
  "nbformat_minor": 0,
  "metadata": {
    "colab": {
      "provenance": []
    },
    "kernelspec": {
      "name": "python3",
      "display_name": "Python 3"
    },
    "language_info": {
      "name": "python"
    }
  },
  "cells": [
    {
      "cell_type": "markdown",
      "source": [
        "01 리스트 생성\n",
        "\n",
        "2016년 11월 영화 예매 순위 기준 top3는 다음과 같습니다. 영화 제목을 movie_rank 이름의 리스트에 저장해보세요. (순위 정보는 저장하지 않습니다.)\n",
        "\n",
        "![image.png](data:image/png;base64,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)"
      ],
      "metadata": {
        "id": "cnn7P_wjUG7b"
      }
    },
    {
      "cell_type": "code",
      "execution_count": null,
      "metadata": {
        "id": "oq0xXQ8WUFgW",
        "colab": {
          "base_uri": "https://localhost:8080/"
        },
        "outputId": "a33f6e20-dd51-452a-e2ed-59954742008a"
      },
      "outputs": [
        {
          "output_type": "stream",
          "name": "stdout",
          "text": [
            "['닥터 스트레인지', '스플릿', '럭키']\n"
          ]
        }
      ],
      "source": [
        "#movie_rank 리스트 생성\n",
        "movie_rank = ['닥터 스트레인지', '스플릿', '럭키']\n",
        "print(movie_rank)"
      ]
    },
    {
      "cell_type": "markdown",
      "source": [
        "02 리스트에 원소 추가\n",
        "\n",
        "01의 movie_rank 리스트에 \"배트맨\"을 추가하라."
      ],
      "metadata": {
        "id": "ZKDheVeVURbs"
      }
    },
    {
      "cell_type": "code",
      "source": [
        "movie_rank = ['닥터 스트레인지', '스플릿', '럭키']\n",
        "movie_rank.append('배트맨') #movie_rank 리스트에 배트맨 추가\n",
        "print(movie_rank)"
      ],
      "metadata": {
        "id": "I7ZkzXAOUShG",
        "colab": {
          "base_uri": "https://localhost:8080/"
        },
        "outputId": "1daa0a1f-9a09-40ff-ab48-6d42b91f334c"
      },
      "execution_count": null,
      "outputs": [
        {
          "output_type": "stream",
          "name": "stdout",
          "text": [
            "['닥터 스트레인지', '스플릿', '럭키', '배트맨']\n"
          ]
        }
      ]
    },
    {
      "cell_type": "markdown",
      "source": [
        "03\n",
        "\n",
        "movie_rank 리스트에는 아래와 같이 네 개의 영화 제목이 바인딩되어 있다. \"슈퍼맨\"을 \"닥터 스트레인지\"와 \"스플릿\" 사이에 추가하라.\n",
        "\n",
        "```\n",
        "movie_rank = ['닥터 스트레인지', '스플릿', '럭키', '배트맨']\n",
        "```"
      ],
      "metadata": {
        "id": "-235EqTRUTcK"
      }
    },
    {
      "cell_type": "code",
      "source": [
        "movie_rank = ['닥터 스트레인지', '스플릿', '럭키', '배트맨']\n",
        "movie_rank.insert(1,'슈퍼맨') # 리스트.insert(인덱스, 값) => 리스트에서 해당 인덱스에 원하는 값을 추가할 수 있다. 기존에 인덱스의 있던 값은 뒤로 밀린다.\n",
        "print(movie_rank)"
      ],
      "metadata": {
        "id": "50ERJ22rUXYj",
        "colab": {
          "base_uri": "https://localhost:8080/"
        },
        "outputId": "0ee1ba90-f8b3-4c08-aaae-de36f054e1a5"
      },
      "execution_count": null,
      "outputs": [
        {
          "output_type": "stream",
          "name": "stdout",
          "text": [
            "['닥터 스트레인지', '슈퍼맨', '스플릿', '럭키', '배트맨']\n"
          ]
        }
      ]
    },
    {
      "cell_type": "markdown",
      "source": [
        "04\n",
        "\n",
        "movie_rank 리스트에서 '럭키'를 삭제하라.\n",
        "\n",
        "```\n",
        "movie_rank = ['닥터 스트레인지', '슈퍼맨', '스플릿', '럭키', '배트맨']\n",
        "```"
      ],
      "metadata": {
        "id": "0c566GyUUX4U"
      }
    },
    {
      "cell_type": "code",
      "source": [
        "movie_rank = ['닥터 스트레인지', '슈퍼맨', '스플릿', '럭키', '배트맨']\n",
        "#pop 인덱스의 위치를 알고 있을때 사용\n",
        "#movie_rank.pop(3)\n",
        "print(movie_rank)\n",
        "\n",
        "#del로 인덱스를 삭제하는 방법\n",
        "#del movie_rank[3]\n",
        "\n",
        "#remove 인덱스는 모르고, 항목명을 이용하여 삭제\n",
        "movie_rank.remove('럭키')\n",
        "print(movie_rank)"
      ],
      "metadata": {
        "id": "d62VvLPSUbFy",
        "colab": {
          "base_uri": "https://localhost:8080/"
        },
        "outputId": "ee257a05-496c-469f-9632-8dfb1a52c6e5"
      },
      "execution_count": null,
      "outputs": [
        {
          "output_type": "stream",
          "name": "stdout",
          "text": [
            "['닥터 스트레인지', '슈퍼맨', '스플릿', '럭키', '배트맨']\n",
            "['닥터 스트레인지', '슈퍼맨', '스플릿', '배트맨']\n"
          ]
        }
      ]
    },
    {
      "cell_type": "markdown",
      "source": [
        "05\n",
        "movie_rank 리스트에서 '스플릿' 과 '배트맨'을 를 삭제하라.\n",
        "\n",
        "```\n",
        "movie_rank = ['닥터 스트레인지', '슈퍼맨', '스플릿', '배트맨']\n",
        "```"
      ],
      "metadata": {
        "id": "1-CkmZ1GUcOw"
      }
    },
    {
      "cell_type": "code",
      "source": [
        "movie_rank = ['닥터 스트레인지', '슈퍼맨', '스플릿', '배트맨']\n",
        "movie_rank.remove('스플릿')\n",
        "movie_rank.remove('배트맨')\n",
        "print(movie_rank)"
      ],
      "metadata": {
        "id": "vgBfBWSmUgxq",
        "colab": {
          "base_uri": "https://localhost:8080/"
        },
        "outputId": "16e6b246-c505-4ee2-94eb-2ec10a2c520d"
      },
      "execution_count": null,
      "outputs": [
        {
          "output_type": "stream",
          "name": "stdout",
          "text": [
            "['닥터 스트레인지', '슈퍼맨']\n"
          ]
        }
      ]
    },
    {
      "cell_type": "markdown",
      "source": [
        "06\n",
        "\n",
        "lang1과 lang2 리스트가 있을 때 lang1과 lang2의 원소를 모두 갖고 있는 langs 리스트를 만들어라.\n",
        "\n",
        "```\n",
        ">> lang1 = [\"C\", \"C++\", \"JAVA\"]\n",
        ">> lang2 = [\"Python\", \"Go\", \"C#\"]\n",
        "```\n",
        "```\n",
        "실행 예:\n",
        ">> langs\n",
        "['C', 'C++', 'JAVA', 'Python', 'Go', 'C#']\n",
        "```"
      ],
      "metadata": {
        "id": "dOBWWRA-UhLY"
      }
    },
    {
      "cell_type": "code",
      "source": [
        "lang1 = [\"C\", \"C++\", \"JAVA\"]\n",
        "lang2 = [\"Python\", \"Go\", \"C#\"]\n",
        "langs = lang1 + lang2 #리스트 + 리스트 => 리스트는 합치는 것이 가능하다\n",
        "print(langs)"
      ],
      "metadata": {
        "id": "y2E00IPiUmXC",
        "colab": {
          "base_uri": "https://localhost:8080/"
        },
        "outputId": "2a28e024-359c-4573-bb51-858e078212ef"
      },
      "execution_count": null,
      "outputs": [
        {
          "output_type": "stream",
          "name": "stdout",
          "text": [
            "['C', 'C++', 'JAVA', 'Python', 'Go', 'C#']\n"
          ]
        }
      ]
    },
    {
      "cell_type": "markdown",
      "source": [
        "07\n",
        "\n",
        "다음 리스트에서 최댓값과 최솟값을 출력하라. (힌트: min(), max() 함수 사용)\n",
        "\n",
        "```\n",
        "nums = [1, 2, 3, 4, 5, 6, 7]\n",
        "```\n",
        "```\n",
        "실행 예:\n",
        "max:  7\n",
        "min:  1\n",
        "```"
      ],
      "metadata": {
        "id": "niEUhcbTUmwN"
      }
    },
    {
      "cell_type": "code",
      "source": [
        "nums = [1, 2, 3, 4, 5, 6, 7]\n",
        "print('max:',max(nums))\n",
        "print('min:',min(nums))"
      ],
      "metadata": {
        "id": "bGvzp5SpUqqK",
        "colab": {
          "base_uri": "https://localhost:8080/"
        },
        "outputId": "61aeaa18-a6c8-4e60-94b8-50b8f162f3b7"
      },
      "execution_count": null,
      "outputs": [
        {
          "output_type": "stream",
          "name": "stdout",
          "text": [
            "max: 7\n",
            "min: 1\n"
          ]
        }
      ]
    },
    {
      "cell_type": "markdown",
      "source": [
        "08\n",
        "\n",
        "다음 리스트의 합을 출력하라.\n",
        "\n",
        "```\n",
        "nums = [1, 2, 3, 4, 5]\n",
        "```\n",
        "```\n",
        "실행 예:\n",
        "15\n",
        "```"
      ],
      "metadata": {
        "id": "qKnGLDvUUsIS"
      }
    },
    {
      "cell_type": "code",
      "source": [
        "nums = [1, 2, 3, 4, 5]\n",
        "sum(nums) #sum() 함수를 이용하면 리스트 내부의 합을 구할 수 있다."
      ],
      "metadata": {
        "id": "kWC3409OUudy",
        "colab": {
          "base_uri": "https://localhost:8080/"
        },
        "outputId": "30e9fe55-50fb-44d9-f216-f4e65805c457"
      },
      "execution_count": null,
      "outputs": [
        {
          "output_type": "execute_result",
          "data": {
            "text/plain": [
              "15"
            ]
          },
          "metadata": {},
          "execution_count": 23
        }
      ]
    },
    {
      "cell_type": "markdown",
      "source": [
        "09\n",
        "\n",
        "다음 리스트에 저장된 데이터의 개수를 화면에 구하하라.\n",
        "```\n",
        "cook = [\"피자\", \"김밥\", \"만두\", \"양념치킨\", \"족발\", \"피자\", \"김치만두\", \"쫄면\", \"소시지\", \"라면\", \"팥빙수\", \"김치전\"]\n",
        "```"
      ],
      "metadata": {
        "id": "X7KdjwsxUwuL"
      }
    },
    {
      "cell_type": "code",
      "source": [
        "cook = [\"피자\", \"김밥\", \"만두\", \"양념치킨\", \"족발\", \"피자\", \"김치만두\", \"쫄면\", \"소시지\", \"라면\", \"팥빙수\", \"김치전\"]\n",
        "len(cook) #len(리스트) 리스트의 크기를 구할 수 있다."
      ],
      "metadata": {
        "id": "8iVicbkoUz3h",
        "colab": {
          "base_uri": "https://localhost:8080/"
        },
        "outputId": "494fa02e-2993-4a9c-f603-0581490cafaf"
      },
      "execution_count": null,
      "outputs": [
        {
          "output_type": "execute_result",
          "data": {
            "text/plain": [
              "12"
            ]
          },
          "metadata": {},
          "execution_count": 25
        }
      ]
    },
    {
      "cell_type": "markdown",
      "source": [
        "10\n",
        "다음 리스트의 평균을 출력하라.\n",
        "\n",
        "```\n",
        "nums = [1, 2, 3, 4, 5]\n",
        "```\n",
        "```\n",
        "실행 예:\n",
        "3.0\n",
        "```"
      ],
      "metadata": {
        "id": "AFWS0x_ZU_ZK"
      }
    },
    {
      "cell_type": "code",
      "source": [
        "nums = [1, 2, 3, 4, 5]\n",
        "sum(nums)/len(nums)"
      ],
      "metadata": {
        "id": "2KC5MQZ_VCax",
        "colab": {
          "base_uri": "https://localhost:8080/"
        },
        "outputId": "24856b3a-f228-4c95-cc59-a51d22496253"
      },
      "execution_count": null,
      "outputs": [
        {
          "output_type": "execute_result",
          "data": {
            "text/plain": [
              "3.0"
            ]
          },
          "metadata": {},
          "execution_count": 26
        }
      ]
    },
    {
      "cell_type": "markdown",
      "source": [
        "11\n",
        "\n",
        "price 변수에는 날짜와 종가 정보가 저장돼 있다. 날짜 정보를 제외하고 가격 정보만을 출력하라. (힌트 : 슬라이싱)\n",
        "\n",
        "```\n",
        "price = ['20180728', 100, 130, 140, 150, 160, 170]\n",
        "```\n",
        "```\n",
        "출력 예시:\n",
        "[100, 130, 140, 150, 160, 170]\n",
        "```"
      ],
      "metadata": {
        "id": "tkU0YEt3VFD5"
      }
    },
    {
      "cell_type": "code",
      "source": [
        "price = ['20180728', 100, 130, 140, 150, 160, 170]\n",
        "print(price[1:])"
      ],
      "metadata": {
        "id": "jyRanf6AVHxA",
        "colab": {
          "base_uri": "https://localhost:8080/"
        },
        "outputId": "004c79ef-1eca-4566-c690-03982d85d8f0"
      },
      "execution_count": null,
      "outputs": [
        {
          "output_type": "stream",
          "name": "stdout",
          "text": [
            "[100, 130, 140, 150, 160, 170]\n"
          ]
        }
      ]
    },
    {
      "cell_type": "markdown",
      "source": [
        "12\n",
        "\n",
        "슬라이싱을 사용해서 홀수만 출력하라.\n",
        "\n",
        "```\n",
        "nums = [1, 2, 3, 4, 5, 6, 7, 8, 9, 10]\n",
        "```\n",
        "```\n",
        "실행 예:\n",
        "[1, 3, 5, 7, 9]\n",
        "```"
      ],
      "metadata": {
        "id": "xlRtjQrzVKLy"
      }
    },
    {
      "cell_type": "code",
      "source": [
        "#리스트 슬라이싱 => 리스트[시작:끝:스탭]\n",
        "nums = [1, 2, 3, 4, 5, 6, 7, 8, 9, 10]\n",
        "print(nums[::2]) #처음부터 끝까지 2스탭으로 출력 => [1,3,5,7,9] 홀수만 출력"
      ],
      "metadata": {
        "id": "wq00_aGnVNcf",
        "colab": {
          "base_uri": "https://localhost:8080/"
        },
        "outputId": "6ed76c53-e766-4a47-c545-d2d213b79c2a"
      },
      "execution_count": null,
      "outputs": [
        {
          "output_type": "stream",
          "name": "stdout",
          "text": [
            "[1, 3, 5, 7, 9]\n"
          ]
        }
      ]
    },
    {
      "cell_type": "markdown",
      "source": [
        "13\n",
        "\n",
        "슬라이싱을 사용해서 짝수만 출력하라.\n",
        "\n",
        "```\n",
        "nums = [1, 2, 3, 4, 5, 6, 7, 8, 9, 10]\n",
        "```\n",
        "```\n",
        "실행 예:\n",
        "[2, 4, 6, 8, 10]\n",
        "```"
      ],
      "metadata": {
        "id": "9u1vTYhIVN-l"
      }
    },
    {
      "cell_type": "code",
      "source": [
        "nums = [1, 2, 3, 4, 5, 6, 7, 8, 9, 10]\n",
        "print(nums[1::2])"
      ],
      "metadata": {
        "id": "Hu16RvgHVR0n",
        "colab": {
          "base_uri": "https://localhost:8080/"
        },
        "outputId": "4c5ef9da-cd1a-4257-f73b-cebf13bbc041"
      },
      "execution_count": null,
      "outputs": [
        {
          "output_type": "stream",
          "name": "stdout",
          "text": [
            "[2, 4, 6, 8, 10]\n"
          ]
        }
      ]
    },
    {
      "cell_type": "markdown",
      "source": [
        "14\n",
        "\n",
        "슬라이싱을 사용해서 리스트의 숫자를 역 방향으로 출력하라.\n",
        "\n",
        "```\n",
        "nums = [1, 2, 3, 4, 5]\n",
        "```\n",
        "```\n",
        "실행 예:\n",
        "[5, 4, 3, 2, 1]\n",
        "```"
      ],
      "metadata": {
        "id": "GTYLicWkVT4B"
      }
    },
    {
      "cell_type": "code",
      "source": [
        "nums = [1, 2, 3, 4, 5]\n",
        "print(nums[::-1])"
      ],
      "metadata": {
        "id": "TFEKHKbVVWb4",
        "colab": {
          "base_uri": "https://localhost:8080/"
        },
        "outputId": "e8fabefb-1d7f-4c10-c89c-5690a2d66bc0"
      },
      "execution_count": null,
      "outputs": [
        {
          "output_type": "stream",
          "name": "stdout",
          "text": [
            "[5, 4, 3, 2, 1]\n"
          ]
        }
      ]
    },
    {
      "cell_type": "markdown",
      "source": [
        "15\n",
        "\n",
        "interest 리스트에는 아래의 데이터가 바인딩되어 있다.\n",
        "\n",
        "```\n",
        "interest = ['삼성전자', 'LG전자', 'Naver']\n",
        "```\n",
        "interest 리스트를 사용하여 아래와 같이 화면에 출력하라.\n",
        "```\n",
        "출력 예시:\n",
        "삼성전자 Naver\n",
        "```"
      ],
      "metadata": {
        "id": "IO9KK15LVX2k"
      }
    },
    {
      "cell_type": "code",
      "source": [
        "interest = ['삼성전자', 'LG전자', 'Naver']\n",
        "#for i in range(0,len(interest),2):\n",
        "#  print(interest[i], end =\" \")\n",
        "\n",
        "# 파이썬 join 함수\n",
        "# '구분자'.join(리스트)\n",
        "\" \".join(interest[::2]) # 공백으로 interest 리스트를 2스탭으로 연결 => 삼성전자 Naver"
      ],
      "metadata": {
        "id": "6OISv8wFVbBH",
        "colab": {
          "base_uri": "https://localhost:8080/",
          "height": 35
        },
        "outputId": "026f3ad9-b9d5-431d-94dd-57644ba4cb91"
      },
      "execution_count": null,
      "outputs": [
        {
          "output_type": "execute_result",
          "data": {
            "text/plain": [
              "'삼성전자 Naver'"
            ],
            "application/vnd.google.colaboratory.intrinsic+json": {
              "type": "string"
            }
          },
          "metadata": {},
          "execution_count": 45
        }
      ]
    },
    {
      "cell_type": "markdown",
      "source": [
        "16 join 메서드\n",
        "\n",
        "interest 리스트에는 아래의 데이터가 바인딩되어 있다.\n",
        "```\n",
        "interest = ['삼성전자', 'LG전자', 'Naver', 'SK하이닉스', '미래에셋대우']\n",
        "```\n",
        "interest 리스트를 사용하여 아래와 같이 화면에 출력하라.\n",
        "```\n",
        "출력 예시:\n",
        "삼성전자 LG전자 Naver SK하이닉스 미래에셋대우\n",
        "```"
      ],
      "metadata": {
        "id": "czIMbQpPVctt"
      }
    },
    {
      "cell_type": "code",
      "source": [
        "interest = ['삼성전자', 'LG전자', 'Naver', 'SK하이닉스', '미래에셋대우']\n",
        "\n",
        "#for i in interest :\n",
        "#  print(i,end=\" \")\n",
        "\n",
        "\" \".join(interest)"
      ],
      "metadata": {
        "id": "hZPqNdgeVg6I",
        "colab": {
          "base_uri": "https://localhost:8080/",
          "height": 35
        },
        "outputId": "8933583a-3fd6-499e-e601-ec4ac76d7e8f"
      },
      "execution_count": null,
      "outputs": [
        {
          "output_type": "execute_result",
          "data": {
            "text/plain": [
              "'삼성전자 LG전자 Naver SK하이닉스 미래에셋대우'"
            ],
            "application/vnd.google.colaboratory.intrinsic+json": {
              "type": "string"
            }
          },
          "metadata": {},
          "execution_count": 42
        }
      ]
    },
    {
      "cell_type": "markdown",
      "source": [
        "17 join 메서드\n",
        "\n",
        "interest 리스트에는 아래의 데이터가 바인딩되어 있다.\n",
        "\n",
        "```\n",
        "interest = ['삼성전자', 'LG전자', 'Naver', 'SK하이닉스', '미래에셋대우']\n",
        "```\n",
        "interest 리스트를 사용하여 아래와 같이 화면에 출력하라.\n",
        "```\n",
        "출력 예시:\n",
        "삼성전자/LG전자/Naver/SK하이닉스/미래에셋대우\n",
        "```"
      ],
      "metadata": {
        "id": "JFpCd3UWVjRk"
      }
    },
    {
      "cell_type": "code",
      "source": [
        "interest = ['삼성전자', 'LG전자', 'Naver', 'SK하이닉스', '미래에셋대우']\n",
        "#for i in interest:\n",
        "#  print(i,end=\"/\")\n",
        "\"/\".join(interest)"
      ],
      "metadata": {
        "id": "qKGgrxGNVmiW",
        "colab": {
          "base_uri": "https://localhost:8080/",
          "height": 35
        },
        "outputId": "448000f7-708a-4d4e-e89a-72870e3875b9"
      },
      "execution_count": null,
      "outputs": [
        {
          "output_type": "execute_result",
          "data": {
            "text/plain": [
              "'삼성전자/LG전자/Naver/SK하이닉스/미래에셋대우'"
            ],
            "application/vnd.google.colaboratory.intrinsic+json": {
              "type": "string"
            }
          },
          "metadata": {},
          "execution_count": 44
        }
      ]
    },
    {
      "cell_type": "markdown",
      "source": [
        "18 join 메서드\n",
        "\n",
        "interest 리스트에는 아래의 데이터가 바인딩되어 있다.\n",
        "\n",
        "```\n",
        "interest = ['삼성전자', 'LG전자', 'Naver', 'SK하이닉스', '미래에셋대우']\n",
        "```\n",
        "join() 메서드를 사용해서 interest 리스트를 아래와 같이 화면에 출력하라.\n",
        "```\n",
        "출력 예시:\n",
        "삼성전자\n",
        "LG전자\n",
        "Naver\n",
        "SK하이닉스\n",
        "미래에셋대우\n",
        "```"
      ],
      "metadata": {
        "id": "bRYoCCxIVogQ"
      }
    },
    {
      "cell_type": "code",
      "source": [
        "# 파이썬 join 함수\n",
        "# '구분자'.join(리스트)\n",
        "interest = ['삼성전자', 'LG전자', 'Naver', 'SK하이닉스', '미래에셋대우']\n",
        "print(\"\\n\".join(interest)) # \\n(줄바꿈)하여 하나씩 출력됨"
      ],
      "metadata": {
        "id": "Ix0vdgofVsC_",
        "colab": {
          "base_uri": "https://localhost:8080/"
        },
        "outputId": "7f203540-b782-4e08-cd86-b644761f34d3"
      },
      "execution_count": null,
      "outputs": [
        {
          "output_type": "stream",
          "name": "stdout",
          "text": [
            "삼성전자\n",
            "LG전자\n",
            "Naver\n",
            "SK하이닉스\n",
            "미래에셋대우\n"
          ]
        }
      ]
    },
    {
      "cell_type": "markdown",
      "source": [
        "19 문자열 split 메서드\n",
        "\n",
        "회사 이름이 슬래시 ('/')로 구분되어 하나의 문자열로 저장되어 있다.\n",
        "```\n",
        "string = \"삼성전자/LG전자/Naver\"\n",
        "```\n",
        "이를 interest 이름의 리스트로 분리 저장하라.\n",
        "```\n",
        "실행 예시\n",
        ">> print(interest)\n",
        "['삼성전자', 'LG전자', 'Naver']\n",
        "```"
      ],
      "metadata": {
        "id": "ARg5AOlFVtsu"
      }
    },
    {
      "cell_type": "code",
      "source": [
        "# 문자열 split\n",
        "# 문자열.split('구분자') => 문자열을 구분자로 나눠서 리스트로 저장\n",
        "string = \"삼성전자/LG전자/Naver\"\n",
        "interest = string.split(\"/\")\n",
        "print(interest)"
      ],
      "metadata": {
        "id": "uzHyYCoNVwDX",
        "colab": {
          "base_uri": "https://localhost:8080/"
        },
        "outputId": "55b0750a-f433-4edc-a2dd-d81cc8486ebd"
      },
      "execution_count": null,
      "outputs": [
        {
          "output_type": "stream",
          "name": "stdout",
          "text": [
            "['삼성전자', 'LG전자', 'Naver']\n"
          ]
        }
      ]
    },
    {
      "cell_type": "markdown",
      "source": [
        "20 리스트 정렬\n",
        "\n",
        "리스트에 있는 값을 오름차순으로 정렬하세요.\n",
        "```\n",
        "data = [2, 4, 3, 1, 5, 10, 9]\n",
        "```"
      ],
      "metadata": {
        "id": "CZToTUTEWAmq"
      }
    },
    {
      "cell_type": "code",
      "source": [
        "data = [2, 4, 3, 1, 5, 10, 9]\n",
        "data.sort()\n",
        "print(data)\n",
        "data.sort(reverse=True)\n",
        "print(data)\n",
        "\n",
        "a = sorted(data)\n",
        "print(a)\n",
        "b = sorted(data, reverse=True)\n",
        "print(b)"
      ],
      "metadata": {
        "id": "VrmfovUwWDIG",
        "colab": {
          "base_uri": "https://localhost:8080/"
        },
        "outputId": "82e3d565-e9cf-4491-c27a-1a464778f025"
      },
      "execution_count": null,
      "outputs": [
        {
          "output_type": "stream",
          "name": "stdout",
          "text": [
            "[1, 2, 3, 4, 5, 9, 10]\n",
            "[10, 9, 5, 4, 3, 2, 1]\n",
            "[1, 2, 3, 4, 5, 9, 10]\n",
            "[10, 9, 5, 4, 3, 2, 1]\n"
          ]
        }
      ]
    }
  ]
}